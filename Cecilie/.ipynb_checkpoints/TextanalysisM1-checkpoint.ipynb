{
 "cells": [
  {
   "cell_type": "markdown",
   "metadata": {},
   "source": [
    "# Textanalysis"
   ]
  },
  {
   "cell_type": "code",
   "execution_count": 1,
   "metadata": {},
   "outputs": [
    {
     "name": "stderr",
     "output_type": "stream",
     "text": [
      "[nltk_data] Downloading package stopwords to\n",
      "[nltk_data]     C:\\Users\\cecil\\AppData\\Roaming\\nltk_data...\n",
      "[nltk_data]   Package stopwords is already up-to-date!\n",
      "[nltk_data] Downloading package vader_lexicon to\n",
      "[nltk_data]     C:\\Users\\cecil\\AppData\\Roaming\\nltk_data...\n",
      "[nltk_data]   Package vader_lexicon is already up-to-date!\n"
     ]
    }
   ],
   "source": [
    "from bs4 import BeautifulSoup\n",
    "import seaborn as sns\n",
    "import pandas as pd\n",
    "import numpy as np\n",
    "import nltk\n",
    "import requests\n",
    "import nltk, nltk.sentiment, sklearn\n",
    "import matplotlib\n",
    "import matplotlib.pyplot as plt\n",
    "import matplotlib.ticker as ticker\n",
    "\n",
    "%matplotlib inline\n",
    "name=nltk.corpus.names\n",
    "nltk.download('stopwords')\n",
    "\n",
    "\n",
    "nltk.download('vader_lexicon')\n",
    "vader=nltk.sentiment.vader.SentimentIntensityAnalyzer()\n",
    "from afinn import Afinn\n",
    "afinn = Afinn()"
   ]
  },
  {
   "cell_type": "code",
   "execution_count": 2,
   "metadata": {},
   "outputs": [
    {
     "ename": "FileNotFoundError",
     "evalue": "[Errno 2] File b'/Users/moritzschneider/Documents/Uni/Copenhagen/Social Data Science/Git Group/Group-31-SoDa/Data/movie_2.csv' does not exist: b'/Users/moritzschneider/Documents/Uni/Copenhagen/Social Data Science/Git Group/Group-31-SoDa/Data/movie_2.csv'",
     "output_type": "error",
     "traceback": [
      "\u001b[1;31m---------------------------------------------------------------------------\u001b[0m",
      "\u001b[1;31mFileNotFoundError\u001b[0m                         Traceback (most recent call last)",
      "\u001b[1;32m<ipython-input-2-159ffd43d3b7>\u001b[0m in \u001b[0;36m<module>\u001b[1;34m\u001b[0m\n\u001b[0;32m      1\u001b[0m \u001b[0mpath2data\u001b[0m\u001b[1;33m=\u001b[0m\u001b[1;34m'/Users/moritzschneider/Documents/Uni/Copenhagen/Social Data Science/Git Group/Group-31-SoDa/Data/movie_2.csv'\u001b[0m\u001b[1;33m\u001b[0m\u001b[1;33m\u001b[0m\u001b[0m\n\u001b[1;32m----> 2\u001b[1;33m \u001b[0mdone\u001b[0m\u001b[1;33m=\u001b[0m\u001b[0mpd\u001b[0m\u001b[1;33m.\u001b[0m\u001b[0mread_csv\u001b[0m\u001b[1;33m(\u001b[0m\u001b[0mpath2data\u001b[0m\u001b[1;33m)\u001b[0m\u001b[1;33m\u001b[0m\u001b[1;33m\u001b[0m\u001b[0m\n\u001b[0m\u001b[0;32m      3\u001b[0m \u001b[0mtext\u001b[0m\u001b[1;33m=\u001b[0m\u001b[0mdone\u001b[0m\u001b[1;33m[\u001b[0m\u001b[1;33m[\u001b[0m\u001b[1;34m'Female'\u001b[0m\u001b[1;33m,\u001b[0m\u001b[1;34m'd_Female'\u001b[0m\u001b[1;33m,\u001b[0m\u001b[1;34m'Summary'\u001b[0m\u001b[1;33m,\u001b[0m\u001b[1;34m'd_Drop'\u001b[0m\u001b[1;33m]\u001b[0m\u001b[1;33m]\u001b[0m\u001b[1;33m\u001b[0m\u001b[1;33m\u001b[0m\u001b[0m\n\u001b[0;32m      4\u001b[0m \u001b[0mtext\u001b[0m\u001b[1;33m.\u001b[0m\u001b[0mhead\u001b[0m\u001b[1;33m(\u001b[0m\u001b[1;36m1\u001b[0m\u001b[1;33m)\u001b[0m\u001b[1;33m\u001b[0m\u001b[1;33m\u001b[0m\u001b[0m\n",
      "\u001b[1;32m~\\Anaconda3\\lib\\site-packages\\pandas\\io\\parsers.py\u001b[0m in \u001b[0;36mparser_f\u001b[1;34m(filepath_or_buffer, sep, delimiter, header, names, index_col, usecols, squeeze, prefix, mangle_dupe_cols, dtype, engine, converters, true_values, false_values, skipinitialspace, skiprows, skipfooter, nrows, na_values, keep_default_na, na_filter, verbose, skip_blank_lines, parse_dates, infer_datetime_format, keep_date_col, date_parser, dayfirst, iterator, chunksize, compression, thousands, decimal, lineterminator, quotechar, quoting, doublequote, escapechar, comment, encoding, dialect, tupleize_cols, error_bad_lines, warn_bad_lines, delim_whitespace, low_memory, memory_map, float_precision)\u001b[0m\n\u001b[0;32m    700\u001b[0m                     skip_blank_lines=skip_blank_lines)\n\u001b[0;32m    701\u001b[0m \u001b[1;33m\u001b[0m\u001b[0m\n\u001b[1;32m--> 702\u001b[1;33m         \u001b[1;32mreturn\u001b[0m \u001b[0m_read\u001b[0m\u001b[1;33m(\u001b[0m\u001b[0mfilepath_or_buffer\u001b[0m\u001b[1;33m,\u001b[0m \u001b[0mkwds\u001b[0m\u001b[1;33m)\u001b[0m\u001b[1;33m\u001b[0m\u001b[1;33m\u001b[0m\u001b[0m\n\u001b[0m\u001b[0;32m    703\u001b[0m \u001b[1;33m\u001b[0m\u001b[0m\n\u001b[0;32m    704\u001b[0m     \u001b[0mparser_f\u001b[0m\u001b[1;33m.\u001b[0m\u001b[0m__name__\u001b[0m \u001b[1;33m=\u001b[0m \u001b[0mname\u001b[0m\u001b[1;33m\u001b[0m\u001b[1;33m\u001b[0m\u001b[0m\n",
      "\u001b[1;32m~\\Anaconda3\\lib\\site-packages\\pandas\\io\\parsers.py\u001b[0m in \u001b[0;36m_read\u001b[1;34m(filepath_or_buffer, kwds)\u001b[0m\n\u001b[0;32m    427\u001b[0m \u001b[1;33m\u001b[0m\u001b[0m\n\u001b[0;32m    428\u001b[0m     \u001b[1;31m# Create the parser.\u001b[0m\u001b[1;33m\u001b[0m\u001b[1;33m\u001b[0m\u001b[1;33m\u001b[0m\u001b[0m\n\u001b[1;32m--> 429\u001b[1;33m     \u001b[0mparser\u001b[0m \u001b[1;33m=\u001b[0m \u001b[0mTextFileReader\u001b[0m\u001b[1;33m(\u001b[0m\u001b[0mfilepath_or_buffer\u001b[0m\u001b[1;33m,\u001b[0m \u001b[1;33m**\u001b[0m\u001b[0mkwds\u001b[0m\u001b[1;33m)\u001b[0m\u001b[1;33m\u001b[0m\u001b[1;33m\u001b[0m\u001b[0m\n\u001b[0m\u001b[0;32m    430\u001b[0m \u001b[1;33m\u001b[0m\u001b[0m\n\u001b[0;32m    431\u001b[0m     \u001b[1;32mif\u001b[0m \u001b[0mchunksize\u001b[0m \u001b[1;32mor\u001b[0m \u001b[0miterator\u001b[0m\u001b[1;33m:\u001b[0m\u001b[1;33m\u001b[0m\u001b[1;33m\u001b[0m\u001b[0m\n",
      "\u001b[1;32m~\\Anaconda3\\lib\\site-packages\\pandas\\io\\parsers.py\u001b[0m in \u001b[0;36m__init__\u001b[1;34m(self, f, engine, **kwds)\u001b[0m\n\u001b[0;32m    893\u001b[0m             \u001b[0mself\u001b[0m\u001b[1;33m.\u001b[0m\u001b[0moptions\u001b[0m\u001b[1;33m[\u001b[0m\u001b[1;34m'has_index_names'\u001b[0m\u001b[1;33m]\u001b[0m \u001b[1;33m=\u001b[0m \u001b[0mkwds\u001b[0m\u001b[1;33m[\u001b[0m\u001b[1;34m'has_index_names'\u001b[0m\u001b[1;33m]\u001b[0m\u001b[1;33m\u001b[0m\u001b[1;33m\u001b[0m\u001b[0m\n\u001b[0;32m    894\u001b[0m \u001b[1;33m\u001b[0m\u001b[0m\n\u001b[1;32m--> 895\u001b[1;33m         \u001b[0mself\u001b[0m\u001b[1;33m.\u001b[0m\u001b[0m_make_engine\u001b[0m\u001b[1;33m(\u001b[0m\u001b[0mself\u001b[0m\u001b[1;33m.\u001b[0m\u001b[0mengine\u001b[0m\u001b[1;33m)\u001b[0m\u001b[1;33m\u001b[0m\u001b[1;33m\u001b[0m\u001b[0m\n\u001b[0m\u001b[0;32m    896\u001b[0m \u001b[1;33m\u001b[0m\u001b[0m\n\u001b[0;32m    897\u001b[0m     \u001b[1;32mdef\u001b[0m \u001b[0mclose\u001b[0m\u001b[1;33m(\u001b[0m\u001b[0mself\u001b[0m\u001b[1;33m)\u001b[0m\u001b[1;33m:\u001b[0m\u001b[1;33m\u001b[0m\u001b[1;33m\u001b[0m\u001b[0m\n",
      "\u001b[1;32m~\\Anaconda3\\lib\\site-packages\\pandas\\io\\parsers.py\u001b[0m in \u001b[0;36m_make_engine\u001b[1;34m(self, engine)\u001b[0m\n\u001b[0;32m   1120\u001b[0m     \u001b[1;32mdef\u001b[0m \u001b[0m_make_engine\u001b[0m\u001b[1;33m(\u001b[0m\u001b[0mself\u001b[0m\u001b[1;33m,\u001b[0m \u001b[0mengine\u001b[0m\u001b[1;33m=\u001b[0m\u001b[1;34m'c'\u001b[0m\u001b[1;33m)\u001b[0m\u001b[1;33m:\u001b[0m\u001b[1;33m\u001b[0m\u001b[1;33m\u001b[0m\u001b[0m\n\u001b[0;32m   1121\u001b[0m         \u001b[1;32mif\u001b[0m \u001b[0mengine\u001b[0m \u001b[1;33m==\u001b[0m \u001b[1;34m'c'\u001b[0m\u001b[1;33m:\u001b[0m\u001b[1;33m\u001b[0m\u001b[1;33m\u001b[0m\u001b[0m\n\u001b[1;32m-> 1122\u001b[1;33m             \u001b[0mself\u001b[0m\u001b[1;33m.\u001b[0m\u001b[0m_engine\u001b[0m \u001b[1;33m=\u001b[0m \u001b[0mCParserWrapper\u001b[0m\u001b[1;33m(\u001b[0m\u001b[0mself\u001b[0m\u001b[1;33m.\u001b[0m\u001b[0mf\u001b[0m\u001b[1;33m,\u001b[0m \u001b[1;33m**\u001b[0m\u001b[0mself\u001b[0m\u001b[1;33m.\u001b[0m\u001b[0moptions\u001b[0m\u001b[1;33m)\u001b[0m\u001b[1;33m\u001b[0m\u001b[1;33m\u001b[0m\u001b[0m\n\u001b[0m\u001b[0;32m   1123\u001b[0m         \u001b[1;32melse\u001b[0m\u001b[1;33m:\u001b[0m\u001b[1;33m\u001b[0m\u001b[1;33m\u001b[0m\u001b[0m\n\u001b[0;32m   1124\u001b[0m             \u001b[1;32mif\u001b[0m \u001b[0mengine\u001b[0m \u001b[1;33m==\u001b[0m \u001b[1;34m'python'\u001b[0m\u001b[1;33m:\u001b[0m\u001b[1;33m\u001b[0m\u001b[1;33m\u001b[0m\u001b[0m\n",
      "\u001b[1;32m~\\Anaconda3\\lib\\site-packages\\pandas\\io\\parsers.py\u001b[0m in \u001b[0;36m__init__\u001b[1;34m(self, src, **kwds)\u001b[0m\n\u001b[0;32m   1851\u001b[0m         \u001b[0mkwds\u001b[0m\u001b[1;33m[\u001b[0m\u001b[1;34m'usecols'\u001b[0m\u001b[1;33m]\u001b[0m \u001b[1;33m=\u001b[0m \u001b[0mself\u001b[0m\u001b[1;33m.\u001b[0m\u001b[0musecols\u001b[0m\u001b[1;33m\u001b[0m\u001b[1;33m\u001b[0m\u001b[0m\n\u001b[0;32m   1852\u001b[0m \u001b[1;33m\u001b[0m\u001b[0m\n\u001b[1;32m-> 1853\u001b[1;33m         \u001b[0mself\u001b[0m\u001b[1;33m.\u001b[0m\u001b[0m_reader\u001b[0m \u001b[1;33m=\u001b[0m \u001b[0mparsers\u001b[0m\u001b[1;33m.\u001b[0m\u001b[0mTextReader\u001b[0m\u001b[1;33m(\u001b[0m\u001b[0msrc\u001b[0m\u001b[1;33m,\u001b[0m \u001b[1;33m**\u001b[0m\u001b[0mkwds\u001b[0m\u001b[1;33m)\u001b[0m\u001b[1;33m\u001b[0m\u001b[1;33m\u001b[0m\u001b[0m\n\u001b[0m\u001b[0;32m   1854\u001b[0m         \u001b[0mself\u001b[0m\u001b[1;33m.\u001b[0m\u001b[0munnamed_cols\u001b[0m \u001b[1;33m=\u001b[0m \u001b[0mself\u001b[0m\u001b[1;33m.\u001b[0m\u001b[0m_reader\u001b[0m\u001b[1;33m.\u001b[0m\u001b[0munnamed_cols\u001b[0m\u001b[1;33m\u001b[0m\u001b[1;33m\u001b[0m\u001b[0m\n\u001b[0;32m   1855\u001b[0m \u001b[1;33m\u001b[0m\u001b[0m\n",
      "\u001b[1;32mpandas/_libs/parsers.pyx\u001b[0m in \u001b[0;36mpandas._libs.parsers.TextReader.__cinit__\u001b[1;34m()\u001b[0m\n",
      "\u001b[1;32mpandas/_libs/parsers.pyx\u001b[0m in \u001b[0;36mpandas._libs.parsers.TextReader._setup_parser_source\u001b[1;34m()\u001b[0m\n",
      "\u001b[1;31mFileNotFoundError\u001b[0m: [Errno 2] File b'/Users/moritzschneider/Documents/Uni/Copenhagen/Social Data Science/Git Group/Group-31-SoDa/Data/movie_2.csv' does not exist: b'/Users/moritzschneider/Documents/Uni/Copenhagen/Social Data Science/Git Group/Group-31-SoDa/Data/movie_2.csv'"
     ]
    }
   ],
   "source": [
    "path2data='/Users/cecil/Dokumenter/Uni/Copenhagen/Social Data Science/Git Group/Group-31-SoDa/Data/movie_2.csv'\n",
    "#C:\\Users\\cecil\\OneDrive\\Dokumenter\\sds2019_2\\Group-31-SoDa\\Data\n",
    "done=pd.read_csv(path2data)\n",
    "text=done[['Female','d_Female','Summary','d_Drop']]\n",
    "text.head(1)\n"
   ]
  },
  {
   "cell_type": "code",
   "execution_count": 85,
   "metadata": {},
   "outputs": [
    {
     "name": "stderr",
     "output_type": "stream",
     "text": [
      "/Users/moritzschneider/anaconda3/lib/python3.7/site-packages/pandas/core/frame.py:3391: SettingWithCopyWarning: \n",
      "A value is trying to be set on a copy of a slice from a DataFrame.\n",
      "Try using .loc[row_indexer,col_indexer] = value instead\n",
      "\n",
      "See the caveats in the documentation: http://pandas.pydata.org/pandas-docs/stable/indexing.html#indexing-view-versus-copy\n",
      "  self[k1] = value[k2]\n",
      "/Users/moritzschneider/anaconda3/lib/python3.7/site-packages/ipykernel_launcher.py:4: SettingWithCopyWarning: \n",
      "A value is trying to be set on a copy of a slice from a DataFrame.\n",
      "Try using .loc[row_indexer,col_indexer] = value instead\n",
      "\n",
      "See the caveats in the documentation: http://pandas.pydata.org/pandas-docs/stable/indexing.html#indexing-view-versus-copy\n",
      "  after removing the cwd from sys.path.\n"
     ]
    }
   ],
   "source": [
    "bob=text['Summary'].apply(vader.polarity_scores)\n",
    "bob_2=list(bob)\n",
    "text[[\"vader_neg\",\"vader_neu\",\"vader_pos\",\"vader_compound\"]]=pd.DataFrame(bob_2)\n",
    "text['Afinn']=text['Summary'].apply(afinn.score)"
   ]
  },
  {
   "cell_type": "code",
   "execution_count": 86,
   "metadata": {},
   "outputs": [
    {
     "name": "stdout",
     "output_type": "stream",
     "text": [
      "<FreqDist with 26 samples and 30 outcomes>\n"
     ]
    },
    {
     "name": "stderr",
     "output_type": "stream",
     "text": [
      "/Users/moritzschneider/anaconda3/lib/python3.7/site-packages/ipykernel_launcher.py:8: SettingWithCopyWarning: \n",
      "A value is trying to be set on a copy of a slice from a DataFrame.\n",
      "Try using .loc[row_indexer,col_indexer] = value instead\n",
      "\n",
      "See the caveats in the documentation: http://pandas.pydata.org/pandas-docs/stable/indexing.html#indexing-view-versus-copy\n",
      "  \n"
     ]
    },
    {
     "data": {
      "text/plain": [
       "[('the', 3),\n",
       " ('his', 2),\n",
       " ('to', 2),\n",
       " ('based', 1),\n",
       " ('on', 1),\n",
       " ('true', 1),\n",
       " ('story', 1),\n",
       " ('of', 1),\n",
       " ('jordan', 1),\n",
       " ('belfort', 1)]"
      ]
     },
     "execution_count": 86,
     "metadata": {},
     "output_type": "execute_result"
    }
   ],
   "source": [
    "from nltk.tokenize import RegexpTokenizer\n",
    "\n",
    "tokenizer = nltk.tokenize.RegexpTokenizer(r'\\w+')\n",
    "def preprocessing(string):\n",
    "    lower=string.lower()\n",
    "    token=tokenizer.tokenize(lower)\n",
    "    return token\n",
    "text['Token']=text['Summary'].apply(preprocessing)\n",
    "\n",
    "from nltk.probability import FreqDist\n",
    "fdist = FreqDist(text['Token'][25])\n",
    "print(fdist)\n",
    "fdist.most_common(10)"
   ]
  },
  {
   "cell_type": "markdown",
   "metadata": {},
   "source": [
    "### Male Text Analysis"
   ]
  },
  {
   "cell_type": "code",
   "execution_count": 125,
   "metadata": {},
   "outputs": [
    {
     "name": "stdout",
     "output_type": "stream",
     "text": [
      "<FreqDist with 15516 samples and 104263 outcomes>\n"
     ]
    },
    {
     "data": {
      "text/plain": [
       "[('man', 694),\n",
       " ('young', 648),\n",
       " ('life', 633),\n",
       " ('new', 540),\n",
       " ('two', 505),\n",
       " ('in', 429),\n",
       " ('family', 419),\n",
       " ('one', 413),\n",
       " ('an', 395),\n",
       " ('world', 383),\n",
       " ('must', 369),\n",
       " ('find', 366),\n",
       " ('love', 320),\n",
       " ('when', 319),\n",
       " ('story', 312),\n",
       " ('woman', 288),\n",
       " ('finds', 274),\n",
       " ('father', 267),\n",
       " ('group', 263),\n",
       " ('he', 256),\n",
       " ('old', 255),\n",
       " ('see', 250),\n",
       " ('friends', 249),\n",
       " ('war', 247),\n",
       " ('after', 242),\n",
       " ('wife', 241),\n",
       " ('school', 239),\n",
       " ('full', 237)]"
      ]
     },
     "execution_count": 125,
     "metadata": {},
     "output_type": "execute_result"
    }
   ],
   "source": [
    "import string\n",
    "from nltk.corpus import stopwords\n",
    "text_m=text[text.Female != 1].reset_index()\n",
    "stop=stopwords.words('english')\n",
    "\n",
    "\n",
    "stop1=stop+list(','+'a'+'.'+'\"')\n",
    "def remove_stop(x):\n",
    "    removed_stop=[]\n",
    "    for y in x:\n",
    "        removed_stop.append(' '.join([word for word in y.split() if word not in stop1]))\n",
    "    return removed_stop\n",
    "no_stop_m=remove_stop(text_m['Summary'])\n",
    "\n",
    "su_m=str()\n",
    "for i in range(6184):\n",
    "    su_m=su_m + str(no_stop_m[i])\n",
    "\n",
    "su_m_1=preprocessing(su_m)\n",
    "\n",
    "fdist = FreqDist(su_m_1)\n",
    "print(fdist)\n",
    "m = fdist.most_common(31)\n",
    "m[3:]"
   ]
  },
  {
   "cell_type": "code",
   "execution_count": 126,
   "metadata": {},
   "outputs": [
    {
     "data": {
      "text/plain": [
       "0      (man, 694)\n",
       "1    (young, 648)\n",
       "2     (life, 633)\n",
       "3      (new, 540)\n",
       "4      (two, 505)\n",
       "dtype: object"
      ]
     },
     "execution_count": 126,
     "metadata": {},
     "output_type": "execute_result"
    }
   ],
   "source": [
    "List = pd.Series(m[3:])\n",
    "List.head()"
   ]
  },
  {
   "cell_type": "code",
   "execution_count": 127,
   "metadata": {},
   "outputs": [
    {
     "data": {
      "text/plain": [
       "[['man', 694],\n",
       " ['young', 648],\n",
       " ['life', 633],\n",
       " ['new', 540],\n",
       " ['two', 505],\n",
       " ['in', 429],\n",
       " ['family', 419],\n",
       " ['one', 413],\n",
       " ['an', 395],\n",
       " ['world', 383],\n",
       " ['must', 369],\n",
       " ['find', 366],\n",
       " ['love', 320],\n",
       " ['when', 319],\n",
       " ['story', 312],\n",
       " ['woman', 288],\n",
       " ['finds', 274],\n",
       " ['father', 267],\n",
       " ['group', 263],\n",
       " ['he', 256],\n",
       " ['old', 255],\n",
       " ['see', 250],\n",
       " ['friends', 249],\n",
       " ['war', 247],\n",
       " ['after', 242],\n",
       " ['wife', 241],\n",
       " ['school', 239],\n",
       " ['full', 237]]"
      ]
     },
     "execution_count": 127,
     "metadata": {},
     "output_type": "execute_result"
    }
   ],
   "source": [
    "List = [list(i) for i in List]\n",
    "List"
   ]
  },
  {
   "cell_type": "code",
   "execution_count": 128,
   "metadata": {},
   "outputs": [],
   "source": [
    "stupid_words_m = [\"new\", \"in\", \"an\", \"two\", \"one\", \"when\", \"two\", \"after\", \"see\", \"find\"]\n",
    "\n",
    "for e in range(0,len(List)-len(stupid_words_m)):\n",
    "    if List[e][0] in stupid_words_m:\n",
    "        #print(List[e])\n",
    "        List.remove(List[e])\n",
    "    else:\n",
    "        pass"
   ]
  },
  {
   "cell_type": "code",
   "execution_count": 129,
   "metadata": {
    "scrolled": true
   },
   "outputs": [
    {
     "data": {
      "text/plain": [
       "[['man', 694],\n",
       " ['young', 648],\n",
       " ['life', 633],\n",
       " ['two', 505],\n",
       " ['family', 419],\n",
       " ['an', 395],\n",
       " ['world', 383],\n",
       " ['must', 369],\n",
       " ['love', 320],\n",
       " ['story', 312],\n",
       " ['woman', 288],\n",
       " ['finds', 274],\n",
       " ['father', 267],\n",
       " ['group', 263],\n",
       " ['he', 256],\n",
       " ['old', 255],\n",
       " ['friends', 249],\n",
       " ['war', 247],\n",
       " ['after', 242],\n",
       " ['wife', 241],\n",
       " ['school', 239],\n",
       " ['full', 237]]"
      ]
     },
     "execution_count": 129,
     "metadata": {},
     "output_type": "execute_result"
    }
   ],
   "source": [
    "List"
   ]
  },
  {
   "cell_type": "markdown",
   "metadata": {},
   "source": [
    "### Wordcloud Male"
   ]
  },
  {
   "cell_type": "code",
   "execution_count": 193,
   "metadata": {
    "scrolled": true
   },
   "outputs": [
    {
     "data": {
      "image/png": "[encoded data removed]",
      "text/plain": [
       "<Figure size 864x864 with 1 Axes>"
      ]
     },
     "metadata": {
      "needs_background": "light"
     },
     "output_type": "display_data"
    },
    {
     "data": {
      "image/png": "[encoded data removed]",
      "text/plain": [
       "<Figure size 864x864 with 1 Axes>"
      ]
     },
     "metadata": {
      "needs_background": "light"
     },
     "output_type": "display_data"
    }
   ],
   "source": [
    "from wordcloud import WordCloud, STOPWORDS\n",
    "import matplotlib.pyplot as plt\n",
    "stopwords = set(STOPWORDS)\n",
    "def grey_color_func(word, font_size, position,orientation,random_state=None, **kwargs):\n",
    "    return(\"hsl(157,41%%, %d%%)\" % np.random.randint(50,51))\n",
    "\n",
    "\n",
    "def show_wordcloud(data, title = None):\n",
    "    wordcloud = WordCloud(\n",
    "        background_color='white',\n",
    "        stopwords=stopwords,\n",
    "        max_words=200,\n",
    "        max_font_size=50,\n",
    "        min_font_size=5, \n",
    "        scale=5,\n",
    "        random_state=1\n",
    "    ).generate(str(data))\n",
    "    wordcloud.recolor(color_func = grey_color_func)\n",
    "\n",
    "    fig = plt.figure(1, figsize=(12, 12))\n",
    "    plt.axis('off')\n",
    "    if title: \n",
    "        fig.suptitle(title, fontsize=20)\n",
    "        fig.subplots_adjust(top=2.3)\n",
    "\n",
    "    plt.imshow(wordcloud)\n",
    "    plt.show()\n",
    "\n",
    "show_wordcloud(List)\n",
    "show_wordcloud(Listf)"
   ]
  },
  {
   "cell_type": "code",
   "execution_count": null,
   "metadata": {},
   "outputs": [],
   "source": []
  },
  {
   "cell_type": "code",
   "execution_count": 153,
   "metadata": {},
   "outputs": [
    {
     "ename": "NameError",
     "evalue": "name 'data' is not defined",
     "output_type": "error",
     "traceback": [
      "\u001b[0;31m---------------------------------------------------------------------------\u001b[0m",
      "\u001b[0;31mNameError\u001b[0m                                 Traceback (most recent call last)",
      "\u001b[0;32m<ipython-input-153-a4db16ad0c3d>\u001b[0m in \u001b[0;36m<module>\u001b[0;34m()\u001b[0m\n\u001b[1;32m     84\u001b[0m \u001b[0;34m\u001b[0m\u001b[0m\n\u001b[1;32m     85\u001b[0m \u001b[0;31m# Apply our color function\u001b[0m\u001b[0;34m\u001b[0m\u001b[0;34m\u001b[0m\u001b[0;34m\u001b[0m\u001b[0m\n\u001b[0;32m---> 86\u001b[0;31m \u001b[0mdata\u001b[0m\u001b[0;34m.\u001b[0m\u001b[0mrecolor\u001b[0m\u001b[0;34m(\u001b[0m\u001b[0mcolor_func\u001b[0m\u001b[0;34m=\u001b[0m\u001b[0mgrouped_color_func\u001b[0m\u001b[0;34m)\u001b[0m\u001b[0;34m\u001b[0m\u001b[0;34m\u001b[0m\u001b[0m\n\u001b[0m\u001b[1;32m     87\u001b[0m \u001b[0;34m\u001b[0m\u001b[0m\n\u001b[1;32m     88\u001b[0m \u001b[0;31m# Plot\u001b[0m\u001b[0;34m\u001b[0m\u001b[0;34m\u001b[0m\u001b[0;34m\u001b[0m\u001b[0m\n",
      "\u001b[0;31mNameError\u001b[0m: name 'data' is not defined"
     ]
    }
   ],
   "source": [
    "from wordcloud import (WordCloud, get_single_color_func)\n",
    "import matplotlib.pyplot as plt\n",
    "\n",
    "\n",
    "class SimpleGroupedColorFunc(object):\n",
    "    \"\"\"Create a color function object which assigns EXACT colors\n",
    "       to certain words based on the color to words mapping\n",
    "\n",
    "       Parameters\n",
    "       ----------\n",
    "       color_to_words : dict(str -> list(str))\n",
    "         A dictionary that maps a color to the list of words.\n",
    "\n",
    "       default_color : str\n",
    "         Color that will be assigned to a word that's not a member\n",
    "         of any value from color_to_words.\n",
    "    \"\"\"\n",
    "\n",
    "    def __init__(self, color_to_words, default_color):\n",
    "        self.word_to_color = {word: color\n",
    "                              for (color, words) in color_to_words.items()\n",
    "                              for word in words}\n",
    "\n",
    "        self.default_color = default_color\n",
    "\n",
    "    def __call__(self, word, **kwargs):\n",
    "        return self.word_to_color.get(word, self.default_color)\n",
    "    \n",
    "\n",
    "class GroupedColorFunc(object):\n",
    "    \"\"\"Create a color function object which assigns DIFFERENT SHADES of\n",
    "       specified colors to certain words based on the color to words mapping.\n",
    "\n",
    "       Uses wordcloud.get_single_color_func\n",
    "\n",
    "       Parameters\n",
    "       ----------\n",
    "       color_to_words : dict(str -> list(str))\n",
    "         A dictionary that maps a color to the list of words.\n",
    "\n",
    "       default_color : str\n",
    "         Color that will be assigned to a word that's not a member\n",
    "         of any value from color_to_words.\n",
    "    \"\"\"\n",
    "\n",
    "    def __init__(self, color_to_words, default_color):\n",
    "        self.color_func_to_words = [\n",
    "            (get_single_color_func(color), set(words))\n",
    "            for (color, words) in color_to_words.items()]\n",
    "\n",
    "        self.default_color_func = get_single_color_func(default_color)\n",
    "\n",
    "    def get_color_func(self, word):\n",
    "        \"\"\"Returns a single_color_func associated with the word\"\"\"\n",
    "        try:\n",
    "            color_func = next(\n",
    "                color_func for (color_func, words) in self.color_func_to_words\n",
    "                if word in words)\n",
    "        except StopIteration:\n",
    "            color_func = self.default_color_func\n",
    "\n",
    "        return color_func\n",
    "\n",
    "    def __call__(self, word, **kwargs):\n",
    "        return self.get_color_func(word)(word, **kwargs)\n",
    "\n",
    "\n",
    "color_to_words = {\n",
    "    # words below will be colored with a green single color function\n",
    "    #'#00ff00': [\"man\"],\n",
    "    # will be colored with a red single color function\n",
    "    'red': ['man']\n",
    "}\n",
    "\n",
    "# Words that are not in any of the color_to_words values\n",
    "# will be colored with a grey single color function\n",
    "default_color = 'green'\n",
    "\n",
    "# Create a color function with single tone\n",
    "# grouped_color_func = SimpleGroupedColorFunc(color_to_words, default_color)\n",
    "\n",
    "# Create a color function with multiple tones\n",
    "grouped_color_func = GroupedColorFunc(color_to_words, default_color)\n",
    "\n",
    "# Apply our color function\n",
    "data.recolor(color_func=grouped_color_func)\n",
    "\n",
    "# Plot\n",
    "plt.figure()\n",
    "plt.imshow(data, interpolation=\"bilinear\")\n",
    "plt.axis(\"off\")\n",
    "plt.show()"
   ]
  },
  {
   "cell_type": "markdown",
   "metadata": {},
   "source": [
    "### Female Text Analysis"
   ]
  },
  {
   "cell_type": "code",
   "execution_count": 112,
   "metadata": {
    "scrolled": true
   },
   "outputs": [
    {
     "name": "stdout",
     "output_type": "stream",
     "text": [
      "<FreqDist with 5516 samples and 16661 outcomes>\n"
     ]
    },
    {
     "data": {
      "text/plain": [
       "[('woman', 168),\n",
       " ('young', 155),\n",
       " ('life', 122),\n",
       " ('new', 108),\n",
       " ('the', 98),\n",
       " ('girl', 90),\n",
       " ('two', 77),\n",
       " ('love', 77),\n",
       " ('one', 77),\n",
       " ('family', 69),\n",
       " ('school', 65),\n",
       " ('in', 64),\n",
       " ('finds', 62),\n",
       " ('world', 61),\n",
       " ('man', 59),\n",
       " ('mother', 59),\n",
       " ('must', 57),\n",
       " ('after', 55),\n",
       " ('an', 55),\n",
       " ('group', 54),\n",
       " ('when', 47),\n",
       " ('home', 47),\n",
       " ('town', 44),\n",
       " ('friends', 43),\n",
       " ('husband', 43),\n",
       " ('story', 43),\n",
       " ('three', 42),\n",
       " ('city', 42)]"
      ]
     },
     "execution_count": 112,
     "metadata": {},
     "output_type": "execute_result"
    }
   ],
   "source": [
    "text_f=text[text.Female == 1].reset_index()\n",
    "def remove_stop(x):\n",
    "    removed_stop=[]\n",
    "    for y in x:\n",
    "        removed_stop.append(' '.join([word for word in y.split() if word not in stop]))\n",
    "    return removed_stop\n",
    "no_stop_f=remove_stop(text_f['Summary'])\n",
    "\n",
    "su_f=str()\n",
    "for i in range(1000):\n",
    "    su_f=su_f + str(no_stop_f[i])\n",
    "\n",
    "su_f_1=preprocessing(su_f)\n",
    "\n",
    "fdist = FreqDist(su_f_1)\n",
    "print(fdist)\n",
    "f = fdist.most_common(30)\n",
    "f[2:]"
   ]
  },
  {
   "cell_type": "code",
   "execution_count": 113,
   "metadata": {},
   "outputs": [
    {
     "data": {
      "text/plain": [
       "0    (woman, 168)\n",
       "1    (young, 155)\n",
       "2     (life, 122)\n",
       "3      (new, 108)\n",
       "4       (the, 98)\n",
       "dtype: object"
      ]
     },
     "execution_count": 113,
     "metadata": {},
     "output_type": "execute_result"
    }
   ],
   "source": [
    "Listf = pd.Series(f[2:])\n",
    "Listf.head()"
   ]
  },
  {
   "cell_type": "code",
   "execution_count": 114,
   "metadata": {},
   "outputs": [
    {
     "data": {
      "text/plain": [
       "[['woman', 168],\n",
       " ['young', 155],\n",
       " ['life', 122],\n",
       " ['new', 108],\n",
       " ['the', 98],\n",
       " ['girl', 90],\n",
       " ['two', 77],\n",
       " ['love', 77],\n",
       " ['one', 77],\n",
       " ['family', 69],\n",
       " ['school', 65],\n",
       " ['in', 64],\n",
       " ['finds', 62],\n",
       " ['world', 61],\n",
       " ['man', 59],\n",
       " ['mother', 59],\n",
       " ['must', 57],\n",
       " ['after', 55],\n",
       " ['an', 55],\n",
       " ['group', 54],\n",
       " ['when', 47],\n",
       " ['home', 47],\n",
       " ['town', 44],\n",
       " ['friends', 43],\n",
       " ['husband', 43],\n",
       " ['story', 43],\n",
       " ['three', 42],\n",
       " ['city', 42]]"
      ]
     },
     "execution_count": 114,
     "metadata": {},
     "output_type": "execute_result"
    }
   ],
   "source": [
    "Listf = [list(i) for i in Listf]\n",
    "Listf"
   ]
  },
  {
   "cell_type": "code",
   "execution_count": 121,
   "metadata": {},
   "outputs": [],
   "source": [
    "stupid_words_f = [\"the\", \"two\", \"one\", \"in\", \"after\", \"an\", \"when\", \"three\", \"new\"]\n",
    "\n",
    "for e in range(0,len(Listf)-len(stupid_words_f)):\n",
    "    if Listf[e][0] in stupid_words_f:\n",
    "        #print(Listf[e])\n",
    "        Listf.remove(Listf[e])\n",
    "    else:\n",
    "        pass"
   ]
  },
  {
   "cell_type": "code",
   "execution_count": 122,
   "metadata": {},
   "outputs": [
    {
     "data": {
      "text/plain": [
       "[['woman', 168],\n",
       " ['young', 155],\n",
       " ['life', 122],\n",
       " ['girl', 90],\n",
       " ['love', 77],\n",
       " ['family', 69],\n",
       " ['school', 65],\n",
       " ['finds', 62],\n",
       " ['world', 61],\n",
       " ['man', 59],\n",
       " ['mother', 59],\n",
       " ['must', 57],\n",
       " ['group', 54],\n",
       " ['home', 47],\n",
       " ['town', 44],\n",
       " ['friends', 43],\n",
       " ['husband', 43],\n",
       " ['story', 43],\n",
       " ['three', 42],\n",
       " ['city', 42]]"
      ]
     },
     "execution_count": 122,
     "metadata": {},
     "output_type": "execute_result"
    }
   ],
   "source": [
    "Listf"
   ]
  },
  {
   "cell_type": "code",
   "execution_count": null,
   "metadata": {},
   "outputs": [],
   "source": []
  }
 ],
 "metadata": {
  "kernelspec": {
   "display_name": "Python 3",
   "language": "python",
   "name": "python3"
  },
  "language_info": {
   "codemirror_mode": {
    "name": "ipython",
    "version": 3
   },
   "file_extension": ".py",
   "mimetype": "text/x-python",
   "name": "python",
   "nbconvert_exporter": "python",
   "pygments_lexer": "ipython3",
   "version": "3.7.3"
  }
 },
 "nbformat": 4,
 "nbformat_minor": 2
}

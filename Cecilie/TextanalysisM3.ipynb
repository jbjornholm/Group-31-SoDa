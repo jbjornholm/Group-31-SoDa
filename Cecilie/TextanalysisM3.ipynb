{
 "cells": [
  {
   "cell_type": "markdown",
   "metadata": {},
   "source": [
    "# Textanalysis"
   ]
  },
  {
   "cell_type": "code",
   "execution_count": 3,
   "metadata": {},
   "outputs": [
    {
     "name": "stderr",
     "output_type": "stream",
     "text": [
      "[nltk_data] Downloading package stopwords to\n",
      "[nltk_data]     C:\\Users\\cecil\\AppData\\Roaming\\nltk_data...\n",
      "[nltk_data]   Package stopwords is already up-to-date!\n",
      "[nltk_data] Downloading package vader_lexicon to\n",
      "[nltk_data]     C:\\Users\\cecil\\AppData\\Roaming\\nltk_data...\n",
      "[nltk_data]   Package vader_lexicon is already up-to-date!\n"
     ]
    }
   ],
   "source": [
    "from bs4 import BeautifulSoup\n",
    "import seaborn as sns\n",
    "import pandas as pd\n",
    "import numpy as np\n",
    "import nltk\n",
    "import requests\n",
    "import nltk, nltk.sentiment, sklearn\n",
    "import matplotlib\n",
    "import matplotlib.pyplot as plt\n",
    "import matplotlib.ticker as ticker\n",
    "import warnings\n",
    "\n",
    "warnings.filterwarnings(\"ignore\")\n",
    "\n",
    "%matplotlib inline\n",
    "name=nltk.corpus.names\n",
    "nltk.download('stopwords')\n",
    "\n",
    "\n",
    "nltk.download('vader_lexicon')\n",
    "vader=nltk.sentiment.vader.SentimentIntensityAnalyzer()\n",
    "from afinn import Afinn\n",
    "afinn = Afinn()"
   ]
  },
  {
   "cell_type": "code",
   "execution_count": 5,
   "metadata": {},
   "outputs": [
    {
     "data": {
      "text/html": [
       "<div>\n",
       "<style scoped>\n",
       "    .dataframe tbody tr th:only-of-type {\n",
       "        vertical-align: middle;\n",
       "    }\n",
       "\n",
       "    .dataframe tbody tr th {\n",
       "        vertical-align: top;\n",
       "    }\n",
       "\n",
       "    .dataframe thead th {\n",
       "        text-align: right;\n",
       "    }\n",
       "</style>\n",
       "<table border=\"1\" class=\"dataframe\">\n",
       "  <thead>\n",
       "    <tr style=\"text-align: right;\">\n",
       "      <th></th>\n",
       "      <th>Female</th>\n",
       "      <th>d_Female</th>\n",
       "      <th>Summary</th>\n",
       "      <th>d_Drop</th>\n",
       "    </tr>\n",
       "  </thead>\n",
       "  <tbody>\n",
       "    <tr>\n",
       "      <th>0</th>\n",
       "      <td>0.0</td>\n",
       "      <td>0.0</td>\n",
       "      <td>Two imprisoned men bond over a number of years...</td>\n",
       "      <td>0.0</td>\n",
       "    </tr>\n",
       "  </tbody>\n",
       "</table>\n",
       "</div>"
      ],
      "text/plain": [
       "   Female  d_Female                                            Summary  d_Drop\n",
       "0     0.0       0.0  Two imprisoned men bond over a number of years...     0.0"
      ]
     },
     "execution_count": 5,
     "metadata": {},
     "output_type": "execute_result"
    }
   ],
   "source": [
    "# load the data\n",
    "\n",
    "path2data='/Users/cecil/OneDrive/Dokumenter/sds2019_2/Group-31-SoDa/Data/movie_2.csv'\n",
    "done=pd.read_csv(path2data)\n",
    "text=done[['Female','d_Female','Summary','d_Drop']]\n",
    "text.head(1)"
   ]
  },
  {
   "cell_type": "code",
   "execution_count": 6,
   "metadata": {},
   "outputs": [
    {
     "name": "stdout",
     "output_type": "stream",
     "text": [
      "<FreqDist with 26 samples and 30 outcomes>\n"
     ]
    },
    {
     "data": {
      "text/plain": [
       "[('the', 3),\n",
       " ('his', 2),\n",
       " ('to', 2),\n",
       " ('based', 1),\n",
       " ('on', 1),\n",
       " ('true', 1),\n",
       " ('story', 1),\n",
       " ('of', 1),\n",
       " ('jordan', 1),\n",
       " ('belfort', 1)]"
      ]
     },
     "execution_count": 6,
     "metadata": {},
     "output_type": "execute_result"
    }
   ],
   "source": [
    "from nltk.tokenize import RegexpTokenizer\n",
    "\n",
    "tokenizer = nltk.tokenize.RegexpTokenizer(r'\\w+')\n",
    "def preprocessing(string):\n",
    "    lower=string.lower()\n",
    "    token=tokenizer.tokenize(lower)\n",
    "    return token\n",
    "text['Token']=text['Summary'].apply(preprocessing)\n",
    "\n",
    "from nltk.probability import FreqDist\n",
    "fdist = FreqDist(text['Token'][25])\n",
    "print(fdist)\n",
    "fdist.most_common(10)"
   ]
  },
  {
   "cell_type": "markdown",
   "metadata": {},
   "source": [
    "### Male Text Analysis"
   ]
  },
  {
   "cell_type": "code",
   "execution_count": 7,
   "metadata": {},
   "outputs": [
    {
     "name": "stdout",
     "output_type": "stream",
     "text": [
      "<FreqDist with 15516 samples and 104263 outcomes>\n"
     ]
    },
    {
     "data": {
      "text/plain": [
       "[('man', 694),\n",
       " ('young', 648),\n",
       " ('life', 633),\n",
       " ('new', 540),\n",
       " ('two', 505),\n",
       " ('in', 429),\n",
       " ('family', 419),\n",
       " ('one', 413),\n",
       " ('an', 395),\n",
       " ('world', 383),\n",
       " ('must', 369),\n",
       " ('find', 366),\n",
       " ('love', 320),\n",
       " ('when', 319),\n",
       " ('story', 312),\n",
       " ('woman', 288),\n",
       " ('finds', 274),\n",
       " ('father', 267),\n",
       " ('group', 263),\n",
       " ('he', 256),\n",
       " ('old', 255),\n",
       " ('see', 250),\n",
       " ('friends', 249),\n",
       " ('war', 247),\n",
       " ('after', 242),\n",
       " ('wife', 241),\n",
       " ('school', 239),\n",
       " ('full', 237)]"
      ]
     },
     "execution_count": 7,
     "metadata": {},
     "output_type": "execute_result"
    }
   ],
   "source": [
    "import string\n",
    "from nltk.corpus import stopwords\n",
    "text_m=text[text.Female != 1].reset_index()\n",
    "stop=stopwords.words('english')\n",
    "\n",
    "\n",
    "stop1=stop+list(','+'a'+'.'+'\"')\n",
    "def remove_stop(x):\n",
    "    removed_stop=[]\n",
    "    for y in x:\n",
    "        removed_stop.append(' '.join([word for word in y.split() if word not in stop1]))\n",
    "    return removed_stop\n",
    "no_stop_m=remove_stop(text_m['Summary'])\n",
    "\n",
    "su_m=str()\n",
    "for i in range(6184):\n",
    "    su_m=su_m + str(no_stop_m[i])\n",
    "\n",
    "su_m_1=preprocessing(su_m)\n",
    "\n",
    "fdist = FreqDist(su_m_1)\n",
    "print(fdist)\n",
    "m = fdist.most_common(31)\n",
    "m[3:] # exclude the first non-useful words"
   ]
  },
  {
   "cell_type": "code",
   "execution_count": 8,
   "metadata": {},
   "outputs": [
    {
     "data": {
      "text/plain": [
       "0      (man, 694)\n",
       "1    (young, 648)\n",
       "2     (life, 633)\n",
       "3      (new, 540)\n",
       "4      (two, 505)\n",
       "dtype: object"
      ]
     },
     "execution_count": 8,
     "metadata": {},
     "output_type": "execute_result"
    }
   ],
   "source": [
    "List = pd.Series(m[3:])\n",
    "List.head()"
   ]
  },
  {
   "cell_type": "code",
   "execution_count": 9,
   "metadata": {},
   "outputs": [
    {
     "data": {
      "text/plain": [
       "[['man', 694],\n",
       " ['young', 648],\n",
       " ['life', 633],\n",
       " ['new', 540],\n",
       " ['two', 505],\n",
       " ['in', 429],\n",
       " ['family', 419],\n",
       " ['one', 413],\n",
       " ['an', 395],\n",
       " ['world', 383],\n",
       " ['must', 369],\n",
       " ['find', 366],\n",
       " ['love', 320],\n",
       " ['when', 319],\n",
       " ['story', 312],\n",
       " ['woman', 288],\n",
       " ['finds', 274],\n",
       " ['father', 267],\n",
       " ['group', 263],\n",
       " ['he', 256],\n",
       " ['old', 255],\n",
       " ['see', 250],\n",
       " ['friends', 249],\n",
       " ['war', 247],\n",
       " ['after', 242],\n",
       " ['wife', 241],\n",
       " ['school', 239],\n",
       " ['full', 237]]"
      ]
     },
     "execution_count": 9,
     "metadata": {},
     "output_type": "execute_result"
    }
   ],
   "source": [
    "List = [list(i) for i in List]\n",
    "List"
   ]
  },
  {
   "cell_type": "code",
   "execution_count": 10,
   "metadata": {},
   "outputs": [],
   "source": [
    "# define a list of words that should not be in the result\n",
    "\n",
    "stupid_words_m = [\"new\", \"in\", \"an\", \"two\", \"one\", \"when\", \"two\", \"after\", \"see\", \"find\", \"he\"]\n",
    "\n",
    "for e in range(0,len(List)-len(stupid_words_m)):\n",
    "    if List[e][0] in stupid_words_m:\n",
    "        List.remove(List[e])\n",
    "    else:\n",
    "        pass"
   ]
  },
  {
   "cell_type": "code",
   "execution_count": 11,
   "metadata": {
    "scrolled": true
   },
   "outputs": [
    {
     "data": {
      "text/plain": [
       "[['man', 694],\n",
       " ['young', 648],\n",
       " ['life', 633],\n",
       " ['two', 505],\n",
       " ['family', 419],\n",
       " ['an', 395],\n",
       " ['world', 383],\n",
       " ['must', 369],\n",
       " ['love', 320],\n",
       " ['story', 312],\n",
       " ['woman', 288],\n",
       " ['finds', 274],\n",
       " ['father', 267],\n",
       " ['group', 263],\n",
       " ['old', 255],\n",
       " ['friends', 249],\n",
       " ['war', 247],\n",
       " ['after', 242],\n",
       " ['wife', 241],\n",
       " ['school', 239],\n",
       " ['full', 237]]"
      ]
     },
     "execution_count": 11,
     "metadata": {},
     "output_type": "execute_result"
    }
   ],
   "source": [
    "# getting top 20\n",
    "List"
   ]
  },
  {
   "cell_type": "markdown",
   "metadata": {},
   "source": [
    "### Female Text Analysis"
   ]
  },
  {
   "cell_type": "code",
   "execution_count": 12,
   "metadata": {
    "scrolled": true
   },
   "outputs": [
    {
     "name": "stdout",
     "output_type": "stream",
     "text": [
      "<FreqDist with 5516 samples and 16661 outcomes>\n"
     ]
    },
    {
     "data": {
      "text/plain": [
       "[('woman', 168),\n",
       " ('young', 155),\n",
       " ('life', 122),\n",
       " ('new', 108),\n",
       " ('the', 98),\n",
       " ('girl', 90),\n",
       " ('two', 77),\n",
       " ('love', 77),\n",
       " ('one', 77),\n",
       " ('family', 69),\n",
       " ('school', 65),\n",
       " ('in', 64),\n",
       " ('finds', 62),\n",
       " ('world', 61),\n",
       " ('man', 59),\n",
       " ('mother', 59),\n",
       " ('must', 57),\n",
       " ('after', 55),\n",
       " ('an', 55),\n",
       " ('group', 54),\n",
       " ('when', 47),\n",
       " ('home', 47),\n",
       " ('town', 44),\n",
       " ('friends', 43),\n",
       " ('husband', 43),\n",
       " ('story', 43),\n",
       " ('three', 42),\n",
       " ('city', 42)]"
      ]
     },
     "execution_count": 12,
     "metadata": {},
     "output_type": "execute_result"
    }
   ],
   "source": [
    "text_f=text[text.Female == 1].reset_index()\n",
    "def remove_stop(x):\n",
    "    removed_stop=[]\n",
    "    for y in x:\n",
    "        removed_stop.append(' '.join([word for word in y.split() if word not in stop]))\n",
    "    return removed_stop\n",
    "no_stop_f=remove_stop(text_f['Summary'])\n",
    "\n",
    "su_f=str()\n",
    "for i in range(1000):\n",
    "    su_f=su_f + str(no_stop_f[i])\n",
    "\n",
    "su_f_1=preprocessing(su_f)\n",
    "\n",
    "fdist = FreqDist(su_f_1)\n",
    "print(fdist)\n",
    "f = fdist.most_common(30)\n",
    "f[2:] # exclude the first non-useful words"
   ]
  },
  {
   "cell_type": "code",
   "execution_count": 13,
   "metadata": {},
   "outputs": [
    {
     "data": {
      "text/plain": [
       "0    (woman, 168)\n",
       "1    (young, 155)\n",
       "2     (life, 122)\n",
       "3      (new, 108)\n",
       "4       (the, 98)\n",
       "dtype: object"
      ]
     },
     "execution_count": 13,
     "metadata": {},
     "output_type": "execute_result"
    }
   ],
   "source": [
    "Listf = pd.Series(f[2:])\n",
    "Listf.head()"
   ]
  },
  {
   "cell_type": "code",
   "execution_count": 14,
   "metadata": {},
   "outputs": [
    {
     "data": {
      "text/plain": [
       "[['woman', 168],\n",
       " ['young', 155],\n",
       " ['life', 122],\n",
       " ['new', 108],\n",
       " ['the', 98],\n",
       " ['girl', 90],\n",
       " ['two', 77],\n",
       " ['love', 77],\n",
       " ['one', 77],\n",
       " ['family', 69],\n",
       " ['school', 65],\n",
       " ['in', 64],\n",
       " ['finds', 62],\n",
       " ['world', 61],\n",
       " ['man', 59],\n",
       " ['mother', 59],\n",
       " ['must', 57],\n",
       " ['after', 55],\n",
       " ['an', 55],\n",
       " ['group', 54],\n",
       " ['when', 47],\n",
       " ['home', 47],\n",
       " ['town', 44],\n",
       " ['friends', 43],\n",
       " ['husband', 43],\n",
       " ['story', 43],\n",
       " ['three', 42],\n",
       " ['city', 42]]"
      ]
     },
     "execution_count": 14,
     "metadata": {},
     "output_type": "execute_result"
    }
   ],
   "source": [
    "Listf = [list(i) for i in Listf]\n",
    "Listf"
   ]
  },
  {
   "cell_type": "code",
   "execution_count": 20,
   "metadata": {},
   "outputs": [],
   "source": [
    "# define a list of words that should not be in the result\n",
    "stupid_words_f = [\"the\", \"two\", \"one\", \"in\", \"after\", \"an\", \"when\", \"three\", \"new\"]\n",
    "\n",
    "for e in range(0,len(Listf)-len(stupid_words_f)):\n",
    "    if Listf[e][0] in stupid_words_f:\n",
    "        #print(Listf[e])\n",
    "        Listf.remove(Listf[e])\n",
    "    else:\n",
    "        pass"
   ]
  },
  {
   "cell_type": "code",
   "execution_count": 21,
   "metadata": {},
   "outputs": [
    {
     "data": {
      "text/plain": [
       "[['woman', 168],\n",
       " ['young', 155],\n",
       " ['life', 122],\n",
       " ['girl', 90],\n",
       " ['love', 77],\n",
       " ['family', 69],\n",
       " ['school', 65],\n",
       " ['finds', 62],\n",
       " ['world', 61],\n",
       " ['man', 59],\n",
       " ['mother', 59],\n",
       " ['must', 57],\n",
       " ['group', 54],\n",
       " ['home', 47],\n",
       " ['town', 44],\n",
       " ['friends', 43],\n",
       " ['husband', 43],\n",
       " ['story', 43],\n",
       " ['three', 42],\n",
       " ['city', 42]]"
      ]
     },
     "execution_count": 21,
     "metadata": {},
     "output_type": "execute_result"
    }
   ],
   "source": [
    "Listf"
   ]
  },
  {
   "cell_type": "markdown",
   "metadata": {},
   "source": [
    "### Wordcloud Male"
   ]
  },
  {
   "cell_type": "code",
   "execution_count": 22,
   "metadata": {
    "scrolled": true
   },
   "outputs": [
    {
     "data": {
      "image/png": "[encoded data removed]",
      "text/plain": [
       "<Figure size 864x864 with 1 Axes>"
      ]
     },
     "metadata": {
      "needs_background": "light"
     },
     "output_type": "display_data"
    }
   ],
   "source": [
    "from wordcloud import WordCloud, STOPWORDS\n",
    "import matplotlib.pyplot as plt\n",
    "stopwords = set(STOPWORDS)\n",
    "def grey_color_func(word, font_size, position,orientation,random_state=None, **kwargs):\n",
    "    return(\"hsl(157,41%%, %d%%)\" % np.random.randint(50,51))\n",
    "\n",
    "\n",
    "def show_wordcloud(data, title = None):\n",
    "    wordcloud = WordCloud(\n",
    "        background_color='white',\n",
    "        stopwords=stopwords,\n",
    "        max_words=200,\n",
    "        max_font_size=50,\n",
    "        min_font_size=5, \n",
    "        scale=5,\n",
    "        random_state=1\n",
    "    ).generate(str(data))\n",
    "    wordcloud.recolor(color_func = grey_color_func)\n",
    "\n",
    "    fig = plt.figure(1, figsize=(12, 12))\n",
    "    plt.axis('off')\n",
    "    if title: \n",
    "        fig.suptitle(title, fontsize=20)\n",
    "        fig.subplots_adjust(top=2.3)\n",
    "\n",
    "    plt.imshow(wordcloud)\n",
    "    plt.show()\n",
    "\n",
    "show_wordcloud(List) # wordcloud male"
   ]
  },
  {
   "cell_type": "markdown",
   "metadata": {},
   "source": [
    "### Wordcloud Female"
   ]
  },
  {
   "cell_type": "code",
   "execution_count": 23,
   "metadata": {},
   "outputs": [
    {
     "data": {
      "image/png": "[encoded data removed]",
      "text/plain": [
       "<Figure size 864x864 with 1 Axes>"
      ]
     },
     "metadata": {
      "needs_background": "light"
     },
     "output_type": "display_data"
    }
   ],
   "source": [
    "show_wordcloud(Listf) # wordcloud female"
   ]
  }
 ],
 "metadata": {
  "kernelspec": {
   "display_name": "Python 3",
   "language": "python",
   "name": "python3"
  },
  "language_info": {
   "codemirror_mode": {
    "name": "ipython",
    "version": 3
   },
   "file_extension": ".py",
   "mimetype": "text/x-python",
   "name": "python",
   "nbconvert_exporter": "python",
   "pygments_lexer": "ipython3",
   "version": "3.7.3"
  }
 },
 "nbformat": 4,
 "nbformat_minor": 2
}

{
 "cells": [
  {
   "cell_type": "markdown",
   "metadata": {},
   "source": [
    "# Exercise Set 4: Data Structuring 1\n",
    "\n",
    "*Afternoon, August 13, 2019*\n",
    "\n",
    "In this Exercise Set we will apply some of the basic things we have learned with pandas."
   ]
  },
  {
   "cell_type": "markdown",
   "metadata": {},
   "source": [
    "#### Load modules\n",
    "We begin by loading relevant packages."
   ]
  },
  {
   "cell_type": "code",
   "execution_count": 7,
   "metadata": {},
   "outputs": [],
   "source": [
    "import numpy as np\n",
    "import pandas as pd"
   ]
  },
  {
   "cell_type": "markdown",
   "metadata": {},
   "source": [
    "##  Exercise Section 4.1: Weather, part 1\n",
    "\n",
    "Some data sources are open and easy to collect data from. They can be 'scraped' as is and they are already in a table format. This Exercise part of exercises is the first part of three that work with weather data, the follow ups are Exercise Sections 6.1 and 7.1. Our source will be National Oceanic and Atmospheric Administration (NOAA) which have a global data collection going back a couple of centuries. This collection is called Global Historical Climatology Network (GHCN). A description of GHCN can be found [here](https://www1.ncdc.noaa.gov/pub/data/ghcn/daily/by_year/readme.txt)."
   ]
  },
  {
   "cell_type": "markdown",
   "metadata": {},
   "source": [
    "\n",
    "> **Ex. 4.1.1:** Use Pandas' CSV reader to fetch  daily data weather from 1864 for various stations - available [here](https://www1.ncdc.noaa.gov/pub/data/ghcn/daily/by_year/). \n",
    "\n",
    "> *Hint 1*: for compressed files you may need to specify the keyword `compression`.\n",
    "\n",
    "> *Hint 2*: keyword `header` can be specified as the CSV has no column names.\n",
    "\n",
    "> *Hint 3*: Specify the path, as the URL linking directly to the 1864 file. "
   ]
  },
  {
   "cell_type": "code",
   "execution_count": 9,
   "metadata": {},
   "outputs": [
    {
     "name": "stdout",
     "output_type": "stream",
     "text": [
      "                 0         1     2    3\n",
      "0      ITE00100550  18640101  TMAX   10\n",
      "1      ITE00100550  18640101  TMIN  -23\n",
      "2      ITE00100550  18640101  PRCP   25\n",
      "3      ASN00079028  18640101  PRCP    0\n",
      "4      USC00064757  18640101  PRCP  119\n",
      "5      SF000208660  18640101  PRCP    0\n",
      "6      ASN00089000  18640101  PRCP    0\n",
      "7      SWE00100003  18640101  PRCP    0\n",
      "8      ASN00086071  18640101  TMAX  214\n",
      "9      ASN00086071  18640101  TMIN  101\n",
      "10     ASN00086071  18640101  PRCP    0\n",
      "11     USP00CA0003  18640101  PRCP    0\n",
      "12     USC00189674  18640101  PRCP    0\n",
      "13     USC00144559  18640101  PRCP    0\n",
      "14     USC00144559  18640101  SNOW    0\n",
      "15     CA006158350  18640101  TMAX   11\n",
      "16     CA006158350  18640101  TMIN -133\n",
      "17     CA006158350  18640101  PRCP    5\n",
      "18     CA006158350  18640101  SNOW    5\n",
      "19     HRE00105189  18640101  PRCP  189\n",
      "20     ASN00067054  18640101  PRCP   61\n",
      "21     ASN00081003  18640101  PRCP    0\n",
      "22     ASN00078037  18640101  PRCP    0\n",
      "23     ASN00070037  18640101  PRCP    0\n",
      "24     EIE00101859  18640101  TMAX   94\n",
      "25     EIE00101859  18640101  TMIN   11\n",
      "26     EIE00101859  18640101  PRCP   82\n",
      "27     ASN00040214  18640101  PRCP    3\n",
      "28     BE000006447  18640101  TMAX  -23\n",
      "29     BE000006447  18640101  TMIN  -36\n",
      "...            ...       ...   ...  ...\n",
      "27319  ASN00066062  18641231  TMAX  223\n",
      "27320  ASN00066062  18641231  TMIN  172\n",
      "27321  ASN00066062  18641231  PRCP   41\n",
      "27322  ASN00023000  18641231  PRCP    0\n",
      "27323  SW000010537  18641231  PRCP    0\n",
      "27324  ASN00022018  18641231  PRCP    0\n",
      "27325  AU000005901  18641231  TMAX  -28\n",
      "27326  AU000005901  18641231  TMIN  -79\n",
      "27327  GM000004204  18641231  TMAX  -34\n",
      "27328  GM000004204  18641231  TMIN -119\n",
      "27329  GM000004204  18641231  PRCP    0\n",
      "27330  ASN00075048  18641231  PRCP    0\n",
      "27331  UK000047811  18641231  TMAX   40\n",
      "27332  UK000047811  18641231  TMIN  -14\n",
      "27333  UK000047811  18641231  PRCP    0\n",
      "27334  HR000142360  18641231  PRCP    0\n",
      "27335  ASN00084016  18641231  PRCP   18\n",
      "27336  ITE00100552  18641231  PRCP    0\n",
      "27337  ITE00100553  18641231  PRCP    0\n",
      "27338  ITE00105250  18641231  PRCP    0\n",
      "27339  USP00CA0001  18641231  PRCP  157\n",
      "27340  ASN00090015  18641231  TMAX  239\n",
      "27341  ASN00090015  18641231  TMIN  128\n",
      "27342  UK000056225  18641231  TMAX   16\n",
      "27343  UK000056225  18641231  TMIN  -19\n",
      "27344  UK000056225  18641231  PRCP    3\n",
      "27345  ASN00026026  18641231  PRCP    0\n",
      "27346  ASN00089049  18641231  PRCP    0\n",
      "27347  SZ000006717  18641231  TMAX  -62\n",
      "27348  SZ000006717  18641231  TMIN -105\n",
      "\n",
      "[27349 rows x 4 columns]\n"
     ]
    }
   ],
   "source": [
    "# [Answer to Ex. 4.1.1]\n",
    "url = 'https://www1.ncdc.noaa.gov/pub/data/ghcn/daily/by_year/1864.csv.gz'\n",
    "df_weather = pd.read_csv(url, compression='gzip', header=None).iloc[:,:4]\n",
    "\n",
    "print(df_weather)"
   ]
  },
  {
   "cell_type": "markdown",
   "metadata": {},
   "source": [
    "\n",
    "> **Ex. 4.1.2:** Structure your weather DataFrame by using only the relevant columns (station identifier, data, observation type, observation value), rename them. Make sure observations are correctly formated (how many decimals should we add? one?).\n",
    "\n",
    "> *Hint:* rename can be done with `df.columns=COLS` where `COLS` is a list of column names.\n"
   ]
  },
  {
   "cell_type": "code",
   "execution_count": 10,
   "metadata": {},
   "outputs": [
    {
     "data": {
      "text/plain": [
       "0         1.0\n",
       "1        -2.3\n",
       "2         2.5\n",
       "3         0.0\n",
       "4        11.9\n",
       "5         0.0\n",
       "6         0.0\n",
       "7         0.0\n",
       "8        21.4\n",
       "9        10.1\n",
       "10        0.0\n",
       "11        0.0\n",
       "12        0.0\n",
       "13        0.0\n",
       "14        0.0\n",
       "15        1.1\n",
       "16      -13.3\n",
       "17        0.5\n",
       "18        0.5\n",
       "19       18.9\n",
       "20        6.1\n",
       "21        0.0\n",
       "22        0.0\n",
       "23        0.0\n",
       "24        9.4\n",
       "25        1.1\n",
       "26        8.2\n",
       "27        0.3\n",
       "28       -2.3\n",
       "29       -3.6\n",
       "         ... \n",
       "27319    22.3\n",
       "27320    17.2\n",
       "27321     4.1\n",
       "27322     0.0\n",
       "27323     0.0\n",
       "27324     0.0\n",
       "27325    -2.8\n",
       "27326    -7.9\n",
       "27327    -3.4\n",
       "27328   -11.9\n",
       "27329     0.0\n",
       "27330     0.0\n",
       "27331     4.0\n",
       "27332    -1.4\n",
       "27333     0.0\n",
       "27334     0.0\n",
       "27335     1.8\n",
       "27336     0.0\n",
       "27337     0.0\n",
       "27338     0.0\n",
       "27339    15.7\n",
       "27340    23.9\n",
       "27341    12.8\n",
       "27342     1.6\n",
       "27343    -1.9\n",
       "27344     0.3\n",
       "27345     0.0\n",
       "27346     0.0\n",
       "27347    -6.2\n",
       "27348   -10.5\n",
       "Name: obs_value, Length: 27349, dtype: float64"
      ]
     },
     "execution_count": 10,
     "metadata": {},
     "output_type": "execute_result"
    }
   ],
   "source": [
    "# [Answer to Ex. 4.1.2]\n",
    "df_weather.columns=('station', 'data', 'obs_type', 'obs_value')\n",
    "df_weather['obs_value'] = df_weather['obs_value'] /10\n",
    "\n",
    "df_weather['obs_value'].astype(float)\n",
    "\n",
    "#print(df_weather)"
   ]
  },
  {
   "cell_type": "markdown",
   "metadata": {},
   "source": [
    "\n",
    "> **Ex. 4.1.3:**  Select data for the station `ITE00100550` and only observations for maximal temperature. Make a copy of the DataFrame. Explain in a one or two sentences how copying works.\n",
    "\n",
    "> *Hint 1*: the `&` operator works elementwise on boolean series (like `and` in core python).\n",
    "\n",
    "> *Hint 2*: copying of the dataframe is done with the `copy` method for DataFrames."
   ]
  },
  {
   "cell_type": "code",
   "execution_count": 11,
   "metadata": {},
   "outputs": [],
   "source": [
    "# [Answer to Ex. 4.1.3]\n",
    "df_select = df_weather[(df_weather.station=='ITE00100550') & (df_weather.obs_type=='TMAX')].copy()"
   ]
  },
  {
   "cell_type": "markdown",
   "metadata": {},
   "source": [
    "> **Ex. 4.1.4:** Make a new column called `TMAX_F` where you have converted the temperature variables to Fahrenheit. \n",
    "\n",
    "> *Hint*: Conversion is $F = 32 + 1.8*C$ where $F$ is Fahrenheit and $C$ is Celsius."
   ]
  },
  {
   "cell_type": "code",
   "execution_count": 12,
   "metadata": {},
   "outputs": [],
   "source": [
    "# [Answer to Ex. 4.1.4]\n",
    "df_select['TMAX_F'] = 32 + 1.8 * df_select['obs_value']\n",
    "\n"
   ]
  },
  {
   "cell_type": "markdown",
   "metadata": {},
   "source": [
    "> **Ex 4.1.5:**  Inspect the indices, are they following the sequence of natural numbers, 0,1,2,...? If not, reset the index and make sure to drop the old."
   ]
  },
  {
   "cell_type": "code",
   "execution_count": 13,
   "metadata": {},
   "outputs": [],
   "source": [
    "# [Answer to Ex. 4.1.5]\n",
    "df_select = df_select.reset_index(drop=True)"
   ]
  },
  {
   "cell_type": "markdown",
   "metadata": {},
   "source": [
    "> **Ex 4.1.6:** Make a new DataFrame where you have sorted by the maximum temperature. What is the date for the first and last observations?"
   ]
  },
  {
   "cell_type": "code",
   "execution_count": 16,
   "metadata": {},
   "outputs": [
    {
     "name": "stdout",
     "output_type": "stream",
     "text": [
      "Min temp:  -6.3 Max temp:  34.8\n"
     ]
    }
   ],
   "source": [
    "# [Answer to Ex. 4.1.6]\n",
    "df_sorted = df_select.sort_values(by=['obs_value'])\n",
    "print(\"Min temp: \", df_sorted['obs_value'].iloc[0] , \"Max temp: \", df_sorted['obs_value'].iloc[-1])"
   ]
  },
  {
   "cell_type": "markdown",
   "metadata": {},
   "source": [
    "> **Ex 4.1.7:** CSV-files: save your DataFrame as a CSV file. what does index argument do?\n",
    "\n",
    "> Try to save the file using a relative path and an absolut path. \n",
    "With a relative you only specify the file name. This will save the file in the folder you are currently working in. With an absolute path, you specify the whole path, which allows you to save the file in a folder of your choice"
   ]
  },
  {
   "cell_type": "code",
   "execution_count": 21,
   "metadata": {},
   "outputs": [],
   "source": [
    "# [Answer to Ex. 4.1.7]\n",
    "#Relative path:\n",
    "df_sorted.to_csv('df_sorted.csv', index=False)\n"
   ]
  },
  {
   "cell_type": "markdown",
   "metadata": {},
   "source": [
    "> **(Bonus) Ex. 4.1.8**: A very compact way of writing code and making list in Python, is called list comprehensions. Depending on what you are doing, list can be more or less efficient that for example vectorized operations using NumPy. \n",
    "\n",
    ">Read about list comprehenseions online, and use it to make a list with the numbers from 0 to a million (10\\*\\*6), and add 3 to each element. Do the same doing NumPy, and time both methods. Which method is faster? \n",
    "\n",
    "> *Hint 1*: Use the `timeit` package for timing each method "
   ]
  }
 ],
 "metadata": {
  "kernelspec": {
   "display_name": "Python 3",
   "language": "python",
   "name": "python3"
  },
  "language_info": {
   "codemirror_mode": {
    "name": "ipython",
    "version": 3
   },
   "file_extension": ".py",
   "mimetype": "text/x-python",
   "name": "python",
   "nbconvert_exporter": "python",
   "pygments_lexer": "ipython3",
   "version": "3.7.3"
  }
 },
 "nbformat": 4,
 "nbformat_minor": 2
}

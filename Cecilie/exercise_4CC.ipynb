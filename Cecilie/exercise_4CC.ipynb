{
 "cells": [
  {
   "cell_type": "markdown",
   "metadata": {},
   "source": [
    "# Exercise Set 4: Data Structuring 1\n",
    "\n",
    "*Afternoon, August 13, 2019*\n",
    "\n",
    "In this Exercise Set we will apply some of the basic things we have learned with pandas."
   ]
  },
  {
   "cell_type": "markdown",
   "metadata": {},
   "source": [
    "#### Load modules\n",
    "We begin by loading relevant packages."
   ]
  },
  {
   "cell_type": "code",
   "execution_count": 1,
   "metadata": {},
   "outputs": [],
   "source": [
    "import numpy as np\n",
    "import pandas as pd"
   ]
  },
  {
   "cell_type": "markdown",
   "metadata": {},
   "source": [
    "##  Exercise Section 4.1: Weather, part 1\n",
    "\n",
    "Some data sources are open and easy to collect data from. They can be 'scraped' as is and they are already in a table format. This Exercise part of exercises is the first part of three that work with weather data, the follow ups are Exercise Sections 6.1 and 7.1. Our source will be National Oceanic and Atmospheric Administration (NOAA) which have a global data collection going back a couple of centuries. This collection is called Global Historical Climatology Network (GHCN). A description of GHCN can be found [here](https://www1.ncdc.noaa.gov/pub/data/ghcn/daily/by_year/readme.txt)."
   ]
  },
  {
   "cell_type": "markdown",
   "metadata": {},
   "source": [
    "\n",
    "> **Ex. 4.1.1:** Use Pandas' CSV reader to fetch  daily data weather from 1864 for various stations - available [here](https://www1.ncdc.noaa.gov/pub/data/ghcn/daily/by_year/). \n",
    "\n",
    "> *Hint 1*: for compressed files you may need to specify the keyword `compression`.\n",
    "\n",
    "> *Hint 2*: keyword `header` can be specified as the CSV has no column names.\n",
    "\n",
    "> *Hint 3*: Specify the path, as the URL linking directly to the 1864 file. "
   ]
  },
  {
   "cell_type": "code",
   "execution_count": 9,
   "metadata": {},
   "outputs": [
    {
     "name": "stdout",
     "output_type": "stream",
     "text": [
      "                 0         1     2    3\n",
      "0      ITE00100550  18640101  TMAX   10\n",
      "1      ITE00100550  18640101  TMIN  -23\n",
      "2      ITE00100550  18640101  PRCP   25\n",
      "3      ASN00079028  18640101  PRCP    0\n",
      "4      USC00064757  18640101  PRCP  119\n",
      "5      SF000208660  18640101  PRCP    0\n",
      "6      ASN00089000  18640101  PRCP    0\n",
      "7      SWE00100003  18640101  PRCP    0\n",
      "8      ASN00086071  18640101  TMAX  214\n",
      "9      ASN00086071  18640101  TMIN  101\n",
      "10     ASN00086071  18640101  PRCP    0\n",
      "11     USP00CA0003  18640101  PRCP    0\n",
      "12     USC00189674  18640101  PRCP    0\n",
      "13     USC00144559  18640101  PRCP    0\n",
      "14     USC00144559  18640101  SNOW    0\n",
      "15     CA006158350  18640101  TMAX   11\n",
      "16     CA006158350  18640101  TMIN -133\n",
      "17     CA006158350  18640101  PRCP    5\n",
      "18     CA006158350  18640101  SNOW    5\n",
      "19     HRE00105189  18640101  PRCP  189\n",
      "20     ASN00067054  18640101  PRCP   61\n",
      "21     ASN00081003  18640101  PRCP    0\n",
      "22     ASN00078037  18640101  PRCP    0\n",
      "23     ASN00070037  18640101  PRCP    0\n",
      "24     EIE00101859  18640101  TMAX   94\n",
      "25     EIE00101859  18640101  TMIN   11\n",
      "26     EIE00101859  18640101  PRCP   82\n",
      "27     ASN00040214  18640101  PRCP    3\n",
      "28     BE000006447  18640101  TMAX  -23\n",
      "29     BE000006447  18640101  TMIN  -36\n",
      "...            ...       ...   ...  ...\n",
      "27319  ASN00066062  18641231  TMAX  223\n",
      "27320  ASN00066062  18641231  TMIN  172\n",
      "27321  ASN00066062  18641231  PRCP   41\n",
      "27322  ASN00023000  18641231  PRCP    0\n",
      "27323  SW000010537  18641231  PRCP    0\n",
      "27324  ASN00022018  18641231  PRCP    0\n",
      "27325  AU000005901  18641231  TMAX  -28\n",
      "27326  AU000005901  18641231  TMIN  -79\n",
      "27327  GM000004204  18641231  TMAX  -34\n",
      "27328  GM000004204  18641231  TMIN -119\n",
      "27329  GM000004204  18641231  PRCP    0\n",
      "27330  ASN00075048  18641231  PRCP    0\n",
      "27331  UK000047811  18641231  TMAX   40\n",
      "27332  UK000047811  18641231  TMIN  -14\n",
      "27333  UK000047811  18641231  PRCP    0\n",
      "27334  HR000142360  18641231  PRCP    0\n",
      "27335  ASN00084016  18641231  PRCP   18\n",
      "27336  ITE00100552  18641231  PRCP    0\n",
      "27337  ITE00100553  18641231  PRCP    0\n",
      "27338  ITE00105250  18641231  PRCP    0\n",
      "27339  USP00CA0001  18641231  PRCP  157\n",
      "27340  ASN00090015  18641231  TMAX  239\n",
      "27341  ASN00090015  18641231  TMIN  128\n",
      "27342  UK000056225  18641231  TMAX   16\n",
      "27343  UK000056225  18641231  TMIN  -19\n",
      "27344  UK000056225  18641231  PRCP    3\n",
      "27345  ASN00026026  18641231  PRCP    0\n",
      "27346  ASN00089049  18641231  PRCP    0\n",
      "27347  SZ000006717  18641231  TMAX  -62\n",
      "27348  SZ000006717  18641231  TMIN -105\n",
      "\n",
      "[27349 rows x 4 columns]\n"
     ]
    }
   ],
   "source": [
    "# [Answer to Ex. 4.1.1]\n",
    "url = 'https://www1.ncdc.noaa.gov/pub/data/ghcn/daily/by_year/1864.csv.gz'\n",
    "df_weather = pd.read_csv(url, compression='gzip', header=None).iloc[:,:4]\n",
    "\n",
    "# print(df_weather)"
   ]
  },
  {
   "cell_type": "markdown",
   "metadata": {},
   "source": [
    "\n",
    "> **Ex. 4.1.2:** Structure your weather DataFrame by using only the relevant columns (station identifier, data, observation type, observation value), rename them. Make sure observations are correctly formated (how many decimals should we add? one?).\n",
    "\n",
    "> *Hint:* rename can be done with `df.columns=COLS` where `COLS` is a list of column names.\n"
   ]
  },
  {
   "cell_type": "code",
   "execution_count": 14,
   "metadata": {},
   "outputs": [],
   "source": [
    "# [Answer to Ex. 4.1.2]\n",
    "df_weather.columns=('station', 'data', 'obs_type', 'obs_value')\n",
    "df_weather['obs_value'] = df_weather['obs_value'] /10\n",
    "\n",
    "\n",
    "# print(df_weather)"
   ]
  },
  {
   "cell_type": "markdown",
   "metadata": {},
   "source": [
    "\n",
    "> **Ex. 4.1.3:**  Select data for the station `ITE00100550` and only observations for maximal temperature. Make a copy of the DataFrame. Explain in a one or two sentences how copying works.\n",
    "\n",
    "> *Hint 1*: the `&` operator works elementwise on boolean series (like `and` in core python).\n",
    "\n",
    "> *Hint 2*: copying of the dataframe is done with the `copy` method for DataFrames."
   ]
  },
  {
   "cell_type": "code",
   "execution_count": 19,
   "metadata": {},
   "outputs": [],
   "source": [
    "# [Answer to Ex. 4.1.3]\n",
    "df_select = df_weather[(df_weather.station=='ITE00100550') & (df_weather.obs_type=='TMAX')].copy()"
   ]
  },
  {
   "cell_type": "markdown",
   "metadata": {},
   "source": [
    "> **Ex. 4.1.4:** Make a new column called `TMAX_F` where you have converted the temperature variables to Fahrenheit. \n",
    "\n",
    "> *Hint*: Conversion is $F = 32 + 1.8*C$ where $F$ is Fahrenheit and $C$ is Celsius."
   ]
  },
  {
   "cell_type": "code",
   "execution_count": 21,
   "metadata": {},
   "outputs": [
    {
     "name": "stdout",
     "output_type": "stream",
     "text": [
      "           station      data obs_type  obs_value  TMAX_F\n",
      "0      ITE00100550  18640101     TMAX       0.10  32.180\n",
      "75     ITE00100550  18640102     TMAX       0.08  32.144\n",
      "152    ITE00100550  18640103     TMAX      -0.28  31.496\n",
      "227    ITE00100550  18640104     TMAX       0.00  32.000\n",
      "305    ITE00100550  18640105     TMAX      -0.19  31.658\n",
      "383    ITE00100550  18640106     TMAX      -0.13  31.766\n",
      "460    ITE00100550  18640107     TMAX      -0.04  31.928\n",
      "538    ITE00100550  18640108     TMAX       0.13  32.234\n",
      "618    ITE00100550  18640109     TMAX       0.13  32.234\n",
      "695    ITE00100550  18640110     TMAX       0.06  32.108\n",
      "770    ITE00100550  18640111     TMAX      -0.15  31.730\n",
      "847    ITE00100550  18640112     TMAX      -0.25  31.550\n",
      "924    ITE00100550  18640113     TMAX      -0.43  31.226\n",
      "1002   ITE00100550  18640114     TMAX      -0.50  31.100\n",
      "1080   ITE00100550  18640115     TMAX      -0.31  31.442\n",
      "1158   ITE00100550  18640116     TMAX      -0.25  31.550\n",
      "1236   ITE00100550  18640117     TMAX      -0.63  30.866\n",
      "1311   ITE00100550  18640118     TMAX      -0.50  31.100\n",
      "1388   ITE00100550  18640119     TMAX      -0.16  31.712\n",
      "1465   ITE00100550  18640120     TMAX      -0.09  31.838\n",
      "1542   ITE00100550  18640121     TMAX      -0.04  31.928\n",
      "1619   ITE00100550  18640122     TMAX       0.09  32.162\n",
      "1696   ITE00100550  18640123     TMAX       0.25  32.450\n",
      "1774   ITE00100550  18640124     TMAX       0.39  32.702\n",
      "1850   ITE00100550  18640125     TMAX       0.38  32.684\n",
      "1928   ITE00100550  18640126     TMAX       0.53  32.954\n",
      "2006   ITE00100550  18640127     TMAX       0.44  32.792\n",
      "2084   ITE00100550  18640128     TMAX       0.46  32.828\n",
      "2161   ITE00100550  18640129     TMAX       0.35  32.630\n",
      "2238   ITE00100550  18640130     TMAX       0.31  32.558\n",
      "...            ...       ...      ...        ...     ...\n",
      "25096  ITE00100550  18641202     TMAX       0.73  33.314\n",
      "25172  ITE00100550  18641203     TMAX       0.65  33.170\n",
      "25246  ITE00100550  18641204     TMAX       0.56  33.008\n",
      "25321  ITE00100550  18641205     TMAX       0.30  32.540\n",
      "25396  ITE00100550  18641206     TMAX       0.31  32.558\n",
      "25471  ITE00100550  18641207     TMAX       0.23  32.414\n",
      "25546  ITE00100550  18641208     TMAX       0.39  32.702\n",
      "25621  ITE00100550  18641209     TMAX       0.65  33.170\n",
      "25697  ITE00100550  18641210     TMAX       0.60  33.080\n",
      "25772  ITE00100550  18641211     TMAX       0.66  33.188\n",
      "25845  ITE00100550  18641212     TMAX       0.46  32.828\n",
      "25922  ITE00100550  18641213     TMAX       0.31  32.558\n",
      "25996  ITE00100550  18641214     TMAX       0.44  32.792\n",
      "26073  ITE00100550  18641215     TMAX       0.69  33.242\n",
      "26148  ITE00100550  18641216     TMAX       0.84  33.512\n",
      "26224  ITE00100550  18641217     TMAX       0.85  33.530\n",
      "26299  ITE00100550  18641218     TMAX       0.76  33.368\n",
      "26372  ITE00100550  18641219     TMAX       0.75  33.350\n",
      "26446  ITE00100550  18641220     TMAX       0.76  33.368\n",
      "26522  ITE00100550  18641221     TMAX       0.63  33.134\n",
      "26598  ITE00100550  18641222     TMAX       0.50  32.900\n",
      "26672  ITE00100550  18641223     TMAX       0.40  32.720\n",
      "26747  ITE00100550  18641224     TMAX       0.40  32.720\n",
      "26822  ITE00100550  18641225     TMAX       0.15  32.270\n",
      "26895  ITE00100550  18641226     TMAX       0.16  32.288\n",
      "26968  ITE00100550  18641227     TMAX       0.20  32.360\n",
      "27043  ITE00100550  18641228     TMAX       0.63  33.134\n",
      "27119  ITE00100550  18641229     TMAX       0.71  33.278\n",
      "27196  ITE00100550  18641230     TMAX       0.50  32.900\n",
      "27272  ITE00100550  18641231     TMAX       0.33  32.594\n",
      "\n",
      "[366 rows x 5 columns]\n"
     ]
    }
   ],
   "source": [
    "# [Answer to Ex. 4.1.4]\n",
    "df_select['TMAX_F'] = 32 + 1.8 * df_select['obs_value']\n",
    "\n"
   ]
  },
  {
   "cell_type": "markdown",
   "metadata": {},
   "source": [
    "> **Ex 4.1.5:**  Inspect the indices, are they following the sequence of natural numbers, 0,1,2,...? If not, reset the index and make sure to drop the old."
   ]
  },
  {
   "cell_type": "code",
   "execution_count": null,
   "metadata": {},
   "outputs": [],
   "source": [
    "# [Answer to Ex. 4.1.5]"
   ]
  },
  {
   "cell_type": "markdown",
   "metadata": {},
   "source": [
    "> **Ex 4.1.6:** Make a new DataFrame where you have sorted by the maximum temperature. What is the date for the first and last observations?"
   ]
  },
  {
   "cell_type": "code",
   "execution_count": null,
   "metadata": {},
   "outputs": [],
   "source": [
    "# [Answer to Ex. 4.1.6]"
   ]
  },
  {
   "cell_type": "markdown",
   "metadata": {},
   "source": [
    "> **Ex 4.1.7:** CSV-files: save your DataFrame as a CSV file. what does index argument do?\n",
    "\n",
    "> Try to save the file using a relative path and an absolut path. \n",
    "With a relative you only specify the file name. This will save the file in the folder you are currently working in. With an absolute path, you specify the whole path, which allows you to save the file in a folder of your choice"
   ]
  },
  {
   "cell_type": "code",
   "execution_count": null,
   "metadata": {},
   "outputs": [],
   "source": [
    "# [Answer to Ex. 4.1.7]"
   ]
  },
  {
   "cell_type": "markdown",
   "metadata": {},
   "source": [
    "> **(Bonus) Ex. 4.1.8**: A very compact way of writing code and making list in Python, is called list comprehensions. Depending on what you are doing, list can be more or less efficient that for example vectorized operations using NumPy. \n",
    "\n",
    ">Read about list comprehenseions online, and use it to make a list with the numbers from 0 to a million (10\\*\\*6), and add 3 to each element. Do the same doing NumPy, and time both methods. Which method is faster? \n",
    "\n",
    "> *Hint 1*: Use the `timeit` package for timing each method "
   ]
  }
 ],
 "metadata": {
  "kernelspec": {
   "display_name": "Python 3",
   "language": "python",
   "name": "python3"
  },
  "language_info": {
   "codemirror_mode": {
    "name": "ipython",
    "version": 3
   },
   "file_extension": ".py",
   "mimetype": "text/x-python",
   "name": "python",
   "nbconvert_exporter": "python",
   "pygments_lexer": "ipython3",
   "version": "3.7.3"
  }
 },
 "nbformat": 4,
 "nbformat_minor": 2
}

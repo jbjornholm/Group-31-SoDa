{
 "cells": [
  {
   "cell_type": "markdown",
   "metadata": {
    "deletable": false,
    "editable": false,
    "nbgrader": {
     "checksum": "52fdab5a075c0b5b2c392d9f3e890a9c",
     "grade": false,
     "grade_id": "cell-e81de4401376cd82",
     "locked": true,
     "schema_version": 1,
     "solution": false
    }
   },
   "source": [
    "# Mandatory Assignment 1\n",
    "\n",
    "This is the first of two mandatory assignments which must be completed during the course. First some practical information:\n",
    "\n",
    "* When is the assignment due?: **23:59, Sunday, August 19, 2018.**\n",
    "* How do you grade the assignment?: You will **peergrade** each other as primary grading. \n",
    "* Can i work with my group?: **yes**\n",
    "\n",
    "The assigment consist of one to tree problems from each of the exercise sets you have solved so far (excluding Set 1). We've tried to select problems which are self contained, but it might be nessecary to solve some of the previous exercises in each set to fully answer the problems in this assignment.\n",
    "\n",
    "## Problems from Exercise Set 2:\n",
    "\n",
    "> **Ex. 2.2**: Make two lists. The first should be numbered. The second should be unnumbered and contain at least one sublevel. "
   ]
  },
  {
   "cell_type": "markdown",
   "metadata": {},
   "source": [
    "1. Frederik\n",
    "- Steiner\n",
    "- Bob\n",
    "   "
   ]
  },
  {
   "cell_type": "markdown",
   "metadata": {},
   "source": [
    "- Frederik\n",
    "    - Steiner\n",
    "        - Er"
   ]
  },
  {
   "cell_type": "markdown",
   "metadata": {
    "deletable": false,
    "editable": false,
    "nbgrader": {
     "checksum": "5dfa16d57d526109fffe155cea5147bc",
     "grade": false,
     "grade_id": "cell-075bc22ce52a4ffe",
     "locked": true,
     "schema_version": 1,
     "solution": false
    }
   },
   "source": [
    "## Problems from Exercise set 3:\n",
    "\n",
    "> **Ex. 3.1.3:** Let `l1 = ['r ', 'Is', '>', ' < ', 'g ', '?']`. Create from `l1` the sentence `\"Is r > g?\"` using your knowledge about string formatting. Store this new string in a variable called `answer_31`. Make sure there is only one space in between worlds.\n",
    ">\n",
    ">> _Hint:_ You should be able to combine the above informations to solve this exercise."
   ]
  },
  {
   "cell_type": "code",
   "execution_count": 108,
   "metadata": {
    "deletable": false,
    "nbgrader": {
     "checksum": "54f945a62727e4c9616a38b1d1f6673d",
     "grade": false,
     "grade_id": "problem_31",
     "locked": false,
     "schema_version": 1,
     "solution": true
    }
   },
   "outputs": [],
   "source": [
    "l1=['r ', 'Is', '>', ' < ', 'g ', '?']\n",
    "l2=l1[1] + ' ' + l1[0].strip() + ' ' + l1[2] + ' ' + l1[4].strip() + l1[5]\n",
    "answer_31=l2\n"
   ]
  },
  {
   "cell_type": "code",
   "execution_count": 109,
   "metadata": {
    "deletable": false,
    "editable": false,
    "nbgrader": {
     "checksum": "99da4cf8dc98518963d95fb054131224",
     "grade": true,
     "grade_id": "problem_31_tests",
     "locked": true,
     "points": 1,
     "schema_version": 1,
     "solution": false
    }
   },
   "outputs": [],
   "source": [
    "assert answer_31 == \"Is r > g?\""
   ]
  },
  {
   "cell_type": "markdown",
   "metadata": {
    "deletable": false,
    "editable": false,
    "nbgrader": {
     "checksum": "dc2c4cc2a1cdba681ed1006bba8f4619",
     "grade": false,
     "grade_id": "cell-1d737e504b202c4a",
     "locked": true,
     "schema_version": 1,
     "solution": false
    }
   },
   "source": [
    "> **Ex. 3.1.4**: Create an empty dictionary `words` using the `dict()`function. Then add each of the words in `['animal', 'coffee', 'python', 'unit', 'knowledge', 'tread', 'arise']` as a key, with the value being a boolean indicator for whether the word begins with a vowel. The results should look like `{'bacon': False, 'asynchronous': True ...}`. Store the result in a new variable called `answer_32`.\n",
    ">\n",
    ">> _Hint:_ You might want co first construct a function that asseses whether a given word begins with a vowel or not."
   ]
  },
  {
   "cell_type": "code",
   "execution_count": 16,
   "metadata": {
    "deletable": false,
    "nbgrader": {
     "checksum": "77bbae13d6cb074fac5b05890acaf4e6",
     "grade": false,
     "grade_id": "problem_32",
     "locked": false,
     "schema_version": 1,
     "solution": true
    }
   },
   "outputs": [],
   "source": [
    "# [Answer to Ex. 3.1.4 here]\n",
    "W = ['animal', 'coffee', 'python', 'unit', 'knowledge', 'tread', 'arise']\n",
    "\n",
    "words=dict()\n",
    "\n",
    "def vowel(x):\n",
    "    if x[0] in ['a','e','i','o','u','y']:\n",
    "        x = True\n",
    "    else:\n",
    "        x = False\n",
    "    return x\n",
    "\n",
    "keys=['animal','coffee','python','unit','knowledge','tread','arise']\n",
    "value=[]\n",
    "\n",
    "for i in keys:\n",
    "    words[i]=vowel(i)\n",
    "words\n",
    "answer_32=words"
   ]
  },
  {
   "cell_type": "code",
   "execution_count": 17,
   "metadata": {
    "deletable": false,
    "editable": false,
    "nbgrader": {
     "checksum": "b9b444b7f9f76b5dc862d1aae155c794",
     "grade": true,
     "grade_id": "problem_32_tests",
     "locked": true,
     "points": 1,
     "schema_version": 1,
     "solution": false
    }
   },
   "outputs": [],
   "source": [
    "assert answer_32 == {i: i[0] in 'aeiou' for i in W}\n",
    "assert sorted(answer_32) == sorted(W)"
   ]
  },
  {
   "cell_type": "markdown",
   "metadata": {
    "deletable": false,
    "editable": false,
    "nbgrader": {
     "checksum": "29d96b09d12a59e80fc8cc796d836363",
     "grade": false,
     "grade_id": "cell-b4f75d07ccec62ef",
     "locked": true,
     "schema_version": 1,
     "solution": false
    }
   },
   "source": [
    "> **Ex. 3.3.2:** use the `requests` module (get it with `pip install requests`) and `construct_link()` which you defined in the previous question (ex 3.3.1) to request birth data from the \"FOD\" table. Get all available years (variable \"Tid\"), but only female births (BARNKON=P) . Unpack the json payload and store the result. Wrap the whole thing in a function which takes an url as input and returns the corresponding output.\n",
    ">\n",
    "> Store the birth data in a new variable called `answer_33`.\n",
    ">\n",
    ">> _Hint:_ The `requests.response` object has a `.json()` method. \n",
    ">\n",
    ">> _Note:_ you wrote `construct_link()` in 3.3.1, if you didn't heres the link you need to get: `https://api.statbank.dk/v1/data/FOLK1A/JSONSTAT?lang=en&Tid=*`"
   ]
  },
  {
   "cell_type": "code",
   "execution_count": 19,
   "metadata": {
    "deletable": false,
    "nbgrader": {
     "checksum": "68d07574aa272d282cfabe0adbd40035",
     "grade": false,
     "grade_id": "problem_33",
     "locked": false,
     "schema_version": 1,
     "solution": true
    }
   },
   "outputs": [
    {
     "name": "stdout",
     "output_type": "stream",
     "text": [
      "https://api.statbank.dk/v1/data/FOD/JSONSTAT?Tid=*&BARNKON=P\n"
     ]
    }
   ],
   "source": [
    "import requests\n",
    "# url=\"https://api.statbank.dk/v1/data/FOLK1A/JSONSTAT?lang=en&tid=*\"\n",
    "\n",
    "def construct_link(table,var1,var2):\n",
    "    link =\"https://api.statbank.dk/v1/data\"\n",
    "    if var2!='':\n",
    "        var_2='&' + var2\n",
    "    else:\n",
    "        var_2=''\n",
    "    return link + '/' + table + '/' + 'JSONSTAT?' + var1 + var_2\n",
    "url=construct_link('fod','tid=*','')\n",
    "\n",
    "\n",
    "fod_url=construct_link(\"FOD\",\"Tid=*\",\"BARNKON=P\")\n",
    "print(fod_url)\n",
    "fod=requests.get(fod_url)\n",
    "fod_json=fod.json()\n",
    "fod_json\n",
    "\n",
    "def finish(url):\n",
    "    data_kon=requests.get(url)\n",
    "    data_kon_json=data_kon.json()\n",
    "    return data_kon_json\n",
    "data_kon_json=finish(construct_link(\"FOD\",\"Tid=*\",\"BARNKON=P\"))\n",
    "answer_33=data_kon_json"
   ]
  },
  {
   "cell_type": "code",
   "execution_count": 20,
   "metadata": {
    "deletable": false,
    "editable": false,
    "nbgrader": {
     "checksum": "05a6f9bbf5fc1d972e3bdfb90bf7d8c0",
     "grade": true,
     "grade_id": "problem_33_tests",
     "locked": true,
     "points": 1,
     "schema_version": 1,
     "solution": false
    }
   },
   "outputs": [],
   "source": [
    "assert sorted(answer_33['dataset'].keys()) == ['dimension', 'label', 'source', 'updated', 'value']\n",
    "assert 'BARNKON' in answer_33['dataset']['dimension'].keys()"
   ]
  },
  {
   "cell_type": "markdown",
   "metadata": {
    "deletable": false,
    "editable": false,
    "nbgrader": {
     "checksum": "080f814e193a79742f10b565f49e667b",
     "grade": false,
     "grade_id": "cell-7738e4de11c9ba89",
     "locked": true,
     "schema_version": 1,
     "solution": false
    }
   },
   "source": [
    "## Problems from exercise set 4\n"
   ]
  },
  {
   "cell_type": "code",
   "execution_count": 22,
   "metadata": {
    "deletable": false,
    "editable": false,
    "nbgrader": {
     "checksum": "dc62d41fddcf5f9cc24531cbc8aeb995",
     "grade": false,
     "grade_id": "cell-6ce85387893ff77f",
     "locked": true,
     "schema_version": 1,
     "solution": false
    }
   },
   "outputs": [],
   "source": [
    "import numpy as np\n",
    "import pandas as pd"
   ]
  },
  {
   "cell_type": "markdown",
   "metadata": {
    "deletable": false,
    "editable": false,
    "nbgrader": {
     "checksum": "8f4eb9718da6000d04736de9af469001",
     "grade": false,
     "grade_id": "cell-0cf565ee06bf9606",
     "locked": true,
     "schema_version": 1,
     "solution": false
    }
   },
   "source": [
    "> **Ex. 4.1.1:** Use Pandas' CSV reader to fetch  daily data weather from 1864 for various stations - available [here](https://www1.ncdc.noaa.gov/pub/data/ghcn/daily/by_year/). Store the dataframe in a variable called `answer_41`.\n",
    ">\n",
    ">> *Hint 1*: for compressed files you may need to specify the keyword `compression`.\n",
    ">\n",
    ">> *Hint 2*: keyword `header` can be specified as the CSV has no column names.\n",
    ">\n",
    ">> *Hint 3*: Specify the path, as the URL linking directly to the 1864 file. "
   ]
  },
  {
   "cell_type": "code",
   "execution_count": 24,
   "metadata": {
    "deletable": false,
    "nbgrader": {
     "checksum": "c5b74ef23beb0bc773344af6e8e90809",
     "grade": false,
     "grade_id": "problem_41",
     "locked": false,
     "schema_version": 1,
     "solution": true
    }
   },
   "outputs": [
    {
     "name": "stdout",
     "output_type": "stream",
     "text": [
      "             0         1     2    3    4    5  6   7\n",
      "0  ITE00100550  18640101  TMAX   10  NaN  NaN  E NaN\n",
      "1  ITE00100550  18640101  TMIN  -23  NaN  NaN  E NaN\n",
      "2  ITE00100550  18640101  PRCP   25  NaN  NaN  E NaN\n",
      "3  ASN00079028  18640101  PRCP    0  NaN  NaN  a NaN\n",
      "4  USC00064757  18640101  PRCP  119  NaN  NaN  F NaN\n",
      "5  SF000208660  18640101  PRCP    0  NaN  NaN  I NaN\n",
      "6  ASN00089000  18640101  PRCP    0  NaN  NaN  a NaN\n",
      "7  SWE00100003  18640101  PRCP    0  NaN  NaN  E NaN\n",
      "8  ASN00086071  18640101  TMAX  214  NaN  NaN  a NaN\n",
      "9  ASN00086071  18640101  TMIN  101  NaN  NaN  a NaN\n"
     ]
    }
   ],
   "source": [
    "url = 'https://www1.ncdc.noaa.gov/pub/data/ghcn/daily/by_year/1864.csv.gz'\n",
    "df = pd.read_csv(url, compression='gzip', header=-1) # open the file as dataframe\n",
    "print(df.head(10))\n",
    "answer_41=df"
   ]
  },
  {
   "cell_type": "code",
   "execution_count": 25,
   "metadata": {
    "deletable": false,
    "editable": false,
    "nbgrader": {
     "checksum": "238d18588151c3bdb43bce91f5f5c908",
     "grade": true,
     "grade_id": "problem_41_tests",
     "locked": true,
     "points": 1,
     "schema_version": 1,
     "solution": false
    }
   },
   "outputs": [],
   "source": [
    "assert answer_41.shape == (27349, 8)\n",
    "assert list(answer_41.columns) == list(range(8))"
   ]
  },
  {
   "cell_type": "markdown",
   "metadata": {
    "deletable": false,
    "editable": false,
    "nbgrader": {
     "checksum": "2c9865188a9e267f6ae311090805d3c6",
     "grade": false,
     "grade_id": "cell-fef3fd772e3b2e19",
     "locked": true,
     "schema_version": 1,
     "solution": false
    }
   },
   "source": [
    "> **Ex. 4.1.2:** Structure your weather DataFrame by using only the relevant columns (station identifier, data, observation type, observation value), rename them. Make sure observations are correctly formated (how many decimals should we add? one?).\n",
    ">\n",
    "> Store the resulting dataframe in a new variable called `answer_42`.\n",
    ">\n",
    ">> *Hint:* rename can be done with `df.columns=COLS` where `COLS` is a list of column names."
   ]
  },
  {
   "cell_type": "code",
   "execution_count": 68,
   "metadata": {
    "deletable": false,
    "nbgrader": {
     "checksum": "f8b0be8cbe49efa6f85b2a318effdf31",
     "grade": false,
     "grade_id": "problem_42",
     "locked": false,
     "schema_version": 1,
     "solution": true
    }
   },
   "outputs": [],
   "source": [
    "df_1=df.loc[:,[0,1,2,3]]\n",
    "df_1.columns=['Station identifier', 'Data', 'Observation Type', 'Observation Value']\n",
    "df_1['Observation Value']=df_1['Observation Value'] / 10\n",
    "answer_42=df_1"
   ]
  },
  {
   "cell_type": "code",
   "execution_count": 33,
   "metadata": {
    "deletable": false,
    "editable": false,
    "nbgrader": {
     "checksum": "5559217edb771ff89b82031f801c8eee",
     "grade": true,
     "grade_id": "problem_42_tests",
     "locked": true,
     "points": 1,
     "schema_version": 1,
     "solution": false
    }
   },
   "outputs": [],
   "source": [
    "assert answer_42.shape == (27349, 4)\n",
    "assert 144.8 in [answer_42[i].max() for i in answer_42]\n",
    "assert -666.0 in [answer_42[i].min() for i in answer_42]\n",
    "assert 18640101 in [answer_42[i].min() for i in answer_42]"
   ]
  },
  {
   "cell_type": "markdown",
   "metadata": {
    "deletable": false,
    "editable": false,
    "nbgrader": {
     "checksum": "003c5b1c802d4d1556083d23611093ad",
     "grade": false,
     "grade_id": "cell-323f47f2db7307c1",
     "locked": true,
     "schema_version": 1,
     "solution": false
    }
   },
   "source": [
    "> **Ex. 4.1.3:**  Select data for the station `ITE00100550` and only observations for maximal temperature. Make a copy of the DataFrame. Explain in a one or two sentences how copying works.\n",
    ">\n",
    "> Store the subsetted dataframe in a new variable called `answer_43`.\n",
    ">\n",
    ">> *Hint 1*: the `&` operator works elementwise on boolean series (like `and` in core python).\n",
    ">\n",
    ">> *Hint 2*: copying of the dataframe is done with the `copy` method for DataFrames."
   ]
  },
  {
   "cell_type": "code",
   "execution_count": 35,
   "metadata": {
    "deletable": false,
    "nbgrader": {
     "checksum": "35bba693b17ba982b78783c2e510c1be",
     "grade": false,
     "grade_id": "problem_43",
     "locked": false,
     "schema_version": 1,
     "solution": true
    }
   },
   "outputs": [],
   "source": [
    "df_2 = df_1[(df_1['Station identifier'] == 'ITE00100550') & (df_1['Observation Type'] == 'TMAX')].copy()\n",
    "answer_43=df_2"
   ]
  },
  {
   "cell_type": "code",
   "execution_count": 36,
   "metadata": {
    "deletable": false,
    "editable": false,
    "nbgrader": {
     "checksum": "db7520577f35003b0ce18b42f0d6bd2e",
     "grade": true,
     "grade_id": "problem_43_tests",
     "locked": true,
     "points": 1,
     "schema_version": 1,
     "solution": false
    }
   },
   "outputs": [],
   "source": [
    "assert 'ITE00100550' in [answer_43[i].min() for i in answer_43]\n",
    "assert 'ITE00100550' in [answer_43[i].max() for i in answer_43]\n",
    "assert 'TMAX' in [answer_43[i].min() for i in answer_43]\n",
    "assert 'TMAX' in [answer_43[i].max() for i in answer_43]"
   ]
  },
  {
   "cell_type": "markdown",
   "metadata": {
    "deletable": false,
    "editable": false,
    "nbgrader": {
     "checksum": "40769f7d8f4a1b396187443bc14517d9",
     "grade": false,
     "grade_id": "cell-d6100b901a5d4ba8",
     "locked": true,
     "schema_version": 1,
     "solution": false
    }
   },
   "source": [
    "> **Ex. 4.1.4:** Make a new column in `answer_44` called `TMAX_F` where you have converted the temperature variables to Fahrenheit. Make sure not to overwrite `answer_43`.\n",
    ">\n",
    "> Store the resulting dataframe in a variable called `answer_44`.\n",
    ">\n",
    ">> *Hint*: Conversion is $F = 32 + 1.8*C$ where $F$ is Fahrenheit and $C$ is Celsius."
   ]
  },
  {
   "cell_type": "code",
   "execution_count": 38,
   "metadata": {
    "deletable": false,
    "nbgrader": {
     "checksum": "e88dde4ccdbddb981100b636b0d1d448",
     "grade": false,
     "grade_id": "problem_44",
     "locked": false,
     "schema_version": 1,
     "solution": true
    }
   },
   "outputs": [],
   "source": [
    "# [Answer to Ex. 4.1.4 here]\n",
    "answer_44 = answer_43.copy()\n",
    "answer_44['TMAX_F'] = 32 + 1.8 * answer_44['Observation Value']\n",
    "\n"
   ]
  },
  {
   "cell_type": "code",
   "execution_count": 39,
   "metadata": {
    "deletable": false,
    "editable": false,
    "nbgrader": {
     "checksum": "cb8fb435c837f57fc91f5d55df8709c7",
     "grade": true,
     "grade_id": "problem_44_tests",
     "locked": true,
     "points": 1,
     "schema_version": 1,
     "solution": false
    }
   },
   "outputs": [],
   "source": [
    "assert set(answer_44.columns) -  set(answer_43.columns) == {'TMAX_F'}"
   ]
  },
  {
   "cell_type": "markdown",
   "metadata": {
    "deletable": false,
    "editable": false,
    "nbgrader": {
     "checksum": "7abe66bdec5e0922773485287403a31f",
     "grade": false,
     "grade_id": "cell-69a5ddb907fc34bc",
     "locked": true,
     "schema_version": 1,
     "solution": false
    }
   },
   "source": [
    "## Problems from exercise set 5"
   ]
  },
  {
   "cell_type": "code",
   "execution_count": 40,
   "metadata": {
    "deletable": false,
    "editable": false,
    "nbgrader": {
     "checksum": "3ec8e5eab14daeb68b706c206bce27a4",
     "grade": false,
     "grade_id": "cell-dc072f65e62126e4",
     "locked": true,
     "schema_version": 1,
     "solution": false
    }
   },
   "outputs": [],
   "source": [
    "import matplotlib.pyplot as plt\n",
    "import numpy as np \n",
    "import pandas as pd\n",
    "import seaborn as sns \n",
    "\n",
    "%matplotlib inline \n",
    "\n",
    "iris = sns.load_dataset('iris')\n",
    "titanic = sns.load_dataset('titanic')"
   ]
  },
  {
   "cell_type": "markdown",
   "metadata": {
    "deletable": false,
    "editable": false,
    "nbgrader": {
     "checksum": "44db0d95253cc709f8289a00c40bd014",
     "grade": false,
     "grade_id": "cell-ef0604c76e360580",
     "locked": true,
     "schema_version": 1,
     "solution": false
    }
   },
   "source": [
    "> **Ex. 5.1.1:**: Show the first five rows of the titanic dataset. What information is in the dataset? Use a barplot to show the probability of survival for men and women within each passenger class. Can you make a boxplot showing the same information (why/why not?). _Bonus:_ show a boxplot for the fare-prices within each passenger class. \n",
    ">\n",
    "> Spend five minutes discussing what you can learn about the survival-selection aboard titanic from the figure(s).\n",
    ">\n",
    "> > _Hint:_ https://seaborn.pydata.org/generated/seaborn.barplot.html, specifically the `hue` option.\n"
   ]
  },
  {
   "cell_type": "code",
   "execution_count": 43,
   "metadata": {
    "deletable": false,
    "nbgrader": {
     "checksum": "18ef2e9eff41ceb6b26fb588206b684f",
     "grade": true,
     "grade_id": "problem_51",
     "locked": false,
     "points": 1,
     "schema_version": 1,
     "solution": true
    }
   },
   "outputs": [
    {
     "name": "stdout",
     "output_type": "stream",
     "text": [
      "   survived  pclass     sex   age  sibsp  parch     fare embarked  class  \\\n",
      "0         0       3    male  22.0      1      0   7.2500        S  Third   \n",
      "1         1       1  female  38.0      1      0  71.2833        C  First   \n",
      "2         1       3  female  26.0      0      0   7.9250        S  Third   \n",
      "3         1       1  female  35.0      1      0  53.1000        S  First   \n",
      "4         0       3    male  35.0      0      0   8.0500        S  Third   \n",
      "\n",
      "     who  adult_male deck  embark_town alive  alone  \n",
      "0    man        True  NaN  Southampton    no  False  \n",
      "1  woman       False    C    Cherbourg   yes  False  \n",
      "2  woman       False  NaN  Southampton   yes   True  \n",
      "3  woman       False    C  Southampton   yes  False  \n",
      "4    man        True  NaN  Southampton    no   True  \n"
     ]
    },
    {
     "data": {
      "text/plain": [
       "<matplotlib.axes._subplots.AxesSubplot at 0x24e736c3898>"
      ]
     },
     "execution_count": 43,
     "metadata": {},
     "output_type": "execute_result"
    },
    {
     "data": {
      "image/png": "[encoded data removed]",
      "text/plain": [
       "<Figure size 432x288 with 1 Axes>"
      ]
     },
     "metadata": {
      "needs_background": "light"
     },
     "output_type": "display_data"
    }
   ],
   "source": [
    "print(titanic.head(5))\n",
    "# Barplot, survival men/women dist. pclass\n",
    "sns.barplot(x='sex', y='survived', hue='pclass', data=titanic)"
   ]
  },
  {
   "cell_type": "code",
   "execution_count": 44,
   "metadata": {},
   "outputs": [
    {
     "data": {
      "text/plain": [
       "<matplotlib.axes._subplots.AxesSubplot at 0x24e7376ee10>"
      ]
     },
     "execution_count": 44,
     "metadata": {},
     "output_type": "execute_result"
    },
    {
     "data": {
      "image/png": "[encoded data removed]",
      "text/plain": [
       "<Figure size 432x288 with 1 Axes>"
      ]
     },
     "metadata": {
      "needs_background": "light"
     },
     "output_type": "display_data"
    }
   ],
   "source": [
    "# Boxplot\n",
    "sns.boxplot(x='sex', y='survived', hue='pclass', data=titanic)\n",
    "# You cannot."
   ]
  },
  {
   "cell_type": "code",
   "execution_count": 45,
   "metadata": {},
   "outputs": [
    {
     "data": {
      "text/plain": [
       "<matplotlib.axes._subplots.AxesSubplot at 0x24e73827588>"
      ]
     },
     "execution_count": 45,
     "metadata": {},
     "output_type": "execute_result"
    },
    {
     "data": {
      "image/png": "[encoded data removed]",
      "text/plain": [
       "<Figure size 432x288 with 1 Axes>"
      ]
     },
     "metadata": {
      "needs_background": "light"
     },
     "output_type": "display_data"
    }
   ],
   "source": [
    "sns.boxplot(x='pclass', y='fare', data=titanic)"
   ]
  },
  {
   "cell_type": "markdown",
   "metadata": {
    "deletable": false,
    "editable": false,
    "nbgrader": {
     "checksum": "fc466900f77bd9400665fc24523ba7d7",
     "grade": false,
     "grade_id": "cell-8d78955bde3112ba",
     "locked": true,
     "schema_version": 1,
     "solution": false
    }
   },
   "source": [
    "> **Ex. 5.1.2:** Using the iris flower dataset, draw a scatterplot of sepal length and petal length. Include a second order polynomial fitted to the data. Add a title to the plot and rename the axis labels.\n",
    "> _Discuss:_ Is this a meaningful way to display the data? What could we do differently?\n",
    ">\n",
    "> For a better understanding of the dataset this image might be useful:\n",
    "> <img src=\"iris_pic.png\" alt=\"Drawing\" style=\"width: 200px;\"/>\n",
    ">\n",
    ">> _Hint:_ use the `.regplot` method from seaborn. "
   ]
  },
  {
   "cell_type": "code",
   "execution_count": 46,
   "metadata": {
    "deletable": false,
    "nbgrader": {
     "checksum": "cdb3b79fb6852431c37310696e841913",
     "grade": true,
     "grade_id": "cell-8631e73e3796008b",
     "locked": false,
     "points": 1,
     "schema_version": 1,
     "solution": true
    }
   },
   "outputs": [
    {
     "name": "stdout",
     "output_type": "stream",
     "text": [
      "   sepal_length  sepal_width  petal_length  petal_width species\n",
      "0           5.1          3.5           1.4          0.2  setosa\n",
      "1           4.9          3.0           1.4          0.2  setosa\n",
      "2           4.7          3.2           1.3          0.2  setosa\n"
     ]
    },
    {
     "data": {
      "text/plain": [
       "Text(0, 0.5, 'Petal Length')"
      ]
     },
     "execution_count": 46,
     "metadata": {},
     "output_type": "execute_result"
    },
    {
     "data": {
      "image/png": "[encoded data removed]",
      "text/plain": [
       "<Figure size 432x288 with 1 Axes>"
      ]
     },
     "metadata": {
      "needs_background": "light"
     },
     "output_type": "display_data"
    }
   ],
   "source": [
    "print(iris.head(3))\n",
    "# plt.scatter(x=iris['sepal_length'], y=iris['petal_length'])\n",
    "\n",
    "sns.regplot(x='sepal_length', y='petal_length', order=2, label=5, fit_reg=True, data=iris).set_title('Figur 1')\n",
    "\n",
    "plt.xlabel('Sepal Length')\n",
    "plt.ylabel('Petal Length')\n"
   ]
  },
  {
   "cell_type": "markdown",
   "metadata": {
    "deletable": false,
    "editable": false,
    "nbgrader": {
     "checksum": "f6955bf905fc3c63c64ac4420d11d1f6",
     "grade": false,
     "grade_id": "cell-95796f67165019ab",
     "locked": true,
     "schema_version": 1,
     "solution": false
    }
   },
   "source": [
    "> **Ex. 5.1.3:** Combine the two of the figures you created above into a two-panel figure similar to the one shown here:\n",
    "> <img src=\"Example.png\" alt=\"Drawing\" style=\"width: 600px;\"/>\n",
    ">\n",
    "> Save the figure as a png file on your computer. \n",
    ">> _Hint:_ See [this question](https://stackoverflow.com/questions/41384040/subplot-for-seaborn-boxplot) on stackoverflow for inspiration."
   ]
  },
  {
   "cell_type": "code",
   "execution_count": 144,
   "metadata": {
    "deletable": false,
    "nbgrader": {
     "checksum": "5552793303f021420e75daf3f7caa237",
     "grade": true,
     "grade_id": "cell-686e1fcbc475435a",
     "locked": false,
     "points": 1,
     "schema_version": 1,
     "solution": true
    }
   },
   "outputs": [
    {
     "data": {
      "text/plain": [
       "Text(0, 0.5, 'Petal Length')"
      ]
     },
     "execution_count": 144,
     "metadata": {},
     "output_type": "execute_result"
    },
    {
     "data": {
      "image/png": "[encoded data removed]",
      "text/plain": [
       "<Figure size 864x360 with 2 Axes>"
      ]
     },
     "metadata": {
      "needs_background": "light"
     },
     "output_type": "display_data"
    }
   ],
   "source": [
    "f, axes = plt.subplots(1, 2, figsize=(12,5))\n",
    "sns.barplot(x='sex', y='survived', hue='pclass', data=titanic, ax=axes[0])\n",
    "sns.regplot(x='sepal_length', y='petal_length', order=2, label=5, fit_reg=True, data=iris, ax=axes[1]).set_title('Figur 1')\n",
    "plt.subplots_adjust(wspace=0.25, hspace=0)\n",
    "plt.xlabel('Sepal Length')\n",
    "plt.ylabel('Petal Length')"
   ]
  },
  {
   "cell_type": "markdown",
   "metadata": {
    "deletable": false,
    "editable": false,
    "nbgrader": {
     "checksum": "d4010a7acb4875fd0440dbc6057bb84a",
     "grade": false,
     "grade_id": "cell-e280df998b60ae2f",
     "locked": true,
     "schema_version": 1,
     "solution": false
    }
   },
   "source": [
    "> **Ex. 5.1.4:** Use [pairplot with hue](https://seaborn.pydata.org/generated/seaborn.pairplot.html) to create a figure that clearly shows how the different species vary across measurements. Change the color palette and remove the shading from the density plots. _Bonus:_ Try to explain how the `diag_kws` argument works (_hint:_ [read here](https://stackoverflow.com/questions/1769403/understanding-kwargs-in-python))"
   ]
  },
  {
   "cell_type": "code",
   "execution_count": 48,
   "metadata": {
    "deletable": false,
    "nbgrader": {
     "checksum": "492a7bf33f9d310739162fae57556a1f",
     "grade": true,
     "grade_id": "cell-0f5793c056a02040",
     "locked": false,
     "points": 1,
     "schema_version": 1,
     "solution": true
    }
   },
   "outputs": [
    {
     "data": {
      "text/plain": [
       "<seaborn.axisgrid.PairGrid at 0x24e735eaef0>"
      ]
     },
     "execution_count": 48,
     "metadata": {},
     "output_type": "execute_result"
    },
    {
     "data": {
      "image/png": "[encoded data removed]",
      "text/plain": [
       "<Figure size 804.75x720 with 20 Axes>"
      ]
     },
     "metadata": {
      "needs_background": "light"
     },
     "output_type": "display_data"
    }
   ],
   "source": [
    "sns.pairplot(iris, hue='species', palette='dark', diag_kws=dict(shade=False))"
   ]
  },
  {
   "cell_type": "markdown",
   "metadata": {
    "deletable": false,
    "editable": false,
    "nbgrader": {
     "checksum": "50981ef2a4bf0b5c3c2c69baea6a7685",
     "grade": false,
     "grade_id": "cell-ee43396c59c5301f",
     "locked": true,
     "schema_version": 1,
     "solution": false
    }
   },
   "source": [
    "## Problems from exercise set 6\n",
    "\n",
    "> _Note:_ In the exercises we asked you to download weather data from the NOAA website. For this assignment the data are loaded in the following code cell into two pandas dataframes."
   ]
  },
  {
   "cell_type": "code",
   "execution_count": 136,
   "metadata": {
    "deletable": false,
    "editable": false,
    "nbgrader": {
     "checksum": "06644b5719b20405b4baee66e20fe061",
     "grade": false,
     "grade_id": "cell-834b03b8b15b0307",
     "locked": true,
     "schema_version": 1,
     "solution": false
    }
   },
   "outputs": [],
   "source": [
    "%matplotlib inline\n",
    "import pandas as pd\n",
    "import matplotlib.pyplot as plt\n",
    "\n",
    "weather_1864 = pd.read_csv('weather_data_1864.csv')"
   ]
  },
  {
   "cell_type": "markdown",
   "metadata": {
    "deletable": false,
    "editable": false,
    "nbgrader": {
     "checksum": "b31c95426614b2adb9069483b538734e",
     "grade": false,
     "grade_id": "cell-3b947e0bc3564fc0",
     "locked": true,
     "schema_version": 1,
     "solution": false
    }
   },
   "source": [
    "> **Ex. 6.1.4:** Extract the country code from the station name into a separate column.\n",
    ">\n",
    "> Create a new column in `weather_1864` called `answer_61` and store the country codes here.\n",
    ">\n",
    ">> _Hint:_ The station column contains a GHCND ID, given to each weather station by NOAA. The format of these ID's is a 2-3 letter country code, followed by a integer identifying the specific station. A simple approach is to assume a fixed length of the country ID. A more complex way would be to use the [`re`](https://docs.python.org/2/library/re.html) module."
   ]
  },
  {
   "cell_type": "code",
   "execution_count": 138,
   "metadata": {
    "deletable": false,
    "nbgrader": {
     "checksum": "449adcf52422faf0dec2cd826ff87d2a",
     "grade": false,
     "grade_id": "problem_61",
     "locked": false,
     "schema_version": 1,
     "solution": true
    }
   },
   "outputs": [
    {
     "name": "stdout",
     "output_type": "stream",
     "text": [
      "       station  datetime obs_type  obs_value  TMAX_F datetime_dt answer_61\n",
      "0  SZ000006717  18640226     TMAX      -34.0  -29.20  1864-02-26       SZ0\n",
      "1  SZ000006717  18640208     TMAX      -17.4    0.68  1864-02-08       SZ0\n",
      "2  CA006158350  18640217     TMAX      -16.7    1.94  1864-02-17       CA0\n",
      "3  SZ000006717  18640103     TMAX      -16.5    2.30  1864-01-03       SZ0\n",
      "4  CA006158350  18640102     TMAX      -16.1    3.02  1864-01-02       CA0\n"
     ]
    }
   ],
   "source": [
    "weather_1864['answer_61']=weather_1864['station'].str[:3]\n",
    "print(weather_1864.head())\n"
   ]
  },
  {
   "cell_type": "code",
   "execution_count": 139,
   "metadata": {
    "deletable": false,
    "editable": false,
    "nbgrader": {
     "checksum": "149a5ad93fbe65bcda27008f62ebc94a",
     "grade": true,
     "grade_id": "problem_61_tests",
     "locked": true,
     "points": 1,
     "schema_version": 1,
     "solution": false
    }
   },
   "outputs": [],
   "source": [
    "assert sorted(weather_1864['answer_61'].str[:2].unique()) == sorted(['SZ', 'CA', 'EZ', 'GM', 'AU', 'IT', 'BE', 'UK', 'EI', 'AG', 'AS'])"
   ]
  },
  {
   "cell_type": "markdown",
   "metadata": {
    "deletable": false,
    "editable": false,
    "nbgrader": {
     "checksum": "d720993d20e02b6684611da9488872ea",
     "grade": false,
     "grade_id": "cell-369017dafb1e6d7c",
     "locked": true,
     "schema_version": 1,
     "solution": false
    }
   },
   "source": [
    "> **Ex. 6.1.5:** Make a function that downloads and formats the weather data according to previous exercises in Exercise Section 4.1, 6.1. You should use data for ALL stations but still only select maximal temperature. _Bonus:_ To validate that your function works plot the temperature curve for each country in the same window. Use `plt.legend()` to add a legend. \n",
    ">\n",
    "> Name your function `prepareWeatherData`."
   ]
  },
  {
   "cell_type": "code",
   "execution_count": 91,
   "metadata": {
    "deletable": false,
    "nbgrader": {
     "checksum": "920bf57a90b7599b51659c580eb9d604",
     "grade": false,
     "grade_id": "problem_62",
     "locked": false,
     "schema_version": 1,
     "solution": true
    }
   },
   "outputs": [],
   "source": [
    "# [Answer to Ex. 6.1.5]\n",
    "\n",
    "def prepareWeatherData(year):\n",
    "    url='https://www1.ncdc.noaa.gov/pub/data/ghcn/daily/by_year/{}.csv.gz'.format(year)\n",
    "    df_weather = pd.read_csv(url,\n",
    "                         compression='gzip',\n",
    "                         header=None).iloc[:,:4]\n",
    "    df_weather.columns = ['station', 'datetime', 'obs_type', 'obs_value']\n",
    "    df_weather['obs_value'] = df_weather['obs_value'] / 10\n",
    "    df_select = df_weather[(df_weather.obs_type == 'TMAX')].copy()\n",
    "    df_select['TMAX_F'] = 32 + 1.8 * df_select['obs_value']\n",
    "    df_sorted = df_select.sort_values(by=['obs_value']).reset_index(drop=True)\n",
    "    \n",
    "    df_sorted['datetime']=df_sorted['datetime'].astype(str)\n",
    "    df_sorted_time=df_sorted.copy()\n",
    "    df_sorted_time['datetime']=pd.to_datetime(df_sorted['datetime'])\n",
    "    df_sorted_time['Month']=df_sorted_time['datetime'].dt.month\n",
    "   \n",
    "    df_done=df_sorted_time.set_index('datetime')\n",
    "    \n",
    "    df_cnt=df_done.copy()\n",
    "    df_cnt['Country']=df_done['station'].str[:3]\n",
    "    \n",
    "    df_x=df_cnt.copy()\n",
    "    return df_x\n"
   ]
  },
  {
   "cell_type": "code",
   "execution_count": 92,
   "metadata": {
    "deletable": false,
    "editable": false,
    "nbgrader": {
     "checksum": "21b573bbe818e27e3cba31ba439f889d",
     "grade": true,
     "grade_id": "problem_62_tests",
     "locked": true,
     "points": 1,
     "schema_version": 1,
     "solution": false
    }
   },
   "outputs": [],
   "source": [
    "assert prepareWeatherData('1864').shape == (5686, 6)"
   ]
  },
  {
   "cell_type": "markdown",
   "metadata": {
    "deletable": false,
    "editable": false,
    "nbgrader": {
     "checksum": "d0a38a1a62cf78e9c6214e21ea8e6174",
     "grade": false,
     "grade_id": "cell-e206cc10e0354153",
     "locked": true,
     "schema_version": 1,
     "solution": false
    }
   },
   "source": [
    "## Problems from exercise set 7\n",
    "\n",
    "> _Note:_ Once again if you haven't managed to download the data from NOAA, you can refer to the github repo to get csv-files containing the required data."
   ]
  },
  {
   "cell_type": "code",
   "execution_count": 110,
   "metadata": {
    "deletable": false,
    "editable": false,
    "nbgrader": {
     "checksum": "aae2b85bce7a1f050aba06e5f14f07c8",
     "grade": false,
     "grade_id": "cell-15d553fb5be81d7a",
     "locked": true,
     "schema_version": 1,
     "solution": false
    }
   },
   "outputs": [],
   "source": [
    "%matplotlib inline \n",
    "\n",
    "import pandas as pd \n",
    "import matplotlib.pyplot as plt\n",
    "import matplotlib as mpl\n",
    "\n",
    "# Increases the plot size a little\n",
    "mpl.rcParams['figure.figsize'] = 11, 6"
   ]
  },
  {
   "cell_type": "markdown",
   "metadata": {
    "deletable": false,
    "editable": false,
    "nbgrader": {
     "checksum": "807c2181bc38762b44c6706d86291424",
     "grade": false,
     "grade_id": "cell-c48aef6db605ecd8",
     "locked": true,
     "schema_version": 1,
     "solution": false
    }
   },
   "source": [
    "> **Ex. 7.1.1:** Plot the monthly max,min, mean, first and third quartiles for maximum temperature for our station with the ID _'ITE00100550'_ in 1864. \n",
    "\n",
    "> *Hint*: the method `describe` computes all these measures."
   ]
  },
  {
   "cell_type": "code",
   "execution_count": 111,
   "metadata": {
    "deletable": false,
    "nbgrader": {
     "checksum": "ecfe6ce83747d19c96ac19778351daee",
     "grade": true,
     "grade_id": "problem_71",
     "locked": false,
     "points": 1,
     "schema_version": 1,
     "solution": true
    }
   },
   "outputs": [
    {
     "data": {
      "text/plain": [
       "<matplotlib.axes._subplots.AxesSubplot at 0x24e75a05fd0>"
      ]
     },
     "execution_count": 111,
     "metadata": {},
     "output_type": "execute_result"
    },
    {
     "data": {
      "image/png": "[encoded data removed]",
      "text/plain": [
       "<Figure size 792x432 with 1 Axes>"
      ]
     },
     "metadata": {
      "needs_background": "light"
     },
     "output_type": "display_data"
    }
   ],
   "source": [
    "def weather(x,y):\n",
    "    url='https://www1.ncdc.noaa.gov/pub/data/ghcn/daily/by_year/{}.csv.gz'.format(x)\n",
    "    df_weather = pd.read_csv(url,\n",
    "                         compression='gzip',\n",
    "                         header=None).iloc[:,:4]\n",
    "    df_weather.columns = ['station', 'datetime', 'obs_type', 'obs_value']\n",
    "    df_weather['obs_value'] = df_weather['obs_value'] / 10\n",
    "    df_select = df_weather[(df_weather.obs_type == 'TMAX')].copy()\n",
    "    df_select['TMAX_F'] = 32 + 1.8 * df_select['obs_value']\n",
    "    df_sorted = df_select.sort_values(by=['obs_value']).reset_index(drop=True)\n",
    "    \n",
    "    df_sorted['datetime']=df_sorted['datetime'].astype(str)\n",
    "    df_sorted_time=df_sorted.copy()\n",
    "    df_sorted_time['datetime']=pd.to_datetime(df_sorted['datetime'])\n",
    "    df_sorted_time['Month']=df_sorted_time['datetime'].dt.month\n",
    "   \n",
    "    df_done=df_sorted_time.set_index('datetime')\n",
    "    \n",
    "    df_cnt=df_done.copy()\n",
    "    df_cnt['Country']=df_done['station'].str[:3]\n",
    "    \n",
    "    df_x=df_cnt.copy()\n",
    "    if y!='':\n",
    "        df_y=df_x[(df_x.station == y)]\n",
    "        return df_y\n",
    "    else:\n",
    "        return df_x\n",
    "\n",
    "ite=weather(1864,'ITE00100550')\n",
    "\n",
    "ite_desc=ite.groupby('Month')['obs_value'].describe()[['mean', 'min', 'max','25%','75%']]\n",
    "ite_desc.plot()"
   ]
  },
  {
   "cell_type": "markdown",
   "metadata": {
    "deletable": false,
    "editable": false,
    "nbgrader": {
     "checksum": "210cb4ca3448895862b65daa1a32b1f1",
     "grade": false,
     "grade_id": "cell-0e3079a5520618d4",
     "locked": true,
     "schema_version": 1,
     "solution": false
    }
   },
   "source": [
    "> **Ex. 7.1.2:** Get the processed data from years 1864-1867 as a list of DataFrames. Convert the list into a single DataFrame by concatenating vertically. \n",
    ">\n",
    "> Name the concatenated data `answer_72`"
   ]
  },
  {
   "cell_type": "code",
   "execution_count": 112,
   "metadata": {
    "deletable": false,
    "nbgrader": {
     "checksum": "b221fc2dbd44eb50ad781368243b9a9c",
     "grade": false,
     "grade_id": "problem_72",
     "locked": false,
     "schema_version": 1,
     "solution": true
    }
   },
   "outputs": [],
   "source": [
    "com=pd.DataFrame()\n",
    "plist=[]\n",
    "\n",
    "# DataFrame append approach\n",
    "for i in range(1864,1868):\n",
    "    com=com.append(weather(i,''))\n",
    "    \n",
    "# Concat approach\n",
    "for i in range(1864,1868):\n",
    "    plist.append(weather(i,''))\n",
    "    \n",
    "ver=pd.concat(plist, join='outer', axis=0)\n",
    "ver=ver.reset_index()\n",
    "answer_72=ver"
   ]
  },
  {
   "cell_type": "code",
   "execution_count": 113,
   "metadata": {
    "deletable": false,
    "editable": false,
    "nbgrader": {
     "checksum": "107cafe2715660c3c36cb1ffab1e7fd6",
     "grade": true,
     "grade_id": "problem_72_tests",
     "locked": true,
     "points": 1,
     "schema_version": 1,
     "solution": false
    }
   },
   "outputs": [],
   "source": [
    "assert answer_72.shape == (30003, 7)"
   ]
  },
  {
   "cell_type": "markdown",
   "metadata": {
    "deletable": false,
    "editable": false,
    "nbgrader": {
     "checksum": "1a8926f4bb982bcc276dc7e8b5f1c3e0",
     "grade": false,
     "grade_id": "cell-5b9d68d7b6583e3d",
     "locked": true,
     "schema_version": 1,
     "solution": false
    }
   },
   "source": [
    "> **Ex. 7.1.3:** Parse the station location data which you can find at https://www1.ncdc.noaa.gov/pub/data/ghcn/daily/ghcnd-stations.txt. Merge station locations onto the weather data spanning 1864-1867.  \n",
    ">\n",
    "> Store the merged data in a new variable called `answer_73`.\n",
    ">\n",
    "> _Hint:_ The location data have the folllowing format, \n",
    "\n",
    "```\n",
    "------------------------------\n",
    "Variable   Columns   Type\n",
    "------------------------------\n",
    "ID            1-11   Character\n",
    "LATITUDE     13-20   Real\n",
    "LONGITUDE    22-30   Real\n",
    "ELEVATION    32-37   Real\n",
    "STATE        39-40   Character\n",
    "NAME         42-71   Character\n",
    "GSN FLAG     73-75   Character\n",
    "HCN/CRN FLAG 77-79   Character\n",
    "WMO ID       81-85   Character\n",
    "------------------------------\n",
    "```\n",
    "\n",
    "> *Hint*: The station information has fixed width format - does there exist a pandas reader for that?"
   ]
  },
  {
   "cell_type": "code",
   "execution_count": 140,
   "metadata": {
    "deletable": false,
    "nbgrader": {
     "checksum": "167a6bcc96b0b283f04e3506dffefedb",
     "grade": false,
     "grade_id": "problem_73",
     "locked": false,
     "schema_version": 1,
     "solution": true
    }
   },
   "outputs": [],
   "source": [
    "url='https://www1.ncdc.noaa.gov/pub/data/ghcn/daily/ghcnd-stations.txt'\n",
    "columns=['station','latitude','longitude','elevation','state','name','gsn flag','hcn/crn flag', 'wmo id']\n",
    "loc=pd.read_fwf(url, header=None, names=columns)"
   ]
  },
  {
   "cell_type": "code",
   "execution_count": 141,
   "metadata": {},
   "outputs": [
    {
     "name": "stdout",
     "output_type": "stream",
     "text": [
      "       station  latitude  longitude  elevation                  state name  \\\n",
      "0  ACW00011604   17.1167   -61.7833       10.1  ST JOHNS COOLIDGE FLD  NaN   \n",
      "1  ACW00011647   17.1333   -61.7833       19.2               ST JOHNS  NaN   \n",
      "2  AE000041196   25.3330    55.5170       34.0    SHARJAH INTER. AIRP  NaN   \n",
      "\n",
      "  gsn flag  hcn/crn flag  wmo id  \n",
      "0      NaN           NaN     NaN  \n",
      "1      NaN           NaN     NaN  \n",
      "2      GSN       41196.0     NaN  \n"
     ]
    },
    {
     "data": {
      "text/html": [
       "<div>\n",
       "<style scoped>\n",
       "    .dataframe tbody tr th:only-of-type {\n",
       "        vertical-align: middle;\n",
       "    }\n",
       "\n",
       "    .dataframe tbody tr th {\n",
       "        vertical-align: top;\n",
       "    }\n",
       "\n",
       "    .dataframe thead th {\n",
       "        text-align: right;\n",
       "    }\n",
       "</style>\n",
       "<table border=\"1\" class=\"dataframe\">\n",
       "  <thead>\n",
       "    <tr style=\"text-align: right;\">\n",
       "      <th></th>\n",
       "      <th>station</th>\n",
       "      <th>latitude</th>\n",
       "      <th>longitude</th>\n",
       "      <th>elevation</th>\n",
       "      <th>state</th>\n",
       "      <th>name</th>\n",
       "      <th>gsn flag</th>\n",
       "      <th>hcn/crn flag</th>\n",
       "      <th>wmo id</th>\n",
       "      <th>datetime</th>\n",
       "      <th>obs_type</th>\n",
       "      <th>obs_value</th>\n",
       "      <th>TMAX_F</th>\n",
       "      <th>Month</th>\n",
       "      <th>Country</th>\n",
       "    </tr>\n",
       "  </thead>\n",
       "  <tbody>\n",
       "    <tr>\n",
       "      <th>0</th>\n",
       "      <td>AGE00135039</td>\n",
       "      <td>35.7297</td>\n",
       "      <td>0.6500</td>\n",
       "      <td>50.0</td>\n",
       "      <td>ORAN-HOPITAL MILITAIRE</td>\n",
       "      <td>NaN</td>\n",
       "      <td>NaN</td>\n",
       "      <td>NaN</td>\n",
       "      <td>NaN</td>\n",
       "      <td>1864-01-04</td>\n",
       "      <td>TMAX</td>\n",
       "      <td>9.0</td>\n",
       "      <td>48.20</td>\n",
       "      <td>1</td>\n",
       "      <td>AGE</td>\n",
       "    </tr>\n",
       "    <tr>\n",
       "      <th>1</th>\n",
       "      <td>AGE00135039</td>\n",
       "      <td>35.7297</td>\n",
       "      <td>0.6500</td>\n",
       "      <td>50.0</td>\n",
       "      <td>ORAN-HOPITAL MILITAIRE</td>\n",
       "      <td>NaN</td>\n",
       "      <td>NaN</td>\n",
       "      <td>NaN</td>\n",
       "      <td>NaN</td>\n",
       "      <td>1864-01-05</td>\n",
       "      <td>TMAX</td>\n",
       "      <td>9.5</td>\n",
       "      <td>49.10</td>\n",
       "      <td>1</td>\n",
       "      <td>AGE</td>\n",
       "    </tr>\n",
       "    <tr>\n",
       "      <th>2</th>\n",
       "      <td>AGE00135039</td>\n",
       "      <td>35.7297</td>\n",
       "      <td>0.6500</td>\n",
       "      <td>50.0</td>\n",
       "      <td>ORAN-HOPITAL MILITAIRE</td>\n",
       "      <td>NaN</td>\n",
       "      <td>NaN</td>\n",
       "      <td>NaN</td>\n",
       "      <td>NaN</td>\n",
       "      <td>1864-02-20</td>\n",
       "      <td>TMAX</td>\n",
       "      <td>10.0</td>\n",
       "      <td>50.00</td>\n",
       "      <td>2</td>\n",
       "      <td>AGE</td>\n",
       "    </tr>\n",
       "    <tr>\n",
       "      <th>3</th>\n",
       "      <td>AGE00135039</td>\n",
       "      <td>35.7297</td>\n",
       "      <td>0.6500</td>\n",
       "      <td>50.0</td>\n",
       "      <td>ORAN-HOPITAL MILITAIRE</td>\n",
       "      <td>NaN</td>\n",
       "      <td>NaN</td>\n",
       "      <td>NaN</td>\n",
       "      <td>NaN</td>\n",
       "      <td>1864-02-06</td>\n",
       "      <td>TMAX</td>\n",
       "      <td>10.0</td>\n",
       "      <td>50.00</td>\n",
       "      <td>2</td>\n",
       "      <td>AGE</td>\n",
       "    </tr>\n",
       "    <tr>\n",
       "      <th>4</th>\n",
       "      <td>AGE00135039</td>\n",
       "      <td>35.7297</td>\n",
       "      <td>0.6500</td>\n",
       "      <td>50.0</td>\n",
       "      <td>ORAN-HOPITAL MILITAIRE</td>\n",
       "      <td>NaN</td>\n",
       "      <td>NaN</td>\n",
       "      <td>NaN</td>\n",
       "      <td>NaN</td>\n",
       "      <td>1864-02-02</td>\n",
       "      <td>TMAX</td>\n",
       "      <td>10.5</td>\n",
       "      <td>50.90</td>\n",
       "      <td>2</td>\n",
       "      <td>AGE</td>\n",
       "    </tr>\n",
       "    <tr>\n",
       "      <th>5</th>\n",
       "      <td>AGE00135039</td>\n",
       "      <td>35.7297</td>\n",
       "      <td>0.6500</td>\n",
       "      <td>50.0</td>\n",
       "      <td>ORAN-HOPITAL MILITAIRE</td>\n",
       "      <td>NaN</td>\n",
       "      <td>NaN</td>\n",
       "      <td>NaN</td>\n",
       "      <td>NaN</td>\n",
       "      <td>1864-02-08</td>\n",
       "      <td>TMAX</td>\n",
       "      <td>11.0</td>\n",
       "      <td>51.80</td>\n",
       "      <td>2</td>\n",
       "      <td>AGE</td>\n",
       "    </tr>\n",
       "    <tr>\n",
       "      <th>6</th>\n",
       "      <td>AGE00135039</td>\n",
       "      <td>35.7297</td>\n",
       "      <td>0.6500</td>\n",
       "      <td>50.0</td>\n",
       "      <td>ORAN-HOPITAL MILITAIRE</td>\n",
       "      <td>NaN</td>\n",
       "      <td>NaN</td>\n",
       "      <td>NaN</td>\n",
       "      <td>NaN</td>\n",
       "      <td>1864-02-01</td>\n",
       "      <td>TMAX</td>\n",
       "      <td>11.0</td>\n",
       "      <td>51.80</td>\n",
       "      <td>2</td>\n",
       "      <td>AGE</td>\n",
       "    </tr>\n",
       "    <tr>\n",
       "      <th>7</th>\n",
       "      <td>AGE00135039</td>\n",
       "      <td>35.7297</td>\n",
       "      <td>0.6500</td>\n",
       "      <td>50.0</td>\n",
       "      <td>ORAN-HOPITAL MILITAIRE</td>\n",
       "      <td>NaN</td>\n",
       "      <td>NaN</td>\n",
       "      <td>NaN</td>\n",
       "      <td>NaN</td>\n",
       "      <td>1864-01-25</td>\n",
       "      <td>TMAX</td>\n",
       "      <td>11.5</td>\n",
       "      <td>52.70</td>\n",
       "      <td>1</td>\n",
       "      <td>AGE</td>\n",
       "    </tr>\n",
       "    <tr>\n",
       "      <th>8</th>\n",
       "      <td>AGE00135039</td>\n",
       "      <td>35.7297</td>\n",
       "      <td>0.6500</td>\n",
       "      <td>50.0</td>\n",
       "      <td>ORAN-HOPITAL MILITAIRE</td>\n",
       "      <td>NaN</td>\n",
       "      <td>NaN</td>\n",
       "      <td>NaN</td>\n",
       "      <td>NaN</td>\n",
       "      <td>1864-02-03</td>\n",
       "      <td>TMAX</td>\n",
       "      <td>11.5</td>\n",
       "      <td>52.70</td>\n",
       "      <td>2</td>\n",
       "      <td>AGE</td>\n",
       "    </tr>\n",
       "    <tr>\n",
       "      <th>9</th>\n",
       "      <td>AGE00135039</td>\n",
       "      <td>35.7297</td>\n",
       "      <td>0.6500</td>\n",
       "      <td>50.0</td>\n",
       "      <td>ORAN-HOPITAL MILITAIRE</td>\n",
       "      <td>NaN</td>\n",
       "      <td>NaN</td>\n",
       "      <td>NaN</td>\n",
       "      <td>NaN</td>\n",
       "      <td>1864-01-06</td>\n",
       "      <td>TMAX</td>\n",
       "      <td>11.5</td>\n",
       "      <td>52.70</td>\n",
       "      <td>1</td>\n",
       "      <td>AGE</td>\n",
       "    </tr>\n",
       "    <tr>\n",
       "      <th>10</th>\n",
       "      <td>AGE00135039</td>\n",
       "      <td>35.7297</td>\n",
       "      <td>0.6500</td>\n",
       "      <td>50.0</td>\n",
       "      <td>ORAN-HOPITAL MILITAIRE</td>\n",
       "      <td>NaN</td>\n",
       "      <td>NaN</td>\n",
       "      <td>NaN</td>\n",
       "      <td>NaN</td>\n",
       "      <td>1864-02-04</td>\n",
       "      <td>TMAX</td>\n",
       "      <td>11.5</td>\n",
       "      <td>52.70</td>\n",
       "      <td>2</td>\n",
       "      <td>AGE</td>\n",
       "    </tr>\n",
       "    <tr>\n",
       "      <th>11</th>\n",
       "      <td>AGE00135039</td>\n",
       "      <td>35.7297</td>\n",
       "      <td>0.6500</td>\n",
       "      <td>50.0</td>\n",
       "      <td>ORAN-HOPITAL MILITAIRE</td>\n",
       "      <td>NaN</td>\n",
       "      <td>NaN</td>\n",
       "      <td>NaN</td>\n",
       "      <td>NaN</td>\n",
       "      <td>1864-03-01</td>\n",
       "      <td>TMAX</td>\n",
       "      <td>11.7</td>\n",
       "      <td>53.06</td>\n",
       "      <td>3</td>\n",
       "      <td>AGE</td>\n",
       "    </tr>\n",
       "    <tr>\n",
       "      <th>12</th>\n",
       "      <td>AGE00135039</td>\n",
       "      <td>35.7297</td>\n",
       "      <td>0.6500</td>\n",
       "      <td>50.0</td>\n",
       "      <td>ORAN-HOPITAL MILITAIRE</td>\n",
       "      <td>NaN</td>\n",
       "      <td>NaN</td>\n",
       "      <td>NaN</td>\n",
       "      <td>NaN</td>\n",
       "      <td>1864-12-30</td>\n",
       "      <td>TMAX</td>\n",
       "      <td>12.0</td>\n",
       "      <td>53.60</td>\n",
       "      <td>12</td>\n",
       "      <td>AGE</td>\n",
       "    </tr>\n",
       "    <tr>\n",
       "      <th>13</th>\n",
       "      <td>AGE00135039</td>\n",
       "      <td>35.7297</td>\n",
       "      <td>0.6500</td>\n",
       "      <td>50.0</td>\n",
       "      <td>ORAN-HOPITAL MILITAIRE</td>\n",
       "      <td>NaN</td>\n",
       "      <td>NaN</td>\n",
       "      <td>NaN</td>\n",
       "      <td>NaN</td>\n",
       "      <td>1864-02-18</td>\n",
       "      <td>TMAX</td>\n",
       "      <td>12.0</td>\n",
       "      <td>53.60</td>\n",
       "      <td>2</td>\n",
       "      <td>AGE</td>\n",
       "    </tr>\n",
       "    <tr>\n",
       "      <th>14</th>\n",
       "      <td>AGE00135039</td>\n",
       "      <td>35.7297</td>\n",
       "      <td>0.6500</td>\n",
       "      <td>50.0</td>\n",
       "      <td>ORAN-HOPITAL MILITAIRE</td>\n",
       "      <td>NaN</td>\n",
       "      <td>NaN</td>\n",
       "      <td>NaN</td>\n",
       "      <td>NaN</td>\n",
       "      <td>1864-01-19</td>\n",
       "      <td>TMAX</td>\n",
       "      <td>12.0</td>\n",
       "      <td>53.60</td>\n",
       "      <td>1</td>\n",
       "      <td>AGE</td>\n",
       "    </tr>\n",
       "    <tr>\n",
       "      <th>15</th>\n",
       "      <td>AGE00135039</td>\n",
       "      <td>35.7297</td>\n",
       "      <td>0.6500</td>\n",
       "      <td>50.0</td>\n",
       "      <td>ORAN-HOPITAL MILITAIRE</td>\n",
       "      <td>NaN</td>\n",
       "      <td>NaN</td>\n",
       "      <td>NaN</td>\n",
       "      <td>NaN</td>\n",
       "      <td>1864-02-09</td>\n",
       "      <td>TMAX</td>\n",
       "      <td>12.0</td>\n",
       "      <td>53.60</td>\n",
       "      <td>2</td>\n",
       "      <td>AGE</td>\n",
       "    </tr>\n",
       "    <tr>\n",
       "      <th>16</th>\n",
       "      <td>AGE00135039</td>\n",
       "      <td>35.7297</td>\n",
       "      <td>0.6500</td>\n",
       "      <td>50.0</td>\n",
       "      <td>ORAN-HOPITAL MILITAIRE</td>\n",
       "      <td>NaN</td>\n",
       "      <td>NaN</td>\n",
       "      <td>NaN</td>\n",
       "      <td>NaN</td>\n",
       "      <td>1864-12-06</td>\n",
       "      <td>TMAX</td>\n",
       "      <td>12.0</td>\n",
       "      <td>53.60</td>\n",
       "      <td>12</td>\n",
       "      <td>AGE</td>\n",
       "    </tr>\n",
       "    <tr>\n",
       "      <th>17</th>\n",
       "      <td>AGE00135039</td>\n",
       "      <td>35.7297</td>\n",
       "      <td>0.6500</td>\n",
       "      <td>50.0</td>\n",
       "      <td>ORAN-HOPITAL MILITAIRE</td>\n",
       "      <td>NaN</td>\n",
       "      <td>NaN</td>\n",
       "      <td>NaN</td>\n",
       "      <td>NaN</td>\n",
       "      <td>1864-02-22</td>\n",
       "      <td>TMAX</td>\n",
       "      <td>12.2</td>\n",
       "      <td>53.96</td>\n",
       "      <td>2</td>\n",
       "      <td>AGE</td>\n",
       "    </tr>\n",
       "    <tr>\n",
       "      <th>18</th>\n",
       "      <td>AGE00135039</td>\n",
       "      <td>35.7297</td>\n",
       "      <td>0.6500</td>\n",
       "      <td>50.0</td>\n",
       "      <td>ORAN-HOPITAL MILITAIRE</td>\n",
       "      <td>NaN</td>\n",
       "      <td>NaN</td>\n",
       "      <td>NaN</td>\n",
       "      <td>NaN</td>\n",
       "      <td>1864-01-22</td>\n",
       "      <td>TMAX</td>\n",
       "      <td>12.5</td>\n",
       "      <td>54.50</td>\n",
       "      <td>1</td>\n",
       "      <td>AGE</td>\n",
       "    </tr>\n",
       "    <tr>\n",
       "      <th>19</th>\n",
       "      <td>AGE00135039</td>\n",
       "      <td>35.7297</td>\n",
       "      <td>0.6500</td>\n",
       "      <td>50.0</td>\n",
       "      <td>ORAN-HOPITAL MILITAIRE</td>\n",
       "      <td>NaN</td>\n",
       "      <td>NaN</td>\n",
       "      <td>NaN</td>\n",
       "      <td>NaN</td>\n",
       "      <td>1864-01-20</td>\n",
       "      <td>TMAX</td>\n",
       "      <td>12.5</td>\n",
       "      <td>54.50</td>\n",
       "      <td>1</td>\n",
       "      <td>AGE</td>\n",
       "    </tr>\n",
       "    <tr>\n",
       "      <th>20</th>\n",
       "      <td>AGE00135039</td>\n",
       "      <td>35.7297</td>\n",
       "      <td>0.6500</td>\n",
       "      <td>50.0</td>\n",
       "      <td>ORAN-HOPITAL MILITAIRE</td>\n",
       "      <td>NaN</td>\n",
       "      <td>NaN</td>\n",
       "      <td>NaN</td>\n",
       "      <td>NaN</td>\n",
       "      <td>1864-01-21</td>\n",
       "      <td>TMAX</td>\n",
       "      <td>12.5</td>\n",
       "      <td>54.50</td>\n",
       "      <td>1</td>\n",
       "      <td>AGE</td>\n",
       "    </tr>\n",
       "    <tr>\n",
       "      <th>21</th>\n",
       "      <td>AGE00135039</td>\n",
       "      <td>35.7297</td>\n",
       "      <td>0.6500</td>\n",
       "      <td>50.0</td>\n",
       "      <td>ORAN-HOPITAL MILITAIRE</td>\n",
       "      <td>NaN</td>\n",
       "      <td>NaN</td>\n",
       "      <td>NaN</td>\n",
       "      <td>NaN</td>\n",
       "      <td>1864-12-29</td>\n",
       "      <td>TMAX</td>\n",
       "      <td>12.5</td>\n",
       "      <td>54.50</td>\n",
       "      <td>12</td>\n",
       "      <td>AGE</td>\n",
       "    </tr>\n",
       "    <tr>\n",
       "      <th>22</th>\n",
       "      <td>AGE00135039</td>\n",
       "      <td>35.7297</td>\n",
       "      <td>0.6500</td>\n",
       "      <td>50.0</td>\n",
       "      <td>ORAN-HOPITAL MILITAIRE</td>\n",
       "      <td>NaN</td>\n",
       "      <td>NaN</td>\n",
       "      <td>NaN</td>\n",
       "      <td>NaN</td>\n",
       "      <td>1864-01-30</td>\n",
       "      <td>TMAX</td>\n",
       "      <td>12.5</td>\n",
       "      <td>54.50</td>\n",
       "      <td>1</td>\n",
       "      <td>AGE</td>\n",
       "    </tr>\n",
       "    <tr>\n",
       "      <th>23</th>\n",
       "      <td>AGE00135039</td>\n",
       "      <td>35.7297</td>\n",
       "      <td>0.6500</td>\n",
       "      <td>50.0</td>\n",
       "      <td>ORAN-HOPITAL MILITAIRE</td>\n",
       "      <td>NaN</td>\n",
       "      <td>NaN</td>\n",
       "      <td>NaN</td>\n",
       "      <td>NaN</td>\n",
       "      <td>1864-01-07</td>\n",
       "      <td>TMAX</td>\n",
       "      <td>12.5</td>\n",
       "      <td>54.50</td>\n",
       "      <td>1</td>\n",
       "      <td>AGE</td>\n",
       "    </tr>\n",
       "    <tr>\n",
       "      <th>24</th>\n",
       "      <td>AGE00135039</td>\n",
       "      <td>35.7297</td>\n",
       "      <td>0.6500</td>\n",
       "      <td>50.0</td>\n",
       "      <td>ORAN-HOPITAL MILITAIRE</td>\n",
       "      <td>NaN</td>\n",
       "      <td>NaN</td>\n",
       "      <td>NaN</td>\n",
       "      <td>NaN</td>\n",
       "      <td>1864-01-26</td>\n",
       "      <td>TMAX</td>\n",
       "      <td>12.5</td>\n",
       "      <td>54.50</td>\n",
       "      <td>1</td>\n",
       "      <td>AGE</td>\n",
       "    </tr>\n",
       "    <tr>\n",
       "      <th>25</th>\n",
       "      <td>AGE00135039</td>\n",
       "      <td>35.7297</td>\n",
       "      <td>0.6500</td>\n",
       "      <td>50.0</td>\n",
       "      <td>ORAN-HOPITAL MILITAIRE</td>\n",
       "      <td>NaN</td>\n",
       "      <td>NaN</td>\n",
       "      <td>NaN</td>\n",
       "      <td>NaN</td>\n",
       "      <td>1864-12-28</td>\n",
       "      <td>TMAX</td>\n",
       "      <td>12.5</td>\n",
       "      <td>54.50</td>\n",
       "      <td>12</td>\n",
       "      <td>AGE</td>\n",
       "    </tr>\n",
       "    <tr>\n",
       "      <th>26</th>\n",
       "      <td>AGE00135039</td>\n",
       "      <td>35.7297</td>\n",
       "      <td>0.6500</td>\n",
       "      <td>50.0</td>\n",
       "      <td>ORAN-HOPITAL MILITAIRE</td>\n",
       "      <td>NaN</td>\n",
       "      <td>NaN</td>\n",
       "      <td>NaN</td>\n",
       "      <td>NaN</td>\n",
       "      <td>1864-02-05</td>\n",
       "      <td>TMAX</td>\n",
       "      <td>12.5</td>\n",
       "      <td>54.50</td>\n",
       "      <td>2</td>\n",
       "      <td>AGE</td>\n",
       "    </tr>\n",
       "    <tr>\n",
       "      <th>27</th>\n",
       "      <td>AGE00135039</td>\n",
       "      <td>35.7297</td>\n",
       "      <td>0.6500</td>\n",
       "      <td>50.0</td>\n",
       "      <td>ORAN-HOPITAL MILITAIRE</td>\n",
       "      <td>NaN</td>\n",
       "      <td>NaN</td>\n",
       "      <td>NaN</td>\n",
       "      <td>NaN</td>\n",
       "      <td>1864-12-20</td>\n",
       "      <td>TMAX</td>\n",
       "      <td>12.7</td>\n",
       "      <td>54.86</td>\n",
       "      <td>12</td>\n",
       "      <td>AGE</td>\n",
       "    </tr>\n",
       "    <tr>\n",
       "      <th>28</th>\n",
       "      <td>AGE00135039</td>\n",
       "      <td>35.7297</td>\n",
       "      <td>0.6500</td>\n",
       "      <td>50.0</td>\n",
       "      <td>ORAN-HOPITAL MILITAIRE</td>\n",
       "      <td>NaN</td>\n",
       "      <td>NaN</td>\n",
       "      <td>NaN</td>\n",
       "      <td>NaN</td>\n",
       "      <td>1864-01-18</td>\n",
       "      <td>TMAX</td>\n",
       "      <td>13.0</td>\n",
       "      <td>55.40</td>\n",
       "      <td>1</td>\n",
       "      <td>AGE</td>\n",
       "    </tr>\n",
       "    <tr>\n",
       "      <th>29</th>\n",
       "      <td>AGE00135039</td>\n",
       "      <td>35.7297</td>\n",
       "      <td>0.6500</td>\n",
       "      <td>50.0</td>\n",
       "      <td>ORAN-HOPITAL MILITAIRE</td>\n",
       "      <td>NaN</td>\n",
       "      <td>NaN</td>\n",
       "      <td>NaN</td>\n",
       "      <td>NaN</td>\n",
       "      <td>1864-12-03</td>\n",
       "      <td>TMAX</td>\n",
       "      <td>13.0</td>\n",
       "      <td>55.40</td>\n",
       "      <td>12</td>\n",
       "      <td>AGE</td>\n",
       "    </tr>\n",
       "    <tr>\n",
       "      <th>...</th>\n",
       "      <td>...</td>\n",
       "      <td>...</td>\n",
       "      <td>...</td>\n",
       "      <td>...</td>\n",
       "      <td>...</td>\n",
       "      <td>...</td>\n",
       "      <td>...</td>\n",
       "      <td>...</td>\n",
       "      <td>...</td>\n",
       "      <td>...</td>\n",
       "      <td>...</td>\n",
       "      <td>...</td>\n",
       "      <td>...</td>\n",
       "      <td>...</td>\n",
       "      <td>...</td>\n",
       "    </tr>\n",
       "    <tr>\n",
       "      <th>29973</th>\n",
       "      <td>USC00288878</td>\n",
       "      <td>40.2333</td>\n",
       "      <td>-74.7667</td>\n",
       "      <td>34.1</td>\n",
       "      <td>TRENTON 2</td>\n",
       "      <td>NaN</td>\n",
       "      <td>NaN</td>\n",
       "      <td>NaN</td>\n",
       "      <td>NaN</td>\n",
       "      <td>1867-09-05</td>\n",
       "      <td>TMAX</td>\n",
       "      <td>27.8</td>\n",
       "      <td>82.04</td>\n",
       "      <td>9</td>\n",
       "      <td>USC</td>\n",
       "    </tr>\n",
       "    <tr>\n",
       "      <th>29974</th>\n",
       "      <td>USC00288878</td>\n",
       "      <td>40.2333</td>\n",
       "      <td>-74.7667</td>\n",
       "      <td>34.1</td>\n",
       "      <td>TRENTON 2</td>\n",
       "      <td>NaN</td>\n",
       "      <td>NaN</td>\n",
       "      <td>NaN</td>\n",
       "      <td>NaN</td>\n",
       "      <td>1867-06-29</td>\n",
       "      <td>TMAX</td>\n",
       "      <td>27.8</td>\n",
       "      <td>82.04</td>\n",
       "      <td>6</td>\n",
       "      <td>USC</td>\n",
       "    </tr>\n",
       "    <tr>\n",
       "      <th>29975</th>\n",
       "      <td>USC00288878</td>\n",
       "      <td>40.2333</td>\n",
       "      <td>-74.7667</td>\n",
       "      <td>34.1</td>\n",
       "      <td>TRENTON 2</td>\n",
       "      <td>NaN</td>\n",
       "      <td>NaN</td>\n",
       "      <td>NaN</td>\n",
       "      <td>NaN</td>\n",
       "      <td>1867-06-13</td>\n",
       "      <td>TMAX</td>\n",
       "      <td>27.8</td>\n",
       "      <td>82.04</td>\n",
       "      <td>6</td>\n",
       "      <td>USC</td>\n",
       "    </tr>\n",
       "    <tr>\n",
       "      <th>29976</th>\n",
       "      <td>USC00288878</td>\n",
       "      <td>40.2333</td>\n",
       "      <td>-74.7667</td>\n",
       "      <td>34.1</td>\n",
       "      <td>TRENTON 2</td>\n",
       "      <td>NaN</td>\n",
       "      <td>NaN</td>\n",
       "      <td>NaN</td>\n",
       "      <td>NaN</td>\n",
       "      <td>1867-07-06</td>\n",
       "      <td>TMAX</td>\n",
       "      <td>27.8</td>\n",
       "      <td>82.04</td>\n",
       "      <td>7</td>\n",
       "      <td>USC</td>\n",
       "    </tr>\n",
       "    <tr>\n",
       "      <th>29977</th>\n",
       "      <td>USC00288878</td>\n",
       "      <td>40.2333</td>\n",
       "      <td>-74.7667</td>\n",
       "      <td>34.1</td>\n",
       "      <td>TRENTON 2</td>\n",
       "      <td>NaN</td>\n",
       "      <td>NaN</td>\n",
       "      <td>NaN</td>\n",
       "      <td>NaN</td>\n",
       "      <td>1867-08-21</td>\n",
       "      <td>TMAX</td>\n",
       "      <td>27.8</td>\n",
       "      <td>82.04</td>\n",
       "      <td>8</td>\n",
       "      <td>USC</td>\n",
       "    </tr>\n",
       "    <tr>\n",
       "      <th>29978</th>\n",
       "      <td>USC00288878</td>\n",
       "      <td>40.2333</td>\n",
       "      <td>-74.7667</td>\n",
       "      <td>34.1</td>\n",
       "      <td>TRENTON 2</td>\n",
       "      <td>NaN</td>\n",
       "      <td>NaN</td>\n",
       "      <td>NaN</td>\n",
       "      <td>NaN</td>\n",
       "      <td>1867-09-19</td>\n",
       "      <td>TMAX</td>\n",
       "      <td>28.3</td>\n",
       "      <td>82.94</td>\n",
       "      <td>9</td>\n",
       "      <td>USC</td>\n",
       "    </tr>\n",
       "    <tr>\n",
       "      <th>29979</th>\n",
       "      <td>USC00288878</td>\n",
       "      <td>40.2333</td>\n",
       "      <td>-74.7667</td>\n",
       "      <td>34.1</td>\n",
       "      <td>TRENTON 2</td>\n",
       "      <td>NaN</td>\n",
       "      <td>NaN</td>\n",
       "      <td>NaN</td>\n",
       "      <td>NaN</td>\n",
       "      <td>1867-05-29</td>\n",
       "      <td>TMAX</td>\n",
       "      <td>28.3</td>\n",
       "      <td>82.94</td>\n",
       "      <td>5</td>\n",
       "      <td>USC</td>\n",
       "    </tr>\n",
       "    <tr>\n",
       "      <th>29980</th>\n",
       "      <td>USC00288878</td>\n",
       "      <td>40.2333</td>\n",
       "      <td>-74.7667</td>\n",
       "      <td>34.1</td>\n",
       "      <td>TRENTON 2</td>\n",
       "      <td>NaN</td>\n",
       "      <td>NaN</td>\n",
       "      <td>NaN</td>\n",
       "      <td>NaN</td>\n",
       "      <td>1867-07-26</td>\n",
       "      <td>TMAX</td>\n",
       "      <td>28.3</td>\n",
       "      <td>82.94</td>\n",
       "      <td>7</td>\n",
       "      <td>USC</td>\n",
       "    </tr>\n",
       "    <tr>\n",
       "      <th>29981</th>\n",
       "      <td>USC00288878</td>\n",
       "      <td>40.2333</td>\n",
       "      <td>-74.7667</td>\n",
       "      <td>34.1</td>\n",
       "      <td>TRENTON 2</td>\n",
       "      <td>NaN</td>\n",
       "      <td>NaN</td>\n",
       "      <td>NaN</td>\n",
       "      <td>NaN</td>\n",
       "      <td>1867-08-10</td>\n",
       "      <td>TMAX</td>\n",
       "      <td>28.3</td>\n",
       "      <td>82.94</td>\n",
       "      <td>8</td>\n",
       "      <td>USC</td>\n",
       "    </tr>\n",
       "    <tr>\n",
       "      <th>29982</th>\n",
       "      <td>USC00288878</td>\n",
       "      <td>40.2333</td>\n",
       "      <td>-74.7667</td>\n",
       "      <td>34.1</td>\n",
       "      <td>TRENTON 2</td>\n",
       "      <td>NaN</td>\n",
       "      <td>NaN</td>\n",
       "      <td>NaN</td>\n",
       "      <td>NaN</td>\n",
       "      <td>1867-06-05</td>\n",
       "      <td>TMAX</td>\n",
       "      <td>28.3</td>\n",
       "      <td>82.94</td>\n",
       "      <td>6</td>\n",
       "      <td>USC</td>\n",
       "    </tr>\n",
       "    <tr>\n",
       "      <th>29983</th>\n",
       "      <td>USC00288878</td>\n",
       "      <td>40.2333</td>\n",
       "      <td>-74.7667</td>\n",
       "      <td>34.1</td>\n",
       "      <td>TRENTON 2</td>\n",
       "      <td>NaN</td>\n",
       "      <td>NaN</td>\n",
       "      <td>NaN</td>\n",
       "      <td>NaN</td>\n",
       "      <td>1867-07-12</td>\n",
       "      <td>TMAX</td>\n",
       "      <td>28.3</td>\n",
       "      <td>82.94</td>\n",
       "      <td>7</td>\n",
       "      <td>USC</td>\n",
       "    </tr>\n",
       "    <tr>\n",
       "      <th>29984</th>\n",
       "      <td>USC00288878</td>\n",
       "      <td>40.2333</td>\n",
       "      <td>-74.7667</td>\n",
       "      <td>34.1</td>\n",
       "      <td>TRENTON 2</td>\n",
       "      <td>NaN</td>\n",
       "      <td>NaN</td>\n",
       "      <td>NaN</td>\n",
       "      <td>NaN</td>\n",
       "      <td>1867-06-14</td>\n",
       "      <td>TMAX</td>\n",
       "      <td>28.3</td>\n",
       "      <td>82.94</td>\n",
       "      <td>6</td>\n",
       "      <td>USC</td>\n",
       "    </tr>\n",
       "    <tr>\n",
       "      <th>29985</th>\n",
       "      <td>USC00288878</td>\n",
       "      <td>40.2333</td>\n",
       "      <td>-74.7667</td>\n",
       "      <td>34.1</td>\n",
       "      <td>TRENTON 2</td>\n",
       "      <td>NaN</td>\n",
       "      <td>NaN</td>\n",
       "      <td>NaN</td>\n",
       "      <td>NaN</td>\n",
       "      <td>1867-08-05</td>\n",
       "      <td>TMAX</td>\n",
       "      <td>28.3</td>\n",
       "      <td>82.94</td>\n",
       "      <td>8</td>\n",
       "      <td>USC</td>\n",
       "    </tr>\n",
       "    <tr>\n",
       "      <th>29986</th>\n",
       "      <td>USC00288878</td>\n",
       "      <td>40.2333</td>\n",
       "      <td>-74.7667</td>\n",
       "      <td>34.1</td>\n",
       "      <td>TRENTON 2</td>\n",
       "      <td>NaN</td>\n",
       "      <td>NaN</td>\n",
       "      <td>NaN</td>\n",
       "      <td>NaN</td>\n",
       "      <td>1867-08-09</td>\n",
       "      <td>TMAX</td>\n",
       "      <td>28.3</td>\n",
       "      <td>82.94</td>\n",
       "      <td>8</td>\n",
       "      <td>USC</td>\n",
       "    </tr>\n",
       "    <tr>\n",
       "      <th>29987</th>\n",
       "      <td>USC00288878</td>\n",
       "      <td>40.2333</td>\n",
       "      <td>-74.7667</td>\n",
       "      <td>34.1</td>\n",
       "      <td>TRENTON 2</td>\n",
       "      <td>NaN</td>\n",
       "      <td>NaN</td>\n",
       "      <td>NaN</td>\n",
       "      <td>NaN</td>\n",
       "      <td>1867-06-18</td>\n",
       "      <td>TMAX</td>\n",
       "      <td>28.3</td>\n",
       "      <td>82.94</td>\n",
       "      <td>6</td>\n",
       "      <td>USC</td>\n",
       "    </tr>\n",
       "    <tr>\n",
       "      <th>29988</th>\n",
       "      <td>USC00288878</td>\n",
       "      <td>40.2333</td>\n",
       "      <td>-74.7667</td>\n",
       "      <td>34.1</td>\n",
       "      <td>TRENTON 2</td>\n",
       "      <td>NaN</td>\n",
       "      <td>NaN</td>\n",
       "      <td>NaN</td>\n",
       "      <td>NaN</td>\n",
       "      <td>1867-06-07</td>\n",
       "      <td>TMAX</td>\n",
       "      <td>28.9</td>\n",
       "      <td>84.02</td>\n",
       "      <td>6</td>\n",
       "      <td>USC</td>\n",
       "    </tr>\n",
       "    <tr>\n",
       "      <th>29989</th>\n",
       "      <td>USC00288878</td>\n",
       "      <td>40.2333</td>\n",
       "      <td>-74.7667</td>\n",
       "      <td>34.1</td>\n",
       "      <td>TRENTON 2</td>\n",
       "      <td>NaN</td>\n",
       "      <td>NaN</td>\n",
       "      <td>NaN</td>\n",
       "      <td>NaN</td>\n",
       "      <td>1867-06-28</td>\n",
       "      <td>TMAX</td>\n",
       "      <td>28.9</td>\n",
       "      <td>84.02</td>\n",
       "      <td>6</td>\n",
       "      <td>USC</td>\n",
       "    </tr>\n",
       "    <tr>\n",
       "      <th>29990</th>\n",
       "      <td>USC00288878</td>\n",
       "      <td>40.2333</td>\n",
       "      <td>-74.7667</td>\n",
       "      <td>34.1</td>\n",
       "      <td>TRENTON 2</td>\n",
       "      <td>NaN</td>\n",
       "      <td>NaN</td>\n",
       "      <td>NaN</td>\n",
       "      <td>NaN</td>\n",
       "      <td>1867-06-06</td>\n",
       "      <td>TMAX</td>\n",
       "      <td>29.4</td>\n",
       "      <td>84.92</td>\n",
       "      <td>6</td>\n",
       "      <td>USC</td>\n",
       "    </tr>\n",
       "    <tr>\n",
       "      <th>29991</th>\n",
       "      <td>USC00288878</td>\n",
       "      <td>40.2333</td>\n",
       "      <td>-74.7667</td>\n",
       "      <td>34.1</td>\n",
       "      <td>TRENTON 2</td>\n",
       "      <td>NaN</td>\n",
       "      <td>NaN</td>\n",
       "      <td>NaN</td>\n",
       "      <td>NaN</td>\n",
       "      <td>1867-06-30</td>\n",
       "      <td>TMAX</td>\n",
       "      <td>30.0</td>\n",
       "      <td>86.00</td>\n",
       "      <td>6</td>\n",
       "      <td>USC</td>\n",
       "    </tr>\n",
       "    <tr>\n",
       "      <th>29992</th>\n",
       "      <td>USC00288878</td>\n",
       "      <td>40.2333</td>\n",
       "      <td>-74.7667</td>\n",
       "      <td>34.1</td>\n",
       "      <td>TRENTON 2</td>\n",
       "      <td>NaN</td>\n",
       "      <td>NaN</td>\n",
       "      <td>NaN</td>\n",
       "      <td>NaN</td>\n",
       "      <td>1867-08-19</td>\n",
       "      <td>TMAX</td>\n",
       "      <td>30.0</td>\n",
       "      <td>86.00</td>\n",
       "      <td>8</td>\n",
       "      <td>USC</td>\n",
       "    </tr>\n",
       "    <tr>\n",
       "      <th>29993</th>\n",
       "      <td>USC00288878</td>\n",
       "      <td>40.2333</td>\n",
       "      <td>-74.7667</td>\n",
       "      <td>34.1</td>\n",
       "      <td>TRENTON 2</td>\n",
       "      <td>NaN</td>\n",
       "      <td>NaN</td>\n",
       "      <td>NaN</td>\n",
       "      <td>NaN</td>\n",
       "      <td>1867-07-24</td>\n",
       "      <td>TMAX</td>\n",
       "      <td>30.0</td>\n",
       "      <td>86.00</td>\n",
       "      <td>7</td>\n",
       "      <td>USC</td>\n",
       "    </tr>\n",
       "    <tr>\n",
       "      <th>29994</th>\n",
       "      <td>USC00288878</td>\n",
       "      <td>40.2333</td>\n",
       "      <td>-74.7667</td>\n",
       "      <td>34.1</td>\n",
       "      <td>TRENTON 2</td>\n",
       "      <td>NaN</td>\n",
       "      <td>NaN</td>\n",
       "      <td>NaN</td>\n",
       "      <td>NaN</td>\n",
       "      <td>1867-07-02</td>\n",
       "      <td>TMAX</td>\n",
       "      <td>30.0</td>\n",
       "      <td>86.00</td>\n",
       "      <td>7</td>\n",
       "      <td>USC</td>\n",
       "    </tr>\n",
       "    <tr>\n",
       "      <th>29995</th>\n",
       "      <td>USC00288878</td>\n",
       "      <td>40.2333</td>\n",
       "      <td>-74.7667</td>\n",
       "      <td>34.1</td>\n",
       "      <td>TRENTON 2</td>\n",
       "      <td>NaN</td>\n",
       "      <td>NaN</td>\n",
       "      <td>NaN</td>\n",
       "      <td>NaN</td>\n",
       "      <td>1867-06-16</td>\n",
       "      <td>TMAX</td>\n",
       "      <td>30.0</td>\n",
       "      <td>86.00</td>\n",
       "      <td>6</td>\n",
       "      <td>USC</td>\n",
       "    </tr>\n",
       "    <tr>\n",
       "      <th>29996</th>\n",
       "      <td>USC00288878</td>\n",
       "      <td>40.2333</td>\n",
       "      <td>-74.7667</td>\n",
       "      <td>34.1</td>\n",
       "      <td>TRENTON 2</td>\n",
       "      <td>NaN</td>\n",
       "      <td>NaN</td>\n",
       "      <td>NaN</td>\n",
       "      <td>NaN</td>\n",
       "      <td>1867-07-07</td>\n",
       "      <td>TMAX</td>\n",
       "      <td>30.0</td>\n",
       "      <td>86.00</td>\n",
       "      <td>7</td>\n",
       "      <td>USC</td>\n",
       "    </tr>\n",
       "    <tr>\n",
       "      <th>29997</th>\n",
       "      <td>USC00288878</td>\n",
       "      <td>40.2333</td>\n",
       "      <td>-74.7667</td>\n",
       "      <td>34.1</td>\n",
       "      <td>TRENTON 2</td>\n",
       "      <td>NaN</td>\n",
       "      <td>NaN</td>\n",
       "      <td>NaN</td>\n",
       "      <td>NaN</td>\n",
       "      <td>1867-07-28</td>\n",
       "      <td>TMAX</td>\n",
       "      <td>30.6</td>\n",
       "      <td>87.08</td>\n",
       "      <td>7</td>\n",
       "      <td>USC</td>\n",
       "    </tr>\n",
       "    <tr>\n",
       "      <th>29998</th>\n",
       "      <td>USC00288878</td>\n",
       "      <td>40.2333</td>\n",
       "      <td>-74.7667</td>\n",
       "      <td>34.1</td>\n",
       "      <td>TRENTON 2</td>\n",
       "      <td>NaN</td>\n",
       "      <td>NaN</td>\n",
       "      <td>NaN</td>\n",
       "      <td>NaN</td>\n",
       "      <td>1867-07-03</td>\n",
       "      <td>TMAX</td>\n",
       "      <td>31.7</td>\n",
       "      <td>89.06</td>\n",
       "      <td>7</td>\n",
       "      <td>USC</td>\n",
       "    </tr>\n",
       "    <tr>\n",
       "      <th>29999</th>\n",
       "      <td>USC00288878</td>\n",
       "      <td>40.2333</td>\n",
       "      <td>-74.7667</td>\n",
       "      <td>34.1</td>\n",
       "      <td>TRENTON 2</td>\n",
       "      <td>NaN</td>\n",
       "      <td>NaN</td>\n",
       "      <td>NaN</td>\n",
       "      <td>NaN</td>\n",
       "      <td>1867-07-05</td>\n",
       "      <td>TMAX</td>\n",
       "      <td>31.7</td>\n",
       "      <td>89.06</td>\n",
       "      <td>7</td>\n",
       "      <td>USC</td>\n",
       "    </tr>\n",
       "    <tr>\n",
       "      <th>30000</th>\n",
       "      <td>USC00288878</td>\n",
       "      <td>40.2333</td>\n",
       "      <td>-74.7667</td>\n",
       "      <td>34.1</td>\n",
       "      <td>TRENTON 2</td>\n",
       "      <td>NaN</td>\n",
       "      <td>NaN</td>\n",
       "      <td>NaN</td>\n",
       "      <td>NaN</td>\n",
       "      <td>1867-07-25</td>\n",
       "      <td>TMAX</td>\n",
       "      <td>31.7</td>\n",
       "      <td>89.06</td>\n",
       "      <td>7</td>\n",
       "      <td>USC</td>\n",
       "    </tr>\n",
       "    <tr>\n",
       "      <th>30001</th>\n",
       "      <td>USC00288878</td>\n",
       "      <td>40.2333</td>\n",
       "      <td>-74.7667</td>\n",
       "      <td>34.1</td>\n",
       "      <td>TRENTON 2</td>\n",
       "      <td>NaN</td>\n",
       "      <td>NaN</td>\n",
       "      <td>NaN</td>\n",
       "      <td>NaN</td>\n",
       "      <td>1867-07-01</td>\n",
       "      <td>TMAX</td>\n",
       "      <td>32.2</td>\n",
       "      <td>89.96</td>\n",
       "      <td>7</td>\n",
       "      <td>USC</td>\n",
       "    </tr>\n",
       "    <tr>\n",
       "      <th>30002</th>\n",
       "      <td>USC00288878</td>\n",
       "      <td>40.2333</td>\n",
       "      <td>-74.7667</td>\n",
       "      <td>34.1</td>\n",
       "      <td>TRENTON 2</td>\n",
       "      <td>NaN</td>\n",
       "      <td>NaN</td>\n",
       "      <td>NaN</td>\n",
       "      <td>NaN</td>\n",
       "      <td>1867-07-04</td>\n",
       "      <td>TMAX</td>\n",
       "      <td>33.3</td>\n",
       "      <td>91.94</td>\n",
       "      <td>7</td>\n",
       "      <td>USC</td>\n",
       "    </tr>\n",
       "  </tbody>\n",
       "</table>\n",
       "<p>30003 rows × 15 columns</p>\n",
       "</div>"
      ],
      "text/plain": [
       "           station  latitude  longitude  elevation                   state  \\\n",
       "0      AGE00135039   35.7297     0.6500       50.0  ORAN-HOPITAL MILITAIRE   \n",
       "1      AGE00135039   35.7297     0.6500       50.0  ORAN-HOPITAL MILITAIRE   \n",
       "2      AGE00135039   35.7297     0.6500       50.0  ORAN-HOPITAL MILITAIRE   \n",
       "3      AGE00135039   35.7297     0.6500       50.0  ORAN-HOPITAL MILITAIRE   \n",
       "4      AGE00135039   35.7297     0.6500       50.0  ORAN-HOPITAL MILITAIRE   \n",
       "5      AGE00135039   35.7297     0.6500       50.0  ORAN-HOPITAL MILITAIRE   \n",
       "6      AGE00135039   35.7297     0.6500       50.0  ORAN-HOPITAL MILITAIRE   \n",
       "7      AGE00135039   35.7297     0.6500       50.0  ORAN-HOPITAL MILITAIRE   \n",
       "8      AGE00135039   35.7297     0.6500       50.0  ORAN-HOPITAL MILITAIRE   \n",
       "9      AGE00135039   35.7297     0.6500       50.0  ORAN-HOPITAL MILITAIRE   \n",
       "10     AGE00135039   35.7297     0.6500       50.0  ORAN-HOPITAL MILITAIRE   \n",
       "11     AGE00135039   35.7297     0.6500       50.0  ORAN-HOPITAL MILITAIRE   \n",
       "12     AGE00135039   35.7297     0.6500       50.0  ORAN-HOPITAL MILITAIRE   \n",
       "13     AGE00135039   35.7297     0.6500       50.0  ORAN-HOPITAL MILITAIRE   \n",
       "14     AGE00135039   35.7297     0.6500       50.0  ORAN-HOPITAL MILITAIRE   \n",
       "15     AGE00135039   35.7297     0.6500       50.0  ORAN-HOPITAL MILITAIRE   \n",
       "16     AGE00135039   35.7297     0.6500       50.0  ORAN-HOPITAL MILITAIRE   \n",
       "17     AGE00135039   35.7297     0.6500       50.0  ORAN-HOPITAL MILITAIRE   \n",
       "18     AGE00135039   35.7297     0.6500       50.0  ORAN-HOPITAL MILITAIRE   \n",
       "19     AGE00135039   35.7297     0.6500       50.0  ORAN-HOPITAL MILITAIRE   \n",
       "20     AGE00135039   35.7297     0.6500       50.0  ORAN-HOPITAL MILITAIRE   \n",
       "21     AGE00135039   35.7297     0.6500       50.0  ORAN-HOPITAL MILITAIRE   \n",
       "22     AGE00135039   35.7297     0.6500       50.0  ORAN-HOPITAL MILITAIRE   \n",
       "23     AGE00135039   35.7297     0.6500       50.0  ORAN-HOPITAL MILITAIRE   \n",
       "24     AGE00135039   35.7297     0.6500       50.0  ORAN-HOPITAL MILITAIRE   \n",
       "25     AGE00135039   35.7297     0.6500       50.0  ORAN-HOPITAL MILITAIRE   \n",
       "26     AGE00135039   35.7297     0.6500       50.0  ORAN-HOPITAL MILITAIRE   \n",
       "27     AGE00135039   35.7297     0.6500       50.0  ORAN-HOPITAL MILITAIRE   \n",
       "28     AGE00135039   35.7297     0.6500       50.0  ORAN-HOPITAL MILITAIRE   \n",
       "29     AGE00135039   35.7297     0.6500       50.0  ORAN-HOPITAL MILITAIRE   \n",
       "...            ...       ...        ...        ...                     ...   \n",
       "29973  USC00288878   40.2333   -74.7667       34.1               TRENTON 2   \n",
       "29974  USC00288878   40.2333   -74.7667       34.1               TRENTON 2   \n",
       "29975  USC00288878   40.2333   -74.7667       34.1               TRENTON 2   \n",
       "29976  USC00288878   40.2333   -74.7667       34.1               TRENTON 2   \n",
       "29977  USC00288878   40.2333   -74.7667       34.1               TRENTON 2   \n",
       "29978  USC00288878   40.2333   -74.7667       34.1               TRENTON 2   \n",
       "29979  USC00288878   40.2333   -74.7667       34.1               TRENTON 2   \n",
       "29980  USC00288878   40.2333   -74.7667       34.1               TRENTON 2   \n",
       "29981  USC00288878   40.2333   -74.7667       34.1               TRENTON 2   \n",
       "29982  USC00288878   40.2333   -74.7667       34.1               TRENTON 2   \n",
       "29983  USC00288878   40.2333   -74.7667       34.1               TRENTON 2   \n",
       "29984  USC00288878   40.2333   -74.7667       34.1               TRENTON 2   \n",
       "29985  USC00288878   40.2333   -74.7667       34.1               TRENTON 2   \n",
       "29986  USC00288878   40.2333   -74.7667       34.1               TRENTON 2   \n",
       "29987  USC00288878   40.2333   -74.7667       34.1               TRENTON 2   \n",
       "29988  USC00288878   40.2333   -74.7667       34.1               TRENTON 2   \n",
       "29989  USC00288878   40.2333   -74.7667       34.1               TRENTON 2   \n",
       "29990  USC00288878   40.2333   -74.7667       34.1               TRENTON 2   \n",
       "29991  USC00288878   40.2333   -74.7667       34.1               TRENTON 2   \n",
       "29992  USC00288878   40.2333   -74.7667       34.1               TRENTON 2   \n",
       "29993  USC00288878   40.2333   -74.7667       34.1               TRENTON 2   \n",
       "29994  USC00288878   40.2333   -74.7667       34.1               TRENTON 2   \n",
       "29995  USC00288878   40.2333   -74.7667       34.1               TRENTON 2   \n",
       "29996  USC00288878   40.2333   -74.7667       34.1               TRENTON 2   \n",
       "29997  USC00288878   40.2333   -74.7667       34.1               TRENTON 2   \n",
       "29998  USC00288878   40.2333   -74.7667       34.1               TRENTON 2   \n",
       "29999  USC00288878   40.2333   -74.7667       34.1               TRENTON 2   \n",
       "30000  USC00288878   40.2333   -74.7667       34.1               TRENTON 2   \n",
       "30001  USC00288878   40.2333   -74.7667       34.1               TRENTON 2   \n",
       "30002  USC00288878   40.2333   -74.7667       34.1               TRENTON 2   \n",
       "\n",
       "      name gsn flag  hcn/crn flag  wmo id   datetime obs_type  obs_value  \\\n",
       "0      NaN      NaN           NaN     NaN 1864-01-04     TMAX        9.0   \n",
       "1      NaN      NaN           NaN     NaN 1864-01-05     TMAX        9.5   \n",
       "2      NaN      NaN           NaN     NaN 1864-02-20     TMAX       10.0   \n",
       "3      NaN      NaN           NaN     NaN 1864-02-06     TMAX       10.0   \n",
       "4      NaN      NaN           NaN     NaN 1864-02-02     TMAX       10.5   \n",
       "5      NaN      NaN           NaN     NaN 1864-02-08     TMAX       11.0   \n",
       "6      NaN      NaN           NaN     NaN 1864-02-01     TMAX       11.0   \n",
       "7      NaN      NaN           NaN     NaN 1864-01-25     TMAX       11.5   \n",
       "8      NaN      NaN           NaN     NaN 1864-02-03     TMAX       11.5   \n",
       "9      NaN      NaN           NaN     NaN 1864-01-06     TMAX       11.5   \n",
       "10     NaN      NaN           NaN     NaN 1864-02-04     TMAX       11.5   \n",
       "11     NaN      NaN           NaN     NaN 1864-03-01     TMAX       11.7   \n",
       "12     NaN      NaN           NaN     NaN 1864-12-30     TMAX       12.0   \n",
       "13     NaN      NaN           NaN     NaN 1864-02-18     TMAX       12.0   \n",
       "14     NaN      NaN           NaN     NaN 1864-01-19     TMAX       12.0   \n",
       "15     NaN      NaN           NaN     NaN 1864-02-09     TMAX       12.0   \n",
       "16     NaN      NaN           NaN     NaN 1864-12-06     TMAX       12.0   \n",
       "17     NaN      NaN           NaN     NaN 1864-02-22     TMAX       12.2   \n",
       "18     NaN      NaN           NaN     NaN 1864-01-22     TMAX       12.5   \n",
       "19     NaN      NaN           NaN     NaN 1864-01-20     TMAX       12.5   \n",
       "20     NaN      NaN           NaN     NaN 1864-01-21     TMAX       12.5   \n",
       "21     NaN      NaN           NaN     NaN 1864-12-29     TMAX       12.5   \n",
       "22     NaN      NaN           NaN     NaN 1864-01-30     TMAX       12.5   \n",
       "23     NaN      NaN           NaN     NaN 1864-01-07     TMAX       12.5   \n",
       "24     NaN      NaN           NaN     NaN 1864-01-26     TMAX       12.5   \n",
       "25     NaN      NaN           NaN     NaN 1864-12-28     TMAX       12.5   \n",
       "26     NaN      NaN           NaN     NaN 1864-02-05     TMAX       12.5   \n",
       "27     NaN      NaN           NaN     NaN 1864-12-20     TMAX       12.7   \n",
       "28     NaN      NaN           NaN     NaN 1864-01-18     TMAX       13.0   \n",
       "29     NaN      NaN           NaN     NaN 1864-12-03     TMAX       13.0   \n",
       "...    ...      ...           ...     ...        ...      ...        ...   \n",
       "29973  NaN      NaN           NaN     NaN 1867-09-05     TMAX       27.8   \n",
       "29974  NaN      NaN           NaN     NaN 1867-06-29     TMAX       27.8   \n",
       "29975  NaN      NaN           NaN     NaN 1867-06-13     TMAX       27.8   \n",
       "29976  NaN      NaN           NaN     NaN 1867-07-06     TMAX       27.8   \n",
       "29977  NaN      NaN           NaN     NaN 1867-08-21     TMAX       27.8   \n",
       "29978  NaN      NaN           NaN     NaN 1867-09-19     TMAX       28.3   \n",
       "29979  NaN      NaN           NaN     NaN 1867-05-29     TMAX       28.3   \n",
       "29980  NaN      NaN           NaN     NaN 1867-07-26     TMAX       28.3   \n",
       "29981  NaN      NaN           NaN     NaN 1867-08-10     TMAX       28.3   \n",
       "29982  NaN      NaN           NaN     NaN 1867-06-05     TMAX       28.3   \n",
       "29983  NaN      NaN           NaN     NaN 1867-07-12     TMAX       28.3   \n",
       "29984  NaN      NaN           NaN     NaN 1867-06-14     TMAX       28.3   \n",
       "29985  NaN      NaN           NaN     NaN 1867-08-05     TMAX       28.3   \n",
       "29986  NaN      NaN           NaN     NaN 1867-08-09     TMAX       28.3   \n",
       "29987  NaN      NaN           NaN     NaN 1867-06-18     TMAX       28.3   \n",
       "29988  NaN      NaN           NaN     NaN 1867-06-07     TMAX       28.9   \n",
       "29989  NaN      NaN           NaN     NaN 1867-06-28     TMAX       28.9   \n",
       "29990  NaN      NaN           NaN     NaN 1867-06-06     TMAX       29.4   \n",
       "29991  NaN      NaN           NaN     NaN 1867-06-30     TMAX       30.0   \n",
       "29992  NaN      NaN           NaN     NaN 1867-08-19     TMAX       30.0   \n",
       "29993  NaN      NaN           NaN     NaN 1867-07-24     TMAX       30.0   \n",
       "29994  NaN      NaN           NaN     NaN 1867-07-02     TMAX       30.0   \n",
       "29995  NaN      NaN           NaN     NaN 1867-06-16     TMAX       30.0   \n",
       "29996  NaN      NaN           NaN     NaN 1867-07-07     TMAX       30.0   \n",
       "29997  NaN      NaN           NaN     NaN 1867-07-28     TMAX       30.6   \n",
       "29998  NaN      NaN           NaN     NaN 1867-07-03     TMAX       31.7   \n",
       "29999  NaN      NaN           NaN     NaN 1867-07-05     TMAX       31.7   \n",
       "30000  NaN      NaN           NaN     NaN 1867-07-25     TMAX       31.7   \n",
       "30001  NaN      NaN           NaN     NaN 1867-07-01     TMAX       32.2   \n",
       "30002  NaN      NaN           NaN     NaN 1867-07-04     TMAX       33.3   \n",
       "\n",
       "       TMAX_F  Month Country  \n",
       "0       48.20      1     AGE  \n",
       "1       49.10      1     AGE  \n",
       "2       50.00      2     AGE  \n",
       "3       50.00      2     AGE  \n",
       "4       50.90      2     AGE  \n",
       "5       51.80      2     AGE  \n",
       "6       51.80      2     AGE  \n",
       "7       52.70      1     AGE  \n",
       "8       52.70      2     AGE  \n",
       "9       52.70      1     AGE  \n",
       "10      52.70      2     AGE  \n",
       "11      53.06      3     AGE  \n",
       "12      53.60     12     AGE  \n",
       "13      53.60      2     AGE  \n",
       "14      53.60      1     AGE  \n",
       "15      53.60      2     AGE  \n",
       "16      53.60     12     AGE  \n",
       "17      53.96      2     AGE  \n",
       "18      54.50      1     AGE  \n",
       "19      54.50      1     AGE  \n",
       "20      54.50      1     AGE  \n",
       "21      54.50     12     AGE  \n",
       "22      54.50      1     AGE  \n",
       "23      54.50      1     AGE  \n",
       "24      54.50      1     AGE  \n",
       "25      54.50     12     AGE  \n",
       "26      54.50      2     AGE  \n",
       "27      54.86     12     AGE  \n",
       "28      55.40      1     AGE  \n",
       "29      55.40     12     AGE  \n",
       "...       ...    ...     ...  \n",
       "29973   82.04      9     USC  \n",
       "29974   82.04      6     USC  \n",
       "29975   82.04      6     USC  \n",
       "29976   82.04      7     USC  \n",
       "29977   82.04      8     USC  \n",
       "29978   82.94      9     USC  \n",
       "29979   82.94      5     USC  \n",
       "29980   82.94      7     USC  \n",
       "29981   82.94      8     USC  \n",
       "29982   82.94      6     USC  \n",
       "29983   82.94      7     USC  \n",
       "29984   82.94      6     USC  \n",
       "29985   82.94      8     USC  \n",
       "29986   82.94      8     USC  \n",
       "29987   82.94      6     USC  \n",
       "29988   84.02      6     USC  \n",
       "29989   84.02      6     USC  \n",
       "29990   84.92      6     USC  \n",
       "29991   86.00      6     USC  \n",
       "29992   86.00      8     USC  \n",
       "29993   86.00      7     USC  \n",
       "29994   86.00      7     USC  \n",
       "29995   86.00      6     USC  \n",
       "29996   86.00      7     USC  \n",
       "29997   87.08      7     USC  \n",
       "29998   89.06      7     USC  \n",
       "29999   89.06      7     USC  \n",
       "30000   89.06      7     USC  \n",
       "30001   89.96      7     USC  \n",
       "30002   91.94      7     USC  \n",
       "\n",
       "[30003 rows x 15 columns]"
      ]
     },
     "execution_count": 141,
     "metadata": {},
     "output_type": "execute_result"
    }
   ],
   "source": [
    "print(loc.head(3))\n",
    "loc_merge=pd.merge(loc, ver, on='station', how='inner')\n",
    "loc_merge"
   ]
  },
  {
   "cell_type": "code",
   "execution_count": 142,
   "metadata": {
    "deletable": false,
    "editable": false,
    "nbgrader": {
     "checksum": "47dd6b4fd0458276b20dd22afbf6e952",
     "grade": true,
     "grade_id": "problem_73_tests",
     "locked": true,
     "points": 1,
     "schema_version": 1,
     "solution": false
    }
   },
   "outputs": [],
   "source": [
    "assert answer_73.shape == (5686, 15) or answer_73.shape == (30003, 15)"
   ]
  },
  {
   "cell_type": "markdown",
   "metadata": {
    "deletable": false,
    "editable": false,
    "nbgrader": {
     "checksum": "71047da6e2e34b2c66bbddb6e2dba62a",
     "grade": false,
     "grade_id": "cell-01cb09ebc1fe07d8",
     "locked": true,
     "schema_version": 1,
     "solution": false
    }
   },
   "source": [
    "## Problems from exercise set 8\n",
    "\n",
    "> **Ex. 8.1.2.:** Use the `request` module to collect the first page of job postings.\n",
    ">\n",
    "> Store the response.json() object in a new variable called `answer_81`.\n",
    "> "
   ]
  },
  {
   "cell_type": "code",
   "execution_count": 124,
   "metadata": {},
   "outputs": [],
   "source": [
    "import requests,os,time\n",
    "def ratelimit():\n",
    "    \"A function that handles the rate of your calls.\"\n",
    "    time.sleep(1) # sleep one second.\n",
    "\n",
    "class Connector():\n",
    "  def __init__(self,logfile,overwrite_log=False,connector_type='requests',session=False,path2selenium='',n_tries = 5,timeout=30):\n",
    "    \"\"\"This Class implements a method for reliable connection to the internet and monitoring. \n",
    "    It handles simple errors due to connection problems, and logs a range of information for basic quality assessments\n",
    "    \n",
    "    Keyword arguments:\n",
    "    logfile -- path to the logfile\n",
    "    overwrite_log -- bool, defining if logfile should be cleared (rarely the case). \n",
    "    connector_type -- use the 'requests' module or the 'selenium'. Will have different since the selenium webdriver does not have a similar response object when using the get method, and monitoring the behavior cannot be automated in the same way.\n",
    "    session -- requests.session object. For defining custom headers and proxies.\n",
    "    path2selenium -- str, sets the path to the geckodriver needed when using selenium.\n",
    "    n_tries -- int, defines the number of retries the *get* method will try to avoid random connection errors.\n",
    "    timeout -- int, seconds the get request will wait for the server to respond, again to avoid connection errors.\n",
    "    \"\"\"\n",
    "    \n",
    "    ## Initialization function defining parameters. \n",
    "    self.n_tries = n_tries # For avoiding triviel error e.g. connection errors, this defines how many times it will retry.\n",
    "    self.timeout = timeout # Defining the maximum time to wait for a server to response.\n",
    "    ## not implemented here, if you use selenium.\n",
    "    if connector_type=='selenium':\n",
    "      assert path2selenium!='', \"You need to specify the path to you geckodriver if you want to use Selenium\"\n",
    "      from selenium import webdriver \n",
    "      ## HIN download the latest geckodriver here: https://github.com/mozilla/geckodriver/releases\n",
    "\n",
    "      assert os.path.isfile(path2selenium),'You need to insert a valid path2selenium the path to your geckodriver. You can download the latest geckodriver here: https://github.com/mozilla/geckodriver/releases'\n",
    "      self.browser = webdriver.Firefox(executable_path=path2selenium) # start the browser with a path to the geckodriver.\n",
    "\n",
    "    self.connector_type = connector_type # set the connector_type\n",
    "    \n",
    "    if session: # set the custom session\n",
    "      self.session = session\n",
    "    else:\n",
    "      self.session = requests.session()\n",
    "    self.logfilename = logfile # set the logfile path\n",
    "    ## define header for the logfile\n",
    "    header = ['id','project','connector_type','t', 'delta_t', 'url', 'redirect_url','response_size', 'response_code','success','error']\n",
    "    if os.path.isfile(logfile):        \n",
    "      if overwrite_log==True:\n",
    "        self.log = open(logfile,'w')\n",
    "        self.log.write(';'.join(header))\n",
    "      else:\n",
    "        self.log = open(logfile,'a')\n",
    "    else:\n",
    "      self.log = open(logfile,'w')\n",
    "      self.log.write(';'.join(header))\n",
    "    ## load log \n",
    "    with open(logfile,'r') as f: # open file\n",
    "        \n",
    "      l = f.read().split('\\n') # read and split file by newlines.\n",
    "      ## set id\n",
    "      if len(l)<=1:\n",
    "        self.id = 0\n",
    "      else:\n",
    "        self.id = int(l[-1][0])+1\n",
    "            \n",
    "  def get(self,url,project_name):\n",
    "    \"\"\"Method for connector reliably to the internet, with multiple tries and simple error handling, as well as default logging function.\n",
    "    Input url and the project name for the log (i.e. is it part of mapping the domain, or is it the part of the final stage in the data collection).\n",
    "    \n",
    "    Keyword arguments:\n",
    "    url -- str, url\n",
    "    project_name -- str, Name used for analyzing the log. Use case could be the 'Mapping of domain','Meta_data_collection','main data collection'. \n",
    "    \"\"\"\n",
    "     \n",
    "    project_name = project_name.replace(';','-') # make sure the default csv seperator is not in the project_name.\n",
    "    if self.connector_type=='requests': # Determine connector method.\n",
    "      for _ in range(self.n_tries): # for loop defining number of retries with the requests method.\n",
    "        ratelimit()\n",
    "        t = time.time()\n",
    "        try: # error handling \n",
    "          response = self.session.get(url,timeout = self.timeout) # make get call\n",
    "\n",
    "          err = '' # define python error variable as empty assumming success.\n",
    "          success = True # define success variable\n",
    "          redirect_url = response.url # log current url, after potential redirects \n",
    "          dt = t - time.time() # define delta-time waiting for the server and downloading content.\n",
    "          size = len(response.text) # define variable for size of html content of the response.\n",
    "          response_code = response.status_code # log status code.\n",
    "          ## log...\n",
    "          call_id = self.id # get current unique identifier for the call\n",
    "          self.id+=1 # increment call id\n",
    "          #['id','project_name','connector_type','t', 'delta_t', 'url', 'redirect_url','response_size', 'response_code','success','error']\n",
    "          row = [call_id,project_name,self.connector_type,t,dt,url,redirect_url,size,response_code,success,err] # define row to be written in the log.\n",
    "          self.log.write('\\n'+';'.join(map(str,row))) # write log.\n",
    "          return response,call_id # return response and unique identifier.\n",
    "\n",
    "        except Exception as e: # define error condition\n",
    "          err = str(e) # python error\n",
    "          response_code = '' # blank response code \n",
    "          success = False # call success = False\n",
    "          size = 0 # content is empty.\n",
    "          redirect_url = '' # redirect url empty \n",
    "          dt = t - time.time() # define delta t\n",
    "\n",
    "          ## log...\n",
    "          call_id = self.id # define unique identifier\n",
    "          self.id+=1 # increment call_id\n",
    "\n",
    "          row = [call_id,project_name,self.connector_type,t,dt,url,redirect_url,size,response_code,success,err] # define row\n",
    "          self.log.write('\\n'+';'.join(map(str,row))) # write row to log.\n",
    "    else:\n",
    "      t = time.time()\n",
    "      ratelimit()\n",
    "      self.browser.get(url) # use selenium get method\n",
    "      ## log\n",
    "      call_id = self.id # define unique identifier for the call. \n",
    "      self.id+=1 # increment the call_id\n",
    "      err = '' # blank error message\n",
    "      success = '' # success blank\n",
    "      redirect_url = self.browser.current_url # redirect url.\n",
    "      dt = t - time.time() # get time for get method ... NOTE: not necessarily the complete load time.\n",
    "      size = len(self.browser.page_source) # get size of content ... NOTE: not necessarily correct, since selenium works in the background, and could still be loading.\n",
    "      response_code = '' # empty response code.\n",
    "      row = [call_id,project_name,self.connector_type,t,dt,url,redirect_url,size,response_code,success,err] # define row \n",
    "      self.log.write('\\n'+';'.join(map(str,row))) # write row to log file.\n",
    "    # Using selenium it will not return a response object, instead you should call the browser object of the connector.\n",
    "    ## connector.browser.page_source will give you the html.\n",
    "      return call_id\n",
    "logfile = 'log opgave 8'## name your log file.\n",
    "connector = Connector(logfile)"
   ]
  },
  {
   "cell_type": "code",
   "execution_count": 130,
   "metadata": {
    "deletable": false,
    "nbgrader": {
     "checksum": "3675e9996445e60c9c55871bbf9656b5",
     "grade": false,
     "grade_id": "problem_81",
     "locked": false,
     "schema_version": 1,
     "solution": true
    }
   },
   "outputs": [],
   "source": [
    "import requests\n",
    "url='https://job.jobnet.dk/CV/FindWork/Search'\n",
    "response,call_id = connector.get(url,'jobnet')\n",
    "\n",
    "response.text\n",
    "dataraw=response.text\n",
    "import json\n",
    "import pandas as pd\n",
    "response_json=response.json()\n",
    "answer_81=response_json"
   ]
  },
  {
   "cell_type": "code",
   "execution_count": 131,
   "metadata": {
    "deletable": false,
    "editable": false,
    "nbgrader": {
     "checksum": "a870431a18f53296a6d3676efb0e5ffc",
     "grade": true,
     "grade_id": "problem_81_tests",
     "locked": true,
     "points": 1,
     "schema_version": 1,
     "solution": false
    }
   },
   "outputs": [],
   "source": [
    "assert sorted(answer_81.keys()) == sorted(['Expression', 'Facets', 'JobPositionPostings', 'TotalResultCount'])"
   ]
  },
  {
   "cell_type": "markdown",
   "metadata": {
    "deletable": false,
    "editable": false,
    "nbgrader": {
     "checksum": "fe4949db01017cc8618490263967fe1b",
     "grade": false,
     "grade_id": "cell-6f74cab704e1fb70",
     "locked": true,
     "schema_version": 1,
     "solution": false
    }
   },
   "source": [
    "> **Ex. 8.1.3.:** Store the 'TotalResultCount' value for later use. Also create a dataframe from the 'JobPositionPostings' field in the json. Name this dataframe `answer_82`."
   ]
  },
  {
   "cell_type": "code",
   "execution_count": 132,
   "metadata": {
    "deletable": false,
    "nbgrader": {
     "checksum": "b554f0f47fb8dacb41d1517d1afc42a3",
     "grade": false,
     "grade_id": "problem_82",
     "locked": false,
     "schema_version": 1,
     "solution": true
    }
   },
   "outputs": [],
   "source": [
    "pd_data=pd.DataFrame(response_json['JobPositionPostings'])\n",
    "\n",
    "TotalResultCount=15007;\n",
    "answer_82=pd_data"
   ]
  },
  {
   "cell_type": "code",
   "execution_count": 133,
   "metadata": {
    "deletable": false,
    "editable": false,
    "nbgrader": {
     "checksum": "a353e060971a565cb33498db98d2aaa5",
     "grade": true,
     "grade_id": "problem_82_tests",
     "locked": true,
     "points": 1,
     "schema_version": 1,
     "solution": false
    }
   },
   "outputs": [],
   "source": [
    "assert answer_82.shape == (20,44)"
   ]
  }
 ],
 "metadata": {
  "kernelspec": {
   "display_name": "Python 3",
   "language": "python",
   "name": "python3"
  },
  "language_info": {
   "codemirror_mode": {
    "name": "ipython",
    "version": 3
   },
   "file_extension": ".py",
   "mimetype": "text/x-python",
   "name": "python",
   "nbconvert_exporter": "python",
   "pygments_lexer": "ipython3",
   "version": "3.7.3"
  }
 },
 "nbformat": 4,
 "nbformat_minor": 2
}

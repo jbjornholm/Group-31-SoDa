{
 "cells": [
  {
   "cell_type": "markdown",
   "metadata": {},
   "source": [
    "> **Note:** In most sessions you will be solving exercises posed in a Jupyter notebook that looks like this one. Because you are cloning a Github repository that only we can push to, you should **NEVER EDIT** any of the files you pull from Github. Instead, what you should do, is either make a new notebook and write your solutions in there, or **make a copy of this notebook and save it somewhere else** on your computer, not inside the `sds` folder that you cloned, so you can write your answers in there. If you edit the notebook you pulled from Github, those edits (possible your solutions to the exercises) may be overwritten and lost the next time you pull from Github. This is important, so don't hesitate to ask if it is unclear."
   ]
  },
  {
   "cell_type": "markdown",
   "metadata": {
    "ExecuteTime": {
     "end_time": "2017-08-23T15:30:03.634114Z",
     "start_time": "2017-08-23T15:30:03.629294Z"
    }
   },
   "source": [
    "# Exercise Set 13: Model building process and model selection\n",
    "\n",
    "*Morning, August 21, 2018*\n",
    "\n",
    "In this Exercise Set 13 we will investigate how to build machine learning models using a formalize pipeline from preprocessed (i.e. tidy) data to a model.\n",
    "\n",
    "We import our standard stuff. Notice that we are not interested in seeing the convergence warning in scikit-learn so we suppress them for now."
   ]
  },
  {
   "cell_type": "code",
   "execution_count": 52,
   "metadata": {},
   "outputs": [],
   "source": [
    "import warnings\n",
    "from sklearn.exceptions import ConvergenceWarning\n",
    "warnings.filterwarnings(action='ignore', category=ConvergenceWarning)\n",
    "\n",
    "import matplotlib.pyplot as plt\n",
    "import numpy as np \n",
    "import pandas as pd \n",
    "import seaborn as sns"
   ]
  },
  {
   "cell_type": "markdown",
   "metadata": {},
   "source": [
    "## Model validation\n",
    "\n",
    "In what follows we will regard the \"train\" data for two purposes. First we are interested in performing a model selection. Then with the selected model we estimate/train it on all the training data. \n",
    "\n",
    "\n",
    "> **Ex. 13.1.0:** Begin by reloading the housing dataset from Ex. 12.2.0 using the code below. "
   ]
  },
  {
   "cell_type": "code",
   "execution_count": 7,
   "metadata": {},
   "outputs": [],
   "source": [
    "from sklearn.datasets import fetch_california_housing\n",
    "from sklearn.model_selection import train_test_split\n",
    "from sklearn.linear_model import Lasso, LinearRegression\n",
    "from sklearn.pipeline import make_pipeline\n",
    "from sklearn.metrics import mean_squared_error as mse\n",
    "from sklearn.preprocessing import StandardScaler, PolynomialFeatures\n",
    "from math import sqrt\n",
    "\n",
    "cal_house = fetch_california_housing()    \n",
    "X = pd.DataFrame(data=cal_house['data'], \n",
    "                 columns=cal_house['feature_names'])\\\n",
    "             .iloc[:,:-2]\n",
    "y = cal_house['target']"
   ]
  },
  {
   "cell_type": "markdown",
   "metadata": {},
   "source": [
    "> **Ex. 13.1.1:** Make a for loop with 10 iterations where you:\n",
    "1. Split the input data into, train (also know as development) and test where the test sample should be one third. (Set a new random state for each iteration of the loop, so each iteration makes a different split).\n",
    "2. Further split the training (aka development) data into to even sized bins; the first data is for training models and the other is for validating them. (Therefore these data sets are often called training and validation)\n",
    "3. Train a linear regression model with sub-training data. Compute the RMSE for out-of-sample predictions for both the test data  and the validation data. Save the RMSE.\n",
    "\n",
    "> You should now have a 10x2 DataFrame with 10 RMSE from both the test data set and the train data set. Compute descriptive statistics of RMSE for the out-of-sample predictions on test and validation data. Are they simular?    \n",
    ">   They hopefuly are pretty simular. This shows us, that we can split the train data, and use this to fit the model. \n",
    "\n",
    ">> *Hint*: you can reuse any code used to solve exercises 12.2.X."
   ]
  },
  {
   "cell_type": "code",
   "execution_count": 31,
   "metadata": {},
   "outputs": [
    {
     "data": {
      "text/html": [
       "<div>\n",
       "<style scoped>\n",
       "    .dataframe tbody tr th:only-of-type {\n",
       "        vertical-align: middle;\n",
       "    }\n",
       "\n",
       "    .dataframe tbody tr th {\n",
       "        vertical-align: top;\n",
       "    }\n",
       "\n",
       "    .dataframe thead th {\n",
       "        text-align: right;\n",
       "    }\n",
       "</style>\n",
       "<table border=\"1\" class=\"dataframe\">\n",
       "  <thead>\n",
       "    <tr style=\"text-align: right;\">\n",
       "      <th></th>\n",
       "      <th>RMSE_test</th>\n",
       "      <th>RMSE_val</th>\n",
       "    </tr>\n",
       "  </thead>\n",
       "  <tbody>\n",
       "    <tr>\n",
       "      <th>0</th>\n",
       "      <td>0.799316</td>\n",
       "      <td>0.779470</td>\n",
       "    </tr>\n",
       "    <tr>\n",
       "      <th>1</th>\n",
       "      <td>0.784875</td>\n",
       "      <td>0.797080</td>\n",
       "    </tr>\n",
       "    <tr>\n",
       "      <th>2</th>\n",
       "      <td>0.813145</td>\n",
       "      <td>0.781067</td>\n",
       "    </tr>\n",
       "    <tr>\n",
       "      <th>3</th>\n",
       "      <td>0.794923</td>\n",
       "      <td>0.792573</td>\n",
       "    </tr>\n",
       "    <tr>\n",
       "      <th>4</th>\n",
       "      <td>0.786323</td>\n",
       "      <td>0.777620</td>\n",
       "    </tr>\n",
       "    <tr>\n",
       "      <th>5</th>\n",
       "      <td>2.504750</td>\n",
       "      <td>3.899375</td>\n",
       "    </tr>\n",
       "    <tr>\n",
       "      <th>6</th>\n",
       "      <td>2.178635</td>\n",
       "      <td>1.229534</td>\n",
       "    </tr>\n",
       "    <tr>\n",
       "      <th>7</th>\n",
       "      <td>0.790696</td>\n",
       "      <td>0.801040</td>\n",
       "    </tr>\n",
       "    <tr>\n",
       "      <th>8</th>\n",
       "      <td>0.773043</td>\n",
       "      <td>0.797176</td>\n",
       "    </tr>\n",
       "    <tr>\n",
       "      <th>9</th>\n",
       "      <td>0.793141</td>\n",
       "      <td>0.783332</td>\n",
       "    </tr>\n",
       "  </tbody>\n",
       "</table>\n",
       "</div>"
      ],
      "text/plain": [
       "   RMSE_test  RMSE_val\n",
       "0   0.799316  0.779470\n",
       "1   0.784875  0.797080\n",
       "2   0.813145  0.781067\n",
       "3   0.794923  0.792573\n",
       "4   0.786323  0.777620\n",
       "5   2.504750  3.899375\n",
       "6   2.178635  1.229534\n",
       "7   0.790696  0.801040\n",
       "8   0.773043  0.797176\n",
       "9   0.793141  0.783332"
      ]
     },
     "execution_count": 31,
     "metadata": {},
     "output_type": "execute_result"
    }
   ],
   "source": [
    "pipe_lr = make_pipeline(StandardScaler(),LinearRegression())\n",
    "RMSE_test=[]\n",
    "RMSE_val=[]\n",
    "\n",
    "\n",
    "for i in range(10):\n",
    "    X_dev, X_test, y_dev, y_test = train_test_split(X, y, test_size=1/3, random_state=i)\n",
    "    X_train, X_val, y_train, y_val = train_test_split(X_dev, y_dev, test_size=1/2, random_state=i)\n",
    "    \n",
    "    pipe_lr.fit(X_train,y_train)\n",
    "    y_pred_val=pipe_lr.predict(X_val)\n",
    "    y_pred_test=pipe_lr.predict(X_test)\n",
    "    RMSE_test.append(sqrt(mse(y_pred_test,y_test)))\n",
    "    RMSE_val.append(sqrt(mse(y_pred_val,y_val)))\n",
    "\n",
    "data = pd.DataFrame({'RMSE_test':RMSE_test,'RMSE_val':RMSE_val})\n",
    "data"
   ]
  },
  {
   "cell_type": "markdown",
   "metadata": {},
   "source": [
    "## Model building"
   ]
  },
  {
   "cell_type": "markdown",
   "metadata": {},
   "source": [
    "> **Ex. 13.1.2:** Construct a model building pipeline which \n",
    "\n",
    "> 1. adds polynomial features of degree 3 without bias;\n",
    "> 1. scales the features to mean zero and unit std. \n",
    "> 1. estimates a Lasso model\n",
    "\n",
    ">> *Hint:* a modelling pipeline can be constructed with `make_pipeline` from `sklearn.pipeline`."
   ]
  },
  {
   "cell_type": "code",
   "execution_count": 46,
   "metadata": {},
   "outputs": [
    {
     "ename": "TypeError",
     "evalue": "'Pipeline' object is not callable",
     "output_type": "error",
     "traceback": [
      "\u001b[1;31m---------------------------------------------------------------------------\u001b[0m",
      "\u001b[1;31mTypeError\u001b[0m                                 Traceback (most recent call last)",
      "\u001b[1;32m<ipython-input-46-365ace17b349>\u001b[0m in \u001b[0;36m<module>\u001b[1;34m()\u001b[0m\n\u001b[0;32m      1\u001b[0m \u001b[0mpipe_lasso\u001b[0m \u001b[1;33m=\u001b[0m \u001b[0mmake_pipeline\u001b[0m\u001b[1;33m(\u001b[0m\u001b[0mPolynomialFeatures\u001b[0m\u001b[1;33m(\u001b[0m\u001b[0mdegree\u001b[0m\u001b[1;33m=\u001b[0m\u001b[1;36m3\u001b[0m\u001b[1;33m,\u001b[0m \u001b[0minclude_bias\u001b[0m\u001b[1;33m=\u001b[0m\u001b[1;32mFalse\u001b[0m\u001b[1;33m)\u001b[0m\u001b[1;33m,\u001b[0m \u001b[0mStandardScaler\u001b[0m\u001b[1;33m(\u001b[0m\u001b[1;33m)\u001b[0m\u001b[1;33m,\u001b[0m\u001b[0mLasso\u001b[0m\u001b[1;33m(\u001b[0m\u001b[0malpha\u001b[0m\u001b[1;33m=\u001b[0m\u001b[0m_\u001b[0m\u001b[1;33m,\u001b[0m \u001b[0mrandom_state\u001b[0m\u001b[1;33m=\u001b[0m\u001b[1;36m1\u001b[0m\u001b[1;33m)\u001b[0m\u001b[1;33m)\u001b[0m\u001b[1;33m\u001b[0m\u001b[1;33m\u001b[0m\u001b[0m\n\u001b[1;32m----> 2\u001b[1;33m \u001b[0mlasso\u001b[0m\u001b[1;33m=\u001b[0m\u001b[0mpipe_lasso\u001b[0m\u001b[1;33m(\u001b[0m\u001b[0m_\u001b[0m\u001b[1;33m=\u001b[0m\u001b[1;36m1\u001b[0m\u001b[1;33m)\u001b[0m\u001b[1;33m\u001b[0m\u001b[1;33m\u001b[0m\u001b[0m\n\u001b[0m",
      "\u001b[1;31mTypeError\u001b[0m: 'Pipeline' object is not callable"
     ]
    }
   ],
   "source": [
    "pipe_lasso = make_pipeline(PolynomialFeatures(degree=3, include_bias=False), StandardScaler(),Lasso(alpha=_, random_state=1))\n"
   ]
  },
  {
   "cell_type": "markdown",
   "metadata": {},
   "source": [
    "## Cross validation\n",
    "In machine learning, we have two types of parameters: those that are learned from\n",
    "the training data, for example, the weights in logistic regression, and the parameters\n",
    "of a learning algorithm that are optimized separately. The latter are the tuning\n",
    "parameters, also called *hyperparameters*, of a model, for example, the regularization\n",
    "parameter in logistic regression or the depth parameter of a decision tree.\n",
    "  \n",
    "   \n",
    "When we want to optimize over both normal parameters and hyperparameteres we do this using nested loops (two-layered cross validation). In outer loop we vary the hyperparameters, and then in the inner loop we do cross validation for the model with the specific selection of hyperparameters. This way we can find the model, with the lowest mean MSE. "
   ]
  },
  {
   "cell_type": "markdown",
   "metadata": {},
   "source": [
    "> **Ex. 13.1.3:**\n",
    "Run a Lasso regression using the Pipeline from `Ex 13.1.2`. In the outer loop searching through the lambdas specified below. \n",
    "In the inner loop make *5 fold cross validation* on the selected model and store the average MSE for each fold. Which lambda gives the lowest test MSE?\n",
    "\n",
    "\n",
    "> ```python \n",
    "lambdas =  np.logspace(-4, 4, 12)\n",
    "```\n",
    "\n",
    ">> *Hint:* `KFold` in `sklearn.model_selection` may be useful."
   ]
  },
  {
   "cell_type": "code",
   "execution_count": 62,
   "metadata": {},
   "outputs": [
    {
     "name": "stdout",
     "output_type": "stream",
     "text": [
      "<generator object _BaseKFold.split at 0x0000015A10070B10>\n"
     ]
    }
   ],
   "source": [
    "print(kfolds.split(X_dev))"
   ]
  },
  {
   "cell_type": "code",
   "execution_count": 77,
   "metadata": {},
   "outputs": [
    {
     "data": {
      "text/html": [
       "<div>\n",
       "<style scoped>\n",
       "    .dataframe tbody tr th:only-of-type {\n",
       "        vertical-align: middle;\n",
       "    }\n",
       "\n",
       "    .dataframe tbody tr th {\n",
       "        vertical-align: top;\n",
       "    }\n",
       "\n",
       "    .dataframe thead th {\n",
       "        text-align: right;\n",
       "    }\n",
       "</style>\n",
       "<table border=\"1\" class=\"dataframe\">\n",
       "  <thead>\n",
       "    <tr style=\"text-align: right;\">\n",
       "      <th></th>\n",
       "      <th>0</th>\n",
       "      <th>1</th>\n",
       "      <th>2</th>\n",
       "      <th>3</th>\n",
       "      <th>4</th>\n",
       "    </tr>\n",
       "  </thead>\n",
       "  <tbody>\n",
       "    <tr>\n",
       "      <th>0.000100</th>\n",
       "      <td>0.525493</td>\n",
       "      <td>0.662894</td>\n",
       "      <td>0.506985</td>\n",
       "      <td>0.594421</td>\n",
       "      <td>0.843436</td>\n",
       "    </tr>\n",
       "    <tr>\n",
       "      <th>0.000534</th>\n",
       "      <td>0.532407</td>\n",
       "      <td>0.772071</td>\n",
       "      <td>0.506748</td>\n",
       "      <td>0.550583</td>\n",
       "      <td>11.240687</td>\n",
       "    </tr>\n",
       "    <tr>\n",
       "      <th>0.002848</th>\n",
       "      <td>0.543194</td>\n",
       "      <td>0.545168</td>\n",
       "      <td>0.504095</td>\n",
       "      <td>0.524556</td>\n",
       "      <td>2.833196</td>\n",
       "    </tr>\n",
       "    <tr>\n",
       "      <th>0.015199</th>\n",
       "      <td>0.580298</td>\n",
       "      <td>0.571591</td>\n",
       "      <td>0.558977</td>\n",
       "      <td>0.599879</td>\n",
       "      <td>0.587422</td>\n",
       "    </tr>\n",
       "    <tr>\n",
       "      <th>0.081113</th>\n",
       "      <td>0.645711</td>\n",
       "      <td>0.664023</td>\n",
       "      <td>0.644697</td>\n",
       "      <td>0.688057</td>\n",
       "      <td>0.669344</td>\n",
       "    </tr>\n",
       "    <tr>\n",
       "      <th>0.432876</th>\n",
       "      <td>0.822063</td>\n",
       "      <td>0.900591</td>\n",
       "      <td>0.876513</td>\n",
       "      <td>0.942351</td>\n",
       "      <td>0.874513</td>\n",
       "    </tr>\n",
       "    <tr>\n",
       "      <th>2.310130</th>\n",
       "      <td>1.232622</td>\n",
       "      <td>1.333391</td>\n",
       "      <td>1.314193</td>\n",
       "      <td>1.400686</td>\n",
       "      <td>1.335353</td>\n",
       "    </tr>\n",
       "    <tr>\n",
       "      <th>12.328467</th>\n",
       "      <td>1.232622</td>\n",
       "      <td>1.333391</td>\n",
       "      <td>1.314193</td>\n",
       "      <td>1.400686</td>\n",
       "      <td>1.335353</td>\n",
       "    </tr>\n",
       "    <tr>\n",
       "      <th>65.793322</th>\n",
       "      <td>1.232622</td>\n",
       "      <td>1.333391</td>\n",
       "      <td>1.314193</td>\n",
       "      <td>1.400686</td>\n",
       "      <td>1.335353</td>\n",
       "    </tr>\n",
       "    <tr>\n",
       "      <th>351.119173</th>\n",
       "      <td>1.232622</td>\n",
       "      <td>1.333391</td>\n",
       "      <td>1.314193</td>\n",
       "      <td>1.400686</td>\n",
       "      <td>1.335353</td>\n",
       "    </tr>\n",
       "    <tr>\n",
       "      <th>1873.817423</th>\n",
       "      <td>1.232622</td>\n",
       "      <td>1.333391</td>\n",
       "      <td>1.314193</td>\n",
       "      <td>1.400686</td>\n",
       "      <td>1.335353</td>\n",
       "    </tr>\n",
       "    <tr>\n",
       "      <th>10000.000000</th>\n",
       "      <td>1.232622</td>\n",
       "      <td>1.333391</td>\n",
       "      <td>1.314193</td>\n",
       "      <td>1.400686</td>\n",
       "      <td>1.335353</td>\n",
       "    </tr>\n",
       "  </tbody>\n",
       "</table>\n",
       "</div>"
      ],
      "text/plain": [
       "                     0         1         2         3          4\n",
       "0.000100      0.525493  0.662894  0.506985  0.594421   0.843436\n",
       "0.000534      0.532407  0.772071  0.506748  0.550583  11.240687\n",
       "0.002848      0.543194  0.545168  0.504095  0.524556   2.833196\n",
       "0.015199      0.580298  0.571591  0.558977  0.599879   0.587422\n",
       "0.081113      0.645711  0.664023  0.644697  0.688057   0.669344\n",
       "0.432876      0.822063  0.900591  0.876513  0.942351   0.874513\n",
       "2.310130      1.232622  1.333391  1.314193  1.400686   1.335353\n",
       "12.328467     1.232622  1.333391  1.314193  1.400686   1.335353\n",
       "65.793322     1.232622  1.333391  1.314193  1.400686   1.335353\n",
       "351.119173    1.232622  1.333391  1.314193  1.400686   1.335353\n",
       "1873.817423   1.232622  1.333391  1.314193  1.400686   1.335353\n",
       "10000.000000  1.232622  1.333391  1.314193  1.400686   1.335353"
      ]
     },
     "execution_count": 77,
     "metadata": {},
     "output_type": "execute_result"
    }
   ],
   "source": [
    "from sklearn.model_selection import KFold\n",
    "kfolds = KFold(n_splits=5)\n",
    "mseCV = []\n",
    "\n",
    "lambdas=np.logspace(-4,4,12)\n",
    "\n",
    "for lambda_ in lambdas:    \n",
    "    # inner loop: folds\n",
    "    mseCV_ = []    \n",
    "    for train_idx, val_idx in kfolds.split(X_dev, y_dev):        \n",
    "        # train model and compute MSE on test fold\n",
    "        pipe_lasso= make_pipeline(PolynomialFeatures(degree=3, include_bias=False),\n",
    "                                     StandardScaler(),\n",
    "                                     Lasso(alpha=lambda_, random_state=1))            \n",
    "        X_train, y_train = X_dev.iloc[train_idx], y_dev[train_idx]\n",
    "        X_val, y_val = X_dev.iloc[val_idx], y_dev[val_idx] \n",
    "        pipe_lasso.fit(X_train, y_train)        \n",
    "        mseCV_.append(mse(pipe_lasso.predict(X_val), y_val))    \n",
    "        \n",
    "    # store result    \n",
    "    mseCV.append(mseCV_) \n",
    "    \n",
    "# convert to DataFrame\n",
    "lambdaCV = pd.DataFrame(mseCV, index=lambdas)\n",
    "lambdaCV"
   ]
  },
  {
   "cell_type": "code",
   "execution_count": 92,
   "metadata": {},
   "outputs": [
    {
     "ename": "TypeError",
     "evalue": "nsmallest() missing 1 required positional argument: 'columns'",
     "output_type": "error",
     "traceback": [
      "\u001b[1;31m---------------------------------------------------------------------------\u001b[0m",
      "\u001b[1;31mTypeError\u001b[0m                                 Traceback (most recent call last)",
      "\u001b[1;32m<ipython-input-92-8c029eff8914>\u001b[0m in \u001b[0;36m<module>\u001b[1;34m()\u001b[0m\n\u001b[1;32m----> 1\u001b[1;33m \u001b[0mlambdaCV\u001b[0m\u001b[1;33m.\u001b[0m\u001b[0mnsmallest\u001b[0m\u001b[1;33m(\u001b[0m\u001b[1;36m1\u001b[0m\u001b[1;33m)\u001b[0m\u001b[1;33m\u001b[0m\u001b[1;33m\u001b[0m\u001b[0m\n\u001b[0m",
      "\u001b[1;31mTypeError\u001b[0m: nsmallest() missing 1 required positional argument: 'columns'"
     ]
    }
   ],
   "source": [
    "lambdaCV.nsmallest(1)"
   ]
  },
  {
   "cell_type": "markdown",
   "metadata": {},
   "source": [
    "> **Ex. 13.1.4:** __Automated Cross Validation in one dimension__  \n",
    "Now we want to repeat exercise 13.1.3 in a more automated fasion. \n",
    "When you are doing cross validation with one hyperparameter, you can automate the process by using `validation_curve` from `sklearn.model_selection`. Use this function to search through the values of lambda, and find the value of lambda, which give the lowest test error.  \n",
    "\n",
    "> check if you got the same output for the manual implementation (Ex. 13.1.3) and the automated implementation (Ex. 13.1.4) \n",
    "\n",
    "> BONUS: Plot the average MSE-test and MSE-train against the different values of lambda. (*Hint*: Use logarithmic axes, and lambda as index)"
   ]
  },
  {
   "cell_type": "code",
   "execution_count": 95,
   "metadata": {},
   "outputs": [
    {
     "name": "stdout",
     "output_type": "stream",
     "text": [
      "lambda\n",
      "0.015199    0.579633\n",
      "Name: Validation, dtype: float64\n"
     ]
    }
   ],
   "source": [
    "from sklearn.model_selection import validation_curve\n",
    "\n",
    "vtrain_scores, test_scores = \\\n",
    "    validation_curve(estimator=pipe_lasso,\n",
    "                     X=X_dev,\n",
    "                     y=y_dev,\n",
    "                     param_name='lasso__alpha',\n",
    "                     param_range=lambdas,\n",
    "                     scoring='neg_mean_squared_error',                 \n",
    "                     cv=5)\n",
    "vtrain_scores, test_scores\n",
    "\n",
    "mse_score = pd.DataFrame({'Train':-vtrain_scores.mean(axis=1),\n",
    "                          'Validation':-test_scores.mean(axis=1),\n",
    "                          'lambda':lambdas})\\\n",
    "              .set_index('lambda')   \n",
    "print(mse_score.Validation.nsmallest(1))"
   ]
  },
  {
   "cell_type": "markdown",
   "metadata": {},
   "source": [
    "When you have *more than one* hyperparameter, you will want to fit the model to all the possible combinations of hyperparameters. This is done in an approch called `Grid Search`, which is implementet in `sklearn.model_selection` as `GridSearchCV`\n",
    "\n",
    "> **Ex. 13.1.5:** To get to know `Grid Search` we want to implement in one dimension. Using `GridSearchCV` implement the Lasso, with the same lambdas as before (`lambdas =  np.logspace(-4, 4, 12)`), 10-fold CV and (negative) mean squared error as the scoring variable. Which value of Lambda gives the lowest test error? "
   ]
  },
  {
   "cell_type": "code",
   "execution_count": 114,
   "metadata": {},
   "outputs": [
    {
     "data": {
      "text/plain": [
       "{'lasso__alpha': 0.01519911082952933}"
      ]
     },
     "execution_count": 114,
     "metadata": {},
     "output_type": "execute_result"
    }
   ],
   "source": [
    "from sklearn.model_selection import GridSearchCV\n",
    "\n",
    "\n",
    "gs = GridSearchCV(estimator=pipe_lasso, \n",
    "                  param_grid={'lasso__alpha':np.logspace(-4,4,12)}, \n",
    "                  scoring='neg_mean_squared_error', \n",
    "                  n_jobs=4,\n",
    "                  iid=False,\n",
    "                  cv=10)\n",
    "\n",
    "gs.fit(X_dev, y_dev)\n",
    "\n"
   ]
  },
  {
   "cell_type": "code",
   "execution_count": 115,
   "metadata": {},
   "outputs": [
    {
     "data": {
      "text/plain": [
       "{'lasso__alpha': 0.01519911082952933}"
      ]
     },
     "execution_count": 115,
     "metadata": {},
     "output_type": "execute_result"
    }
   ],
   "source": [
    "gs.best_score_\n",
    "gs.best_params_\n"
   ]
  },
  {
   "cell_type": "markdown",
   "metadata": {},
   "source": [
    "> **Ex. 13.1.6 BONUS** Expand the Lasso pipe from the last excercise with a Principal Component Analisys (PCA), and expand the Grid Search to searching in two dimensions (both along the values of lambda and the values of principal components (n_components)). Is `n_components` a hyperparameter? Which hyperparameters does the Grid Search select as the best?\n",
    "\n",
    "> *About PCA*: Principal Component Analysis, or PCA, is a dimensionality-reduction method that is often used to reduce the dimensionality of large data sets, by transforming a large set of variables into a smaller one that still contains most of the information in the large set. Read more about it online e.g. [here](https://towardsdatascience.com/a-step-by-step-explanation-of-principal-component-analysis-b836fb9c97e2)\n",
    "\n",
    "> NB. This might take a while to calculate. "
   ]
  },
  {
   "cell_type": "code",
   "execution_count": 16,
   "metadata": {},
   "outputs": [],
   "source": [
    "# [Answer to Ex. 13.1.6]"
   ]
  },
  {
   "cell_type": "markdown",
   "metadata": {},
   "source": [
    "> **Ex. 13.1.7 BONUS** repeat the previous now with RandomizedSearchCV with 20 iterations."
   ]
  },
  {
   "cell_type": "code",
   "execution_count": 18,
   "metadata": {},
   "outputs": [],
   "source": [
    "# [Answer to Ex. 13.1.7]"
   ]
  },
  {
   "cell_type": "markdown",
   "metadata": {},
   "source": [
    "\n",
    "\n",
    "> **Ex. 13.1.8 BONUS** read about nested cross validation. How might we implement this in answer 13.1.6?\n"
   ]
  },
  {
   "cell_type": "code",
   "execution_count": 20,
   "metadata": {},
   "outputs": [],
   "source": [
    "# [Answer to Ex. 13.1.8]"
   ]
  }
 ],
 "metadata": {
  "kernelspec": {
   "display_name": "Python 3",
   "language": "python",
   "name": "python3"
  },
  "language_info": {
   "codemirror_mode": {
    "name": "ipython",
    "version": 3
   },
   "file_extension": ".py",
   "mimetype": "text/x-python",
   "name": "python",
   "nbconvert_exporter": "python",
   "pygments_lexer": "ipython3",
   "version": "3.7.3"
  },
  "nav_menu": {},
  "toc": {
   "navigate_menu": true,
   "number_sections": false,
   "sideBar": true,
   "threshold": 6,
   "toc_cell": false,
   "toc_section_display": "block",
   "toc_window_display": true
  }
 },
 "nbformat": 4,
 "nbformat_minor": 2
}

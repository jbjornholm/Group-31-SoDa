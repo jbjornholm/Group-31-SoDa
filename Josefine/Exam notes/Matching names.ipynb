{
 "cells": [
  {
   "cell_type": "markdown",
   "metadata": {},
   "source": [
    "# Determinig names of our actors and actresses"
   ]
  },
  {
   "cell_type": "code",
   "execution_count": null,
   "metadata": {},
   "outputs": [],
   "source": [
    "## Standard stuff:\n",
    "import numpy as np, seaborn as sns, pandas as pd\n",
    "## For text classification:\n",
    "import nltk, nltk.sentiment, sklearn\n",
    "%matplotlib inline\n",
    "import random \n",
    "from nltk.corpus import names \n",
    "import nltk \n",
    "import random\n",
    "import pandas as pd"
   ]
  },
  {
   "cell_type": "code",
   "execution_count": null,
   "metadata": {},
   "outputs": [],
   "source": [
    "df = pd.read_csv('movie.csv')"
   ]
  },
  {
   "cell_type": "code",
   "execution_count": null,
   "metadata": {},
   "outputs": [],
   "source": [
    "from nltk.tokenize import TweetTokenizer \n",
    "\n",
    "token = nltk.tokenize.TweetTokenizer()\n",
    "\n",
    "def preprocessing(string): \n",
    "    v1 = string.lower()\n",
    "    v2 = token.tokenize(v1)\n",
    "    \n",
    "    return v2\n",
    "\n",
    "def preprocessing_full(string): \n",
    "    v1 = string.lower()\n",
    "    v2 = v1[:-2].strip()\n",
    "    return v2"
   ]
  },
  {
   "cell_type": "code",
   "execution_count": null,
   "metadata": {},
   "outputs": [],
   "source": []
  },
  {
   "cell_type": "code",
   "execution_count": null,
   "metadata": {},
   "outputs": [],
   "source": [
    "nltk.download('names')\n",
    "name = nltk.corpus.names\n",
    "\n",
    "name.fileids()"
   ]
  },
  {
   "cell_type": "code",
   "execution_count": null,
   "metadata": {},
   "outputs": [],
   "source": [
    "female_names = name.words('female.txt')\n",
    "male_names = name.words('male.txt')\n",
    "\n",
    "#female = set([x.lower() for x in female_names])\n",
    "#male = set([x.lower() for x in male_names])\n",
    "\n",
    "#test = []\n",
    "#for i in range(10000): \n",
    "#    if (df['female'] ==1 & df['male'] == 1) & (df['Female actor'] == 'Nan') & df['Male actor'] == 1: \n",
    "#        v1 = 'M'\n",
    "#if df['female'] == 0 & df['male'] == 1 & df['Female actor'] == 'Nan' & df['Male actor'] == 1: \n",
    "#        v1 = 'M'\n",
    "#    v1 = df['female'][i] != df['Female actor'][i]\n",
    "#    test.append(v1)"
   ]
  },
  {
   "cell_type": "markdown",
   "metadata": {},
   "source": [
    "# Reading and converting female first names"
   ]
  },
  {
   "cell_type": "code",
   "execution_count": null,
   "metadata": {},
   "outputs": [],
   "source": [
    "with open('all_female.txt') as f:\n",
    "    actresses = f.read()\n",
    "    \n",
    "all_female= [] \n",
    "for i in range(0,5127): \n",
    "    if i == 0: \n",
    "        v1 = actresses.split(',')[i].strip()[2:-1]\n",
    "        all_female.append(v1)\n",
    "    else: \n",
    "        v2 = actresses.split(',')[i].strip()[1:-1]\n",
    "        all_female.append(v2)"
   ]
  },
  {
   "cell_type": "code",
   "execution_count": null,
   "metadata": {},
   "outputs": [],
   "source": [
    "female = [x.lower() for x in all_female]\n",
    "\n",
    "female_set = set(female)\n",
    "print(len(female_set))\n",
    "len(female)"
   ]
  },
  {
   "cell_type": "markdown",
   "metadata": {},
   "source": [
    "## Reading and converting full female actress names "
   ]
  },
  {
   "cell_type": "code",
   "execution_count": null,
   "metadata": {},
   "outputs": [],
   "source": [
    "with open('female_name.txt') as f:\n",
    "    female_full_name = f.read()\n",
    "    \n",
    "actresses_fn = [] \n",
    "for i in range(0,606): \n",
    "    if i == 0: \n",
    "        v1 = female_full_name.split(',')[i].strip()[2:-1]\n",
    "        actresses_fn.append(v1)\n",
    "    else: \n",
    "        v2 = female_full_name.split(',')[i].strip()[1:-1]\n",
    "        actresses_fn.append(v2)"
   ]
  },
  {
   "cell_type": "code",
   "execution_count": null,
   "metadata": {},
   "outputs": [],
   "source": [
    "actresses = [x.lower() for x in actresses_fn]\n",
    "\n",
    "actresses_set = set(actresses)\n",
    "print(len(actresses_set))\n",
    "len(actresses)"
   ]
  },
  {
   "cell_type": "markdown",
   "metadata": {},
   "source": [
    "# Reading and converting male names\n"
   ]
  },
  {
   "cell_type": "code",
   "execution_count": null,
   "metadata": {},
   "outputs": [],
   "source": [
    "with open('all_male.txt') as f:\n",
    "    actors = f.read()\n",
    "    \n",
    "all_male= [] \n",
    "for i in range(0,3049): \n",
    "    if i == 0: \n",
    "        v1 = actors.split(',')[i].strip()[2:-1]\n",
    "        all_male.append(v1)\n",
    "    else: \n",
    "        v2 = actors.split(',')[i].strip()[1:-1]\n",
    "        all_male.append(v2)\n",
    "        \n"
   ]
  },
  {
   "cell_type": "code",
   "execution_count": null,
   "metadata": {},
   "outputs": [],
   "source": [
    "male = [x.lower() for x in all_male]\n",
    "male_set = set(male)"
   ]
  },
  {
   "cell_type": "markdown",
   "metadata": {},
   "source": [
    "## Reading and converting full male actors names "
   ]
  },
  {
   "cell_type": "code",
   "execution_count": null,
   "metadata": {},
   "outputs": [],
   "source": [
    "with open('male_name.txt') as f:\n",
    "    male_full_name = f.read()\n",
    "    \n",
    "actors_fn = [] \n",
    "for i in range(0,606): \n",
    "    if i == 0: \n",
    "        v1 = male_full_name.split(',')[i].strip()[2:-1]\n",
    "        actors_fn.append(v1)\n",
    "    else: \n",
    "        v2 = male_full_name.split(',')[i].strip()[1:-1]\n",
    "        actors_fn.append(v2)"
   ]
  },
  {
   "cell_type": "code",
   "execution_count": null,
   "metadata": {},
   "outputs": [],
   "source": [
    "actors = [x.lower() for x in actors_fn]\n",
    "\n",
    "actors_set = set(actors)\n",
    "print(len(actors_set))\n",
    "actors.index('tim robbins')\n"
   ]
  },
  {
   "cell_type": "code",
   "execution_count": null,
   "metadata": {},
   "outputs": [],
   "source": [
    "data = df['Top Star'].apply(preprocessing)\n",
    "data1 = df['Top Star'].apply(preprocessing_full)\n",
    "data1.head()\n",
    "\n",
    "data1.loc[0]"
   ]
  },
  {
   "cell_type": "code",
   "execution_count": null,
   "metadata": {},
   "outputs": [],
   "source": [
    "def count_dictionary(dictornary, document):\n",
    "    filtered_doc = [x for x in document if x in dictonary]\n",
    "    return len(filtered_doc)#, filtered_doc\n"
   ]
  },
  {
   "cell_type": "code",
   "execution_count": null,
   "metadata": {},
   "outputs": [],
   "source": [
    "#df['female'] = data.apply(count_dictionary, dictonary = female_set)\n",
    "#df['male'] = data.apply(count_dictionary, dictonary = male_set)\n",
    "#df['female_2'] =data1.apply(count_dictionary, dictonary = actresses_set)\n",
    "#df['male_2'] =data1.apply(count_dictionary, dictonary = actors_set)\n",
    "\n",
    "# LOOKS UP IF NAME IN DF IS ON FULL NAME ACTORS LIST \n",
    "male_actor = []\n",
    "for i in range(10000): \n",
    "    if (data1.loc[i] in actors): \n",
    "        v1 = 1\n",
    "        male_actor.append(v1)\n",
    "    else: \n",
    "        v2 = 0\n",
    "        male_actor.append(v2)\n",
    "        \n",
    "df['Male_actor'] = pd.DataFrame(male_actor)\n",
    "\n",
    "# LOOKS UP IF NAME IN DF IS ON FULL NAME ACTORESS LIST \n",
    "female_actor = []\n",
    "for i in range(10000): \n",
    "    if (data1.loc[i] in actresses): \n",
    "        v1 = 1\n",
    "        female_actor.append(v1)\n",
    "    else: \n",
    "        v2 = 0\n",
    "        female_actor.append(v2)\n",
    "        \n",
    "df['Female_actor'] = pd.DataFrame(female_actor)"
   ]
  },
  {
   "cell_type": "code",
   "execution_count": null,
   "metadata": {},
   "outputs": [],
   "source": [
    "df.head(1)"
   ]
  },
  {
   "cell_type": "code",
   "execution_count": null,
   "metadata": {},
   "outputs": [],
   "source": [
    "# MAKES A COLUMN THAT INDICATES WETHER A GENDER HAS BEEN ASSIGNED \n",
    "df['test'] = df.apply(lambda row: row.Female_actor + row.Male_actor, axis=1)\n",
    "# IF 'test'==0 NO GENDER HAS BEEN ASSIGNED \n",
    "df.loc[df.test ==0, 'test'].count()"
   ]
  },
  {
   "cell_type": "code",
   "execution_count": 87,
   "metadata": {},
   "outputs": [
    {
     "data": {
      "text/html": [
       "<div>\n",
       "<style scoped>\n",
       "    .dataframe tbody tr th:only-of-type {\n",
       "        vertical-align: middle;\n",
       "    }\n",
       "\n",
       "    .dataframe tbody tr th {\n",
       "        vertical-align: top;\n",
       "    }\n",
       "\n",
       "    .dataframe thead th {\n",
       "        text-align: right;\n",
       "    }\n",
       "</style>\n",
       "<table border=\"1\" class=\"dataframe\">\n",
       "  <thead>\n",
       "    <tr style=\"text-align: right;\">\n",
       "      <th></th>\n",
       "      <th>Unnamed: 0</th>\n",
       "      <th>Title</th>\n",
       "      <th>Year</th>\n",
       "      <th>Genre</th>\n",
       "      <th>Rating</th>\n",
       "      <th>Gross</th>\n",
       "      <th>Director</th>\n",
       "      <th>Summary</th>\n",
       "      <th>Top Star</th>\n",
       "      <th>Star 2</th>\n",
       "      <th>Star 3</th>\n",
       "      <th>Star 4</th>\n",
       "      <th>Male_actor</th>\n",
       "      <th>Female_actor</th>\n",
       "      <th>test</th>\n",
       "    </tr>\n",
       "  </thead>\n",
       "  <tbody>\n",
       "    <tr>\n",
       "      <th>0</th>\n",
       "      <td>0</td>\n",
       "      <td>En verden udenfor</td>\n",
       "      <td>1994</td>\n",
       "      <td>Drama</td>\n",
       "      <td>9.3</td>\n",
       "      <td>$28.34M</td>\n",
       "      <td>Frank Darabont</td>\n",
       "      <td>Two imprisoned men bond over a number of years...</td>\n",
       "      <td>Tim Robbins,</td>\n",
       "      <td>Morgan Freeman,</td>\n",
       "      <td>Bob Gunton,</td>\n",
       "      <td>William Sadler</td>\n",
       "      <td>1</td>\n",
       "      <td>0</td>\n",
       "      <td>1</td>\n",
       "    </tr>\n",
       "  </tbody>\n",
       "</table>\n",
       "</div>"
      ],
      "text/plain": [
       "   Unnamed: 0              Title  Year  Genre  Rating    Gross  \\\n",
       "0           0  En verden udenfor  1994  Drama     9.3  $28.34M   \n",
       "\n",
       "         Director                                            Summary  \\\n",
       "0  Frank Darabont  Two imprisoned men bond over a number of years...   \n",
       "\n",
       "        Top Star            Star 2        Star 3          Star 4  Male_actor  \\\n",
       "0  Tim Robbins,   Morgan Freeman,   Bob Gunton,   William Sadler           1   \n",
       "\n",
       "   Female_actor  test  \n",
       "0             0     1  "
      ]
     },
     "execution_count": 87,
     "metadata": {},
     "output_type": "execute_result"
    }
   ],
   "source": []
  },
  {
   "cell_type": "code",
   "execution_count": 88,
   "metadata": {},
   "outputs": [
    {
     "name": "stdout",
     "output_type": "stream",
     "text": [
      "2134\n",
      "636\n",
      "1069\n",
      "1351\n"
     ]
    },
    {
     "name": "stderr",
     "output_type": "stream",
     "text": [
      "/Users/josefinebjornholm/anaconda3/lib/python3.7/site-packages/ipykernel_launcher.py:6: SettingWithCopyWarning: \n",
      "A value is trying to be set on a copy of a slice from a DataFrame.\n",
      "Try using .loc[row_indexer,col_indexer] = value instead\n",
      "\n",
      "See the caveats in the documentation: http://pandas.pydata.org/pandas-docs/stable/indexing.html#indexing-view-versus-copy\n",
      "  \n",
      "/Users/josefinebjornholm/anaconda3/lib/python3.7/site-packages/ipykernel_launcher.py:7: SettingWithCopyWarning: \n",
      "A value is trying to be set on a copy of a slice from a DataFrame.\n",
      "Try using .loc[row_indexer,col_indexer] = value instead\n",
      "\n",
      "See the caveats in the documentation: http://pandas.pydata.org/pandas-docs/stable/indexing.html#indexing-view-versus-copy\n",
      "  import sys\n"
     ]
    }
   ],
   "source": [
    "#SELECTING THE ROWS THAT ARE NOT YET ASSIGNED A GENDER\n",
    "df_ng = df.loc[(df['test'] == 0)]\n",
    "df_ng\n",
    "\n",
    "#ASSIGNS GENDER TO THESE ROWS\n",
    "df_ng['female'] = data.apply(count_dictionary, dictonary = female_set)\n",
    "df_ng['male'] = data.apply(count_dictionary, dictonary = male_set)\n",
    "\n",
    "#GENERATES LISTS THAT INDICATE HOW MANY ROWS HAVE NOT BEEN ASSIGNED GENDER \n",
    "#OR HAS BEEN A ASSIGNED MULTIPLE GENDERS\n",
    "sure_male = df_ng.loc[(df_ng['female']==0) & (df_ng['male']>=1)]\n",
    "sure_female = df_ng.loc[(df_ng['female']>=1)&(df_ng['male']==0)]\n",
    "neutral_gender = df_ng.loc[(df_ng['female']>=1)&(df_ng['male']>=1)]\n",
    "no_gender = df_ng.loc[(df_ng['female']==0)&(df_ng['male']==0)]\n",
    "\n",
    "print(sure_male['male'].count()) #NUMBER OG ROWS THAT ARE UNIQUELY IDENTIFIED AS MALE\n",
    "print(sure_female['male'].count()) #NUMBER OG ROWS THAT ARE UNIQUELY IDENTIFIED AS FEMALE\n",
    "print(neutral_gender['male'].count()) #NUMBER OG ROWS THAT ARE IDENTIFIED AS BOTH MALE AND FEMALE\n",
    "print(no_gender['male'].count()) #NUMBER OG ROWS WITH NO ASSIGNED GENDER\n"
   ]
  },
  {
   "cell_type": "code",
   "execution_count": 89,
   "metadata": {},
   "outputs": [
    {
     "data": {
      "text/plain": [
       "4810"
      ]
     },
     "execution_count": 89,
     "metadata": {},
     "output_type": "execute_result"
    }
   ],
   "source": [
    "#DEFINE DATAFRAME WITH ONLY THE OBSERVATIONS THAT WERE IDENTIFYED BY FULL NAME \n",
    "df_true = df.drop(df[df.test == 0].index)\n",
    "\n",
    "len(df_true)"
   ]
  },
  {
   "cell_type": "code",
   "execution_count": 161,
   "metadata": {},
   "outputs": [],
   "source": [
    "import pandas as pd\n",
    "import matplotlib.pyplot as plt\n",
    "from cycler import cycler\n",
    "import numpy as np\n",
    "\n",
    "#GENERATE DATASET WITH ONLY FEMALES AND YEAR \n",
    "\n",
    "#year_male = df_gender.groupby(['Year'])['Male_actor'].size()\n",
    "year_female = df_true.groupby(['Female_actor', 'Year']).size()#.drop(df_true[df_true.Female_actor == 0].index)\n",
    "#year_female1 = df.drop(df[df.Female_actor==0].index)\n",
    "                               #'Rating', 'Gross', 'Director','Summary', /\n",
    "                               #'Top Star', 'Star 2', 'Star 3', 'Star 4']\n",
    "male = year_female[0]\n",
    "female = year_female[1]\n",
    "f = pd.DataFrame(female)\n",
    "m = pd.DataFrame(male)\n",
    "\n",
    "merge = pd.merge(f,m, on = 'Year')\n",
    "merge.columns = [['female','male']]\n",
    "\n",
    "#data = merge.iloc[]\n",
    "data2 = merge.reset_index()\n",
    "\n",
    "df = data2.drop(data2['Year'], axis = 1)\n",
    "df['result'] = ''\n",
    "df['result'] = df.sum(1)\n",
    "\n",
    "data = pd.DataFrame(df)\n",
    "#df['percent'] = ''\n",
    "#df[[\"female\", \"male\"]] = df[[\"female\", \"male\"]].apply(pd.to_numeric)\n",
    "#df['percent'] = df['female']"
   ]
  },
  {
   "cell_type": "code",
   "execution_count": 190,
   "metadata": {},
   "outputs": [],
   "source": [
    "female_list = list(df['female'].values.flatten())\n",
    "male_list = list(df['male'].values.flatten())\n",
    "result_list = list(df['result'].values.flatten())\n",
    "\n",
    "percent_female = []\n",
    "for i in range(40): \n",
    "    v = round(female_list[i]/result_list[i]*100, 0)\n",
    "    percent_female.append(v)\n",
    "    \n",
    "percent_male = []\n",
    "for i in range(40): \n",
    "    v = round(male_list[i]/result_list[i]*100, 0)\n",
    "    percent_male.append(v)"
   ]
  },
  {
   "cell_type": "code",
   "execution_count": 203,
   "metadata": {},
   "outputs": [
    {
     "data": {
      "text/html": [
       "<div>\n",
       "<style scoped>\n",
       "    .dataframe tbody tr th:only-of-type {\n",
       "        vertical-align: middle;\n",
       "    }\n",
       "\n",
       "    .dataframe tbody tr th {\n",
       "        vertical-align: top;\n",
       "    }\n",
       "\n",
       "    .dataframe thead tr th {\n",
       "        text-align: left;\n",
       "    }\n",
       "</style>\n",
       "<table border=\"1\" class=\"dataframe\">\n",
       "  <thead>\n",
       "    <tr>\n",
       "      <th></th>\n",
       "      <th>female</th>\n",
       "      <th>male</th>\n",
       "      <th>result</th>\n",
       "      <th>male percent</th>\n",
       "      <th>female percent</th>\n",
       "    </tr>\n",
       "  </thead>\n",
       "  <tbody>\n",
       "    <tr>\n",
       "      <th>0</th>\n",
       "      <td>8</td>\n",
       "      <td>35</td>\n",
       "      <td>43</td>\n",
       "      <td>81.0</td>\n",
       "      <td>19.0</td>\n",
       "    </tr>\n",
       "    <tr>\n",
       "      <th>1</th>\n",
       "      <td>5</td>\n",
       "      <td>29</td>\n",
       "      <td>34</td>\n",
       "      <td>85.0</td>\n",
       "      <td>15.0</td>\n",
       "    </tr>\n",
       "    <tr>\n",
       "      <th>2</th>\n",
       "      <td>7</td>\n",
       "      <td>34</td>\n",
       "      <td>41</td>\n",
       "      <td>83.0</td>\n",
       "      <td>17.0</td>\n",
       "    </tr>\n",
       "    <tr>\n",
       "      <th>3</th>\n",
       "      <td>7</td>\n",
       "      <td>40</td>\n",
       "      <td>47</td>\n",
       "      <td>85.0</td>\n",
       "      <td>15.0</td>\n",
       "    </tr>\n",
       "    <tr>\n",
       "      <th>4</th>\n",
       "      <td>7</td>\n",
       "      <td>41</td>\n",
       "      <td>48</td>\n",
       "      <td>85.0</td>\n",
       "      <td>15.0</td>\n",
       "    </tr>\n",
       "  </tbody>\n",
       "</table>\n",
       "</div>"
      ],
      "text/plain": [
       "  female male result male percent female percent\n",
       "0      8   35     43         81.0           19.0\n",
       "1      5   29     34         85.0           15.0\n",
       "2      7   34     41         83.0           17.0\n",
       "3      7   40     47         85.0           15.0\n",
       "4      7   41     48         85.0           15.0"
      ]
     },
     "execution_count": 203,
     "metadata": {},
     "output_type": "execute_result"
    }
   ],
   "source": [
    "df_fp = pd.DataFrame(percent_male)\n",
    "df_mp = pd.DataFrame(percent_female)\n",
    "\n",
    "df2 = pd.merge(df_fp, df_mp, left_index=True, right_index=True)\n",
    "df2.columns= [['male percent', 'female percent']]\n",
    "\n",
    "df3 = pd.merge(df, df2, left_index = True, right_index = True)\n",
    "df3.head()"
   ]
  },
  {
   "cell_type": "code",
   "execution_count": 285,
   "metadata": {},
   "outputs": [
    {
     "data": {
      "text/plain": [
       "40"
      ]
     },
     "execution_count": 285,
     "metadata": {},
     "output_type": "execute_result"
    }
   ],
   "source": [
    "female = percent_female[:39]\n",
    "male = percent_male[:39]\n",
    "r = list(range(1980,2020))\n",
    "len(r)"
   ]
  },
  {
   "cell_type": "code",
   "execution_count": null,
   "metadata": {},
   "outputs": [
    {
     "ename": "ValueError",
     "evalue": "shape mismatch: objects cannot be broadcast to a single shape",
     "output_type": "error",
     "traceback": [
      "\u001b[0;31m---------------------------------------------------------------------------\u001b[0m",
      "\u001b[0;31mValueError\u001b[0m                                Traceback (most recent call last)",
      "\u001b[0;32m<ipython-input-29-42febe6e7bc0>\u001b[0m in \u001b[0;36m<module>\u001b[0;34m\u001b[0m\n\u001b[1;32m     13\u001b[0m \u001b[0;31m# Create PFHxA Bars\u001b[0m\u001b[0;34m\u001b[0m\u001b[0;34m\u001b[0m\u001b[0;34m\u001b[0m\u001b[0m\n\u001b[1;32m     14\u001b[0m plt.bar(r, female, color='#FF9904', edgecolor='white', width=barWidth, \n\u001b[0;32m---> 15\u001b[0;31m label=\"female\")\n\u001b[0m\u001b[1;32m     16\u001b[0m \u001b[0;31m# Create PFHpA Bars\u001b[0m\u001b[0;34m\u001b[0m\u001b[0;34m\u001b[0m\u001b[0;34m\u001b[0m\u001b[0m\n\u001b[1;32m     17\u001b[0m plt.bar(r, male, bottom=female, color='#FDDB5E', edgecolor='white', \n",
      "\u001b[0;32m~/anaconda3/lib/python3.7/site-packages/matplotlib/pyplot.py\u001b[0m in \u001b[0;36mbar\u001b[0;34m(x, height, width, bottom, align, data, **kwargs)\u001b[0m\n\u001b[1;32m   2455\u001b[0m     return gca().bar(\n\u001b[1;32m   2456\u001b[0m         \u001b[0mx\u001b[0m\u001b[0;34m,\u001b[0m \u001b[0mheight\u001b[0m\u001b[0;34m,\u001b[0m \u001b[0mwidth\u001b[0m\u001b[0;34m=\u001b[0m\u001b[0mwidth\u001b[0m\u001b[0;34m,\u001b[0m \u001b[0mbottom\u001b[0m\u001b[0;34m=\u001b[0m\u001b[0mbottom\u001b[0m\u001b[0;34m,\u001b[0m \u001b[0malign\u001b[0m\u001b[0;34m=\u001b[0m\u001b[0malign\u001b[0m\u001b[0;34m,\u001b[0m\u001b[0;34m\u001b[0m\u001b[0;34m\u001b[0m\u001b[0m\n\u001b[0;32m-> 2457\u001b[0;31m         **({\"data\": data} if data is not None else {}), **kwargs)\n\u001b[0m\u001b[1;32m   2458\u001b[0m \u001b[0;34m\u001b[0m\u001b[0m\n\u001b[1;32m   2459\u001b[0m \u001b[0;34m\u001b[0m\u001b[0m\n",
      "\u001b[0;32m~/anaconda3/lib/python3.7/site-packages/matplotlib/__init__.py\u001b[0m in \u001b[0;36minner\u001b[0;34m(ax, data, *args, **kwargs)\u001b[0m\n\u001b[1;32m   1808\u001b[0m                         \u001b[0;34m\"the Matplotlib list!)\"\u001b[0m \u001b[0;34m%\u001b[0m \u001b[0;34m(\u001b[0m\u001b[0mlabel_namer\u001b[0m\u001b[0;34m,\u001b[0m \u001b[0mfunc\u001b[0m\u001b[0;34m.\u001b[0m\u001b[0m__name__\u001b[0m\u001b[0;34m)\u001b[0m\u001b[0;34m,\u001b[0m\u001b[0;34m\u001b[0m\u001b[0;34m\u001b[0m\u001b[0m\n\u001b[1;32m   1809\u001b[0m                         RuntimeWarning, stacklevel=2)\n\u001b[0;32m-> 1810\u001b[0;31m             \u001b[0;32mreturn\u001b[0m \u001b[0mfunc\u001b[0m\u001b[0;34m(\u001b[0m\u001b[0max\u001b[0m\u001b[0;34m,\u001b[0m \u001b[0;34m*\u001b[0m\u001b[0margs\u001b[0m\u001b[0;34m,\u001b[0m \u001b[0;34m**\u001b[0m\u001b[0mkwargs\u001b[0m\u001b[0;34m)\u001b[0m\u001b[0;34m\u001b[0m\u001b[0;34m\u001b[0m\u001b[0m\n\u001b[0m\u001b[1;32m   1811\u001b[0m \u001b[0;34m\u001b[0m\u001b[0m\n\u001b[1;32m   1812\u001b[0m         inner.__doc__ = _add_data_doc(inner.__doc__,\n",
      "\u001b[0;32m~/anaconda3/lib/python3.7/site-packages/matplotlib/axes/_axes.py\u001b[0m in \u001b[0;36mbar\u001b[0;34m(self, x, height, width, bottom, align, **kwargs)\u001b[0m\n\u001b[1;32m   2249\u001b[0m         x, height, width, y, linewidth = np.broadcast_arrays(\n\u001b[1;32m   2250\u001b[0m             \u001b[0;31m# Make args iterable too.\u001b[0m\u001b[0;34m\u001b[0m\u001b[0;34m\u001b[0m\u001b[0;34m\u001b[0m\u001b[0m\n\u001b[0;32m-> 2251\u001b[0;31m             np.atleast_1d(x), height, width, y, linewidth)\n\u001b[0m\u001b[1;32m   2252\u001b[0m \u001b[0;34m\u001b[0m\u001b[0m\n\u001b[1;32m   2253\u001b[0m         \u001b[0;31m# Now that units have been converted, set the tick locations.\u001b[0m\u001b[0;34m\u001b[0m\u001b[0;34m\u001b[0m\u001b[0;34m\u001b[0m\u001b[0m\n",
      "\u001b[0;32m~/anaconda3/lib/python3.7/site-packages/numpy/lib/stride_tricks.py\u001b[0m in \u001b[0;36mbroadcast_arrays\u001b[0;34m(*args, **kwargs)\u001b[0m\n\u001b[1;32m    257\u001b[0m     \u001b[0margs\u001b[0m \u001b[0;34m=\u001b[0m \u001b[0;34m[\u001b[0m\u001b[0mnp\u001b[0m\u001b[0;34m.\u001b[0m\u001b[0marray\u001b[0m\u001b[0;34m(\u001b[0m\u001b[0m_m\u001b[0m\u001b[0;34m,\u001b[0m \u001b[0mcopy\u001b[0m\u001b[0;34m=\u001b[0m\u001b[0;32mFalse\u001b[0m\u001b[0;34m,\u001b[0m \u001b[0msubok\u001b[0m\u001b[0;34m=\u001b[0m\u001b[0msubok\u001b[0m\u001b[0;34m)\u001b[0m \u001b[0;32mfor\u001b[0m \u001b[0m_m\u001b[0m \u001b[0;32min\u001b[0m \u001b[0margs\u001b[0m\u001b[0;34m]\u001b[0m\u001b[0;34m\u001b[0m\u001b[0;34m\u001b[0m\u001b[0m\n\u001b[1;32m    258\u001b[0m \u001b[0;34m\u001b[0m\u001b[0m\n\u001b[0;32m--> 259\u001b[0;31m     \u001b[0mshape\u001b[0m \u001b[0;34m=\u001b[0m \u001b[0m_broadcast_shape\u001b[0m\u001b[0;34m(\u001b[0m\u001b[0;34m*\u001b[0m\u001b[0margs\u001b[0m\u001b[0;34m)\u001b[0m\u001b[0;34m\u001b[0m\u001b[0;34m\u001b[0m\u001b[0m\n\u001b[0m\u001b[1;32m    260\u001b[0m \u001b[0;34m\u001b[0m\u001b[0m\n\u001b[1;32m    261\u001b[0m     \u001b[0;32mif\u001b[0m \u001b[0mall\u001b[0m\u001b[0;34m(\u001b[0m\u001b[0marray\u001b[0m\u001b[0;34m.\u001b[0m\u001b[0mshape\u001b[0m \u001b[0;34m==\u001b[0m \u001b[0mshape\u001b[0m \u001b[0;32mfor\u001b[0m \u001b[0marray\u001b[0m \u001b[0;32min\u001b[0m \u001b[0margs\u001b[0m\u001b[0;34m)\u001b[0m\u001b[0;34m:\u001b[0m\u001b[0;34m\u001b[0m\u001b[0;34m\u001b[0m\u001b[0m\n",
      "\u001b[0;32m~/anaconda3/lib/python3.7/site-packages/numpy/lib/stride_tricks.py\u001b[0m in \u001b[0;36m_broadcast_shape\u001b[0;34m(*args)\u001b[0m\n\u001b[1;32m    191\u001b[0m     \u001b[0;31m# use the old-iterator because np.nditer does not handle size 0 arrays\u001b[0m\u001b[0;34m\u001b[0m\u001b[0;34m\u001b[0m\u001b[0;34m\u001b[0m\u001b[0m\n\u001b[1;32m    192\u001b[0m     \u001b[0;31m# consistently\u001b[0m\u001b[0;34m\u001b[0m\u001b[0;34m\u001b[0m\u001b[0;34m\u001b[0m\u001b[0m\n\u001b[0;32m--> 193\u001b[0;31m     \u001b[0mb\u001b[0m \u001b[0;34m=\u001b[0m \u001b[0mnp\u001b[0m\u001b[0;34m.\u001b[0m\u001b[0mbroadcast\u001b[0m\u001b[0;34m(\u001b[0m\u001b[0;34m*\u001b[0m\u001b[0margs\u001b[0m\u001b[0;34m[\u001b[0m\u001b[0;34m:\u001b[0m\u001b[0;36m32\u001b[0m\u001b[0;34m]\u001b[0m\u001b[0;34m)\u001b[0m\u001b[0;34m\u001b[0m\u001b[0;34m\u001b[0m\u001b[0m\n\u001b[0m\u001b[1;32m    194\u001b[0m     \u001b[0;31m# unfortunately, it cannot handle 32 or more arguments directly\u001b[0m\u001b[0;34m\u001b[0m\u001b[0;34m\u001b[0m\u001b[0;34m\u001b[0m\u001b[0m\n\u001b[1;32m    195\u001b[0m     \u001b[0;32mfor\u001b[0m \u001b[0mpos\u001b[0m \u001b[0;32min\u001b[0m \u001b[0mrange\u001b[0m\u001b[0;34m(\u001b[0m\u001b[0;36m32\u001b[0m\u001b[0;34m,\u001b[0m \u001b[0mlen\u001b[0m\u001b[0;34m(\u001b[0m\u001b[0margs\u001b[0m\u001b[0;34m)\u001b[0m\u001b[0;34m,\u001b[0m \u001b[0;36m31\u001b[0m\u001b[0;34m)\u001b[0m\u001b[0;34m:\u001b[0m\u001b[0;34m\u001b[0m\u001b[0;34m\u001b[0m\u001b[0m\n",
      "\u001b[0;31mValueError\u001b[0m: shape mismatch: objects cannot be broadcast to a single shape"
     ]
    }
   ],
   "source": [
    "import numpy as np\n",
    "import matplotlib.pyplot as plt\n",
    "from matplotlib import rc\n",
    "import pandas as pd\n",
    "\n",
    "# Data\n",
    "r = list(range(39))\n",
    "\n",
    "# plot\n",
    "barWidth = 0.85\n",
    "names = list(range(39))\n",
    "plt.figure(figsize=(20,10))\n",
    "# Create PFHxA Bars\n",
    "plt.bar(r, female, color='#FF9904', edgecolor='white', width=barWidth, \n",
    "label=\"female\")\n",
    "# Create PFHpA Bars\n",
    "plt.bar(r, male, bottom=female, color='#FDDB5E', edgecolor='white', \n",
    "width=barWidth, label=\"male\")\n",
    "\n",
    "\n",
    "# Custom x axis\n",
    "plt.xticks(r, names)\n",
    "plt.xlabel(\"Years\")\n",
    "\n",
    "# Custom y axis\n",
    "plt.ylabel(\"Percent\")\n",
    "\n",
    "# Add a legend\n",
    "plt.legend(loc='upper left', bbox_to_anchor=(1,1), ncol=1)\n",
    "\n",
    "# Show graphic"
   ]
  },
  {
   "cell_type": "code",
   "execution_count": null,
   "metadata": {},
   "outputs": [],
   "source": []
  },
  {
   "cell_type": "code",
   "execution_count": null,
   "metadata": {},
   "outputs": [],
   "source": [
    "\n"
   ]
  },
  {
   "cell_type": "code",
   "execution_count": null,
   "metadata": {},
   "outputs": [],
   "source": []
  },
  {
   "cell_type": "code",
   "execution_count": null,
   "metadata": {},
   "outputs": [],
   "source": []
  }
 ],
 "metadata": {
  "kernelspec": {
   "display_name": "Python 3",
   "language": "python",
   "name": "python3"
  },
  "language_info": {
   "codemirror_mode": {
    "name": "ipython",
    "version": 3
   },
   "file_extension": ".py",
   "mimetype": "text/x-python",
   "name": "python",
   "nbconvert_exporter": "python",
   "pygments_lexer": "ipython3",
   "version": "3.7.3"
  }
 },
 "nbformat": 4,
 "nbformat_minor": 2
}

{
 "cells": [
  {
   "cell_type": "code",
   "execution_count": 7,
   "metadata": {},
   "outputs": [],
   "source": [
    "## Standard stuff:\n",
    "import numpy as np, seaborn as sns, pandas as pd\n",
    "## For text classification:\n",
    "import nltk, nltk.sentiment, sklearn\n",
    "%matplotlib inline\n",
    "import random \n",
    "from nltk.corpus import names \n",
    "import nltk \n",
    "import random\n",
    "import pandas as pd\n",
    "import nltk, nltk.sentiment, sklearn\n",
    "%matplotlib inline"
   ]
  },
  {
   "cell_type": "code",
   "execution_count": 8,
   "metadata": {},
   "outputs": [],
   "source": [
    "df = pd.read_csv('/Users/josefinebjornholm/Documents/GitHub/Test/Group-31-SoDa/Data/movie_1.csv')"
   ]
  },
  {
   "cell_type": "code",
   "execution_count": 9,
   "metadata": {},
   "outputs": [],
   "source": [
    "df1 = df[['Female', 'd_Female','Summary', 'd_Drop']]"
   ]
  },
  {
   "cell_type": "code",
   "execution_count": 10,
   "metadata": {},
   "outputs": [
    {
     "data": {
      "text/plain": [
       "'Two imprisoned men bond over a number of years, finding solace and eventual redemption through acts of common decency.'"
      ]
     },
     "execution_count": 10,
     "metadata": {},
     "output_type": "execute_result"
    }
   ],
   "source": [
    "df1['Summary'][0]"
   ]
  },
  {
   "cell_type": "code",
   "execution_count": 19,
   "metadata": {},
   "outputs": [
    {
     "name": "stderr",
     "output_type": "stream",
     "text": [
      "[nltk_data] Downloading package vader_lexicon to\n",
      "[nltk_data]     /Users/josefinebjornholm/nltk_data...\n",
      "[nltk_data]   Package vader_lexicon is already up-to-date!\n"
     ]
    },
    {
     "data": {
      "text/html": [
       "<div>\n",
       "<style scoped>\n",
       "    .dataframe tbody tr th:only-of-type {\n",
       "        vertical-align: middle;\n",
       "    }\n",
       "\n",
       "    .dataframe tbody tr th {\n",
       "        vertical-align: top;\n",
       "    }\n",
       "\n",
       "    .dataframe thead th {\n",
       "        text-align: right;\n",
       "    }\n",
       "</style>\n",
       "<table border=\"1\" class=\"dataframe\">\n",
       "  <thead>\n",
       "    <tr style=\"text-align: right;\">\n",
       "      <th></th>\n",
       "      <th>Female</th>\n",
       "      <th>d_Female</th>\n",
       "      <th>Summary</th>\n",
       "      <th>d_Drop</th>\n",
       "      <th>vader_compound</th>\n",
       "      <th>vader_neg</th>\n",
       "      <th>vader_neu</th>\n",
       "      <th>vader_pos</th>\n",
       "    </tr>\n",
       "  </thead>\n",
       "  <tbody>\n",
       "    <tr>\n",
       "      <th>0</th>\n",
       "      <td>0.0</td>\n",
       "      <td>0.0</td>\n",
       "      <td>Two imprisoned men bond over a number of years...</td>\n",
       "      <td>0.0</td>\n",
       "      <td>-0.4019</td>\n",
       "      <td>0.148</td>\n",
       "      <td>0.788</td>\n",
       "      <td>0.064</td>\n",
       "    </tr>\n",
       "    <tr>\n",
       "      <th>1</th>\n",
       "      <td>0.0</td>\n",
       "      <td>0.0</td>\n",
       "      <td>When the menace known as The Joker emerges fro...</td>\n",
       "      <td>0.0</td>\n",
       "      <td>-0.8176</td>\n",
       "      <td>0.286</td>\n",
       "      <td>0.536</td>\n",
       "      <td>0.178</td>\n",
       "    </tr>\n",
       "    <tr>\n",
       "      <th>2</th>\n",
       "      <td>0.0</td>\n",
       "      <td>0.0</td>\n",
       "      <td>A thief who steals corporate secrets through t...</td>\n",
       "      <td>0.0</td>\n",
       "      <td>-0.7717</td>\n",
       "      <td>0.226</td>\n",
       "      <td>0.774</td>\n",
       "      <td>0.000</td>\n",
       "    </tr>\n",
       "    <tr>\n",
       "      <th>3</th>\n",
       "      <td>0.0</td>\n",
       "      <td>0.0</td>\n",
       "      <td>An insomniac office worker and a devil-may-car...</td>\n",
       "      <td>0.0</td>\n",
       "      <td>-0.3818</td>\n",
       "      <td>0.126</td>\n",
       "      <td>0.874</td>\n",
       "      <td>0.000</td>\n",
       "    </tr>\n",
       "    <tr>\n",
       "      <th>4</th>\n",
       "      <td>0.0</td>\n",
       "      <td>0.0</td>\n",
       "      <td>The lives of two mob hitmen, a boxer, a gangst...</td>\n",
       "      <td>0.0</td>\n",
       "      <td>-0.6249</td>\n",
       "      <td>0.151</td>\n",
       "      <td>0.849</td>\n",
       "      <td>0.000</td>\n",
       "    </tr>\n",
       "    <tr>\n",
       "      <th>5</th>\n",
       "      <td>0.0</td>\n",
       "      <td>0.0</td>\n",
       "      <td>The presidencies of Kennedy and Johnson, the e...</td>\n",
       "      <td>0.0</td>\n",
       "      <td>0.0000</td>\n",
       "      <td>0.000</td>\n",
       "      <td>1.000</td>\n",
       "      <td>0.000</td>\n",
       "    </tr>\n",
       "  </tbody>\n",
       "</table>\n",
       "</div>"
      ],
      "text/plain": [
       "   Female  d_Female                                            Summary  \\\n",
       "0     0.0       0.0  Two imprisoned men bond over a number of years...   \n",
       "1     0.0       0.0  When the menace known as The Joker emerges fro...   \n",
       "2     0.0       0.0  A thief who steals corporate secrets through t...   \n",
       "3     0.0       0.0  An insomniac office worker and a devil-may-car...   \n",
       "4     0.0       0.0  The lives of two mob hitmen, a boxer, a gangst...   \n",
       "5     0.0       0.0  The presidencies of Kennedy and Johnson, the e...   \n",
       "\n",
       "   d_Drop  vader_compound  vader_neg  vader_neu  vader_pos  \n",
       "0     0.0         -0.4019      0.148      0.788      0.064  \n",
       "1     0.0         -0.8176      0.286      0.536      0.178  \n",
       "2     0.0         -0.7717      0.226      0.774      0.000  \n",
       "3     0.0         -0.3818      0.126      0.874      0.000  \n",
       "4     0.0         -0.6249      0.151      0.849      0.000  \n",
       "5     0.0          0.0000      0.000      1.000      0.000  "
      ]
     },
     "execution_count": 19,
     "metadata": {},
     "output_type": "execute_result"
    }
   ],
   "source": [
    "nltk.download('vader_lexicon')\n",
    "\n",
    "vader = nltk.sentiment.vader.SentimentIntensityAnalyzer()\n",
    "data_vader = df1['Summary'].apply(vader.polarity_scores)\n",
    "\n",
    "df1[['vader_compound','vader_neg','vader_neu','vader_pos']] = pd.DataFrame(list(data_vader))\n",
    "\n",
    "df1.head(6)"
   ]
  },
  {
   "cell_type": "code",
   "execution_count": 20,
   "metadata": {},
   "outputs": [
    {
     "data": {
      "text/plain": [
       "'The presidencies of Kennedy and Johnson, the events of Vietnam, Watergate, and other history unfold through the perspective of an Alabama man with an IQ of 75.'"
      ]
     },
     "execution_count": 20,
     "metadata": {},
     "output_type": "execute_result"
    }
   ],
   "source": [
    "df1['Summary'][5]"
   ]
  },
  {
   "cell_type": "code",
   "execution_count": 24,
   "metadata": {},
   "outputs": [
    {
     "data": {
      "text/plain": [
       "'A thief who steals corporate secrets through the use of dream-sharing technology is given the inverse task of planting an idea into the mind of a C.E.O.'"
      ]
     },
     "execution_count": 24,
     "metadata": {},
     "output_type": "execute_result"
    }
   ],
   "source": [
    "df1['Summary'][2]"
   ]
  },
  {
   "cell_type": "code",
   "execution_count": 30,
   "metadata": {},
   "outputs": [
    {
     "data": {
      "text/plain": [
       "'After a devastating break up on the eve of her cross-country move, Jenny enjoys one last NYC adventure with her two best pals. Someone Great is a romantic comedy about love, loss, growth and the everlasting bond of female friendship.'"
      ]
     },
     "execution_count": 30,
     "metadata": {},
     "output_type": "execute_result"
    }
   ],
   "source": [
    "df1['Summary'][5830]"
   ]
  },
  {
   "cell_type": "code",
   "execution_count": 31,
   "metadata": {},
   "outputs": [
    {
     "data": {
      "text/html": [
       "<div>\n",
       "<style scoped>\n",
       "    .dataframe tbody tr th:only-of-type {\n",
       "        vertical-align: middle;\n",
       "    }\n",
       "\n",
       "    .dataframe tbody tr th {\n",
       "        vertical-align: top;\n",
       "    }\n",
       "\n",
       "    .dataframe thead th {\n",
       "        text-align: right;\n",
       "    }\n",
       "</style>\n",
       "<table border=\"1\" class=\"dataframe\">\n",
       "  <thead>\n",
       "    <tr style=\"text-align: right;\">\n",
       "      <th></th>\n",
       "      <th>d_Female</th>\n",
       "      <th>d_Drop</th>\n",
       "      <th>vader_compound</th>\n",
       "      <th>vader_neg</th>\n",
       "      <th>vader_neu</th>\n",
       "      <th>vader_pos</th>\n",
       "    </tr>\n",
       "    <tr>\n",
       "      <th>Female</th>\n",
       "      <th></th>\n",
       "      <th></th>\n",
       "      <th></th>\n",
       "      <th></th>\n",
       "      <th></th>\n",
       "      <th></th>\n",
       "    </tr>\n",
       "  </thead>\n",
       "  <tbody>\n",
       "    <tr>\n",
       "      <th>0.0</th>\n",
       "      <td>0.034115</td>\n",
       "      <td>0.159580</td>\n",
       "      <td>-0.127258</td>\n",
       "      <td>0.132857</td>\n",
       "      <td>0.773854</td>\n",
       "      <td>0.093280</td>\n",
       "    </tr>\n",
       "    <tr>\n",
       "      <th>1.0</th>\n",
       "      <td>0.124579</td>\n",
       "      <td>0.171236</td>\n",
       "      <td>-0.095216</td>\n",
       "      <td>0.124247</td>\n",
       "      <td>0.781079</td>\n",
       "      <td>0.094666</td>\n",
       "    </tr>\n",
       "  </tbody>\n",
       "</table>\n",
       "</div>"
      ],
      "text/plain": [
       "        d_Female    d_Drop  vader_compound  vader_neg  vader_neu  vader_pos\n",
       "Female                                                                     \n",
       "0.0     0.034115  0.159580       -0.127258   0.132857   0.773854   0.093280\n",
       "1.0     0.124579  0.171236       -0.095216   0.124247   0.781079   0.094666"
      ]
     },
     "execution_count": 31,
     "metadata": {},
     "output_type": "execute_result"
    }
   ],
   "source": [
    "df1.sort_values(by=['vader_compound'])\n",
    "df1.groupby(['Female']).mean()"
   ]
  },
  {
   "cell_type": "markdown",
   "metadata": {},
   "source": [
    "## Female words \n",
    "     - woman \n",
    "     - young  \n",
    "     - life \n",
    "     - girl \n",
    "     - love \n",
    "     - finds \n",
    "     - family \n",
    "     - must \n",
    "     - school \n",
    "     - man \n",
    "     - group\n",
    "     - mother\n",
    "     - world\n",
    "     - home\n",
    "     - story \n",
    "     - friends\n",
    "     - mysterious \n",
    "     - years\n",
    "     - city\n",
    "     - husband\n",
    "     - becomes\n"
   ]
  },
  {
   "cell_type": "markdown",
   "metadata": {},
   "source": [
    "## Male words \n",
    "    - young \n",
    "    - man \n",
    "    - life \n",
    "    - must \n",
    "    - find \n",
    "    - family \n",
    "    - world \n",
    "    - story \n",
    "    - love \n",
    "    - woman \n",
    "    - group \n",
    "    - see\n",
    "    - friends\n",
    "    - full\n",
    "    - war\n",
    "    - summary \n",
    "    - father\n",
    "    - help\n",
    "    - school\n",
    "    - becomes\n",
    "    - years\n",
    "    - wife\n",
    "    - back\n",
    "    - city"
   ]
  },
  {
   "cell_type": "code",
   "execution_count": null,
   "metadata": {},
   "outputs": [],
   "source": []
  }
 ],
 "metadata": {
  "kernelspec": {
   "display_name": "Python 3",
   "language": "python",
   "name": "python3"
  },
  "language_info": {
   "codemirror_mode": {
    "name": "ipython",
    "version": 3
   },
   "file_extension": ".py",
   "mimetype": "text/x-python",
   "name": "python",
   "nbconvert_exporter": "python",
   "pygments_lexer": "ipython3",
   "version": "3.7.3"
  }
 },
 "nbformat": 4,
 "nbformat_minor": 2
}
